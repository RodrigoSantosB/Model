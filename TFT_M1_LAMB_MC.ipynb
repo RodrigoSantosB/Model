{
  "cells": [
    {
      "cell_type": "markdown",
      "metadata": {
        "id": "HS2zqnqTp83j"
      },
      "source": [
        "# **Sumário** 📘\n",
        "\n",
        "\n",
        "1.   **Resumo**\n",
        "2.   **Introdução**\n",
        "3.   **Objetivos**\n",
        "4.   **Metodologia**\n",
        "4.   **Modelo**\n",
        "4.   **Usando o Modelo**\n",
        "5.   **Otimizando o Modelo**\n",
        "5.   **Visualisando parametros otimizados**\n",
        "5.   **Resultados**\n",
        "6.   **Referências**\n",
        "\n"
      ]
    },
    {
      "cell_type": "markdown",
      "metadata": {
        "id": "_a5XygxxnYzp"
      },
      "source": [
        "## **Ferramenta de Benchmarking para Transistores de Película Fina** ⚡\n",
        "\n",
        "## **Aluno**:\n",
        "\n",
        "Rodrigo Santos Batista – rsb6@cin.ufpe.br\n",
        "\n",
        "CIn ­ UFPE\n",
        "\n",
        "## **Projeto de Pesquisa**:\n",
        "\n",
        "Avaliação comparativa de tecnologias emergentes para computação próxima e\n",
        "\n",
        "dentro de sensores (BEeTle)\n",
        "\n",
        "## **Coordenador**:\n",
        "\n",
        "Stefan Michael Blawid – sblawid@cin.ufpe.br\n",
        "\n",
        "CIn ­ UFPE\n"
      ]
    },
    {
      "cell_type": "markdown",
      "metadata": {
        "id": "teoZkrLIvxaV"
      },
      "source": [
        "### **Resumo** 📩"
      ]
    },
    {
      "cell_type": "markdown",
      "metadata": {
        "id": "T1gfcLkSyPWh"
      },
      "source": [
        "> Transistores de película fina são chaves eletrônicas com uma corrente fluindo do terminal fonte para o terminal dreno controlada pela tensão aplicada ao terceiro terminal, a porta. Os modelos de benchmark precisam reproduzir razoavelmente bem as características de corrente-tensão (IV) dos TFTs com um número mínimo de parâmetros. Aqui, razoavelmente significa que os parâmetros do modelo podem ser extraídos de forma confiável e sem ambiguidade das curvas IV experimentais.\n",
        "\n",
        "\n",
        "\n"
      ]
    },
    {
      "cell_type": "markdown",
      "metadata": {
        "id": "HfZC11MavqP5"
      },
      "source": [
        "### **Introdução** 📢\n"
      ]
    },
    {
      "cell_type": "markdown",
      "metadata": {
        "id": "jfejU_Wbvbcg"
      },
      "source": [
        "> O paradigma da computação onipresente prevê que a computação apareça em todos os lugares a qualquer momento. A eletrônica flexível é considerada uma tecnologia facilitadora\n",
        "essencial `[1]`. A eletrônica flexível oferece diversos fatores de forma, incluindo formas suaves, flexíveis, elásticas e leves e, assim, permite que a inteligência ambiental se torne amplamente disponível. Aplicações promissoras em monitoramento de saúde, industrial, ambiental, agrícola e estrutural já foram demonstradas `[2]`. É geralmente aceito que o baixo custo necessário para os dispositivos de borda `[3]` das futuras infraestruturas da Internet das Coisas (IoT) só pode ser alcançado através da fabricação via impressão. Os blocos básicos impressos de eletrônicos flexíveis incluem sensores, coletores de energia, displays e antenas. Muitos desses componentes exigem transistores de filme fino (TFTs) como comutadores ativos. Os TFTs geralmente são comparados em diferentes dispositivos e tecnologias com base na tensão limite, mobilidade do portador de carga e resistência em série. No entanto, a extração de parâmetros convencional estabelecida para transistores de silício frequentemente leva a resultados enganosos quando aplicada a TFTs `[4]`. Algumas das peculiaridades dos TFTs podem ser abordadas pela teoria de emissão ­difusão (ED) de fonte virtual (VS) `[5]`. Em combinação com solucionadores de mínimos quadrados não lineares, os modelos de benchmark baseados em VSED podem substituir os métodos de extração convencionais e são aplicáveis a uma ampla gama de tecnologias TFT `[6]`."
      ]
    },
    {
      "cell_type": "markdown",
      "metadata": {
        "id": "Kw3wbLglv07J"
      },
      "source": [
        "### **Objetivos** 🔎\n"
      ]
    },
    {
      "cell_type": "markdown",
      "metadata": {
        "id": "aqwdc5NS_7bH"
      },
      "source": [
        "> A otimização de parâmetros dos dispositivos TFTs é um processo importante na fabricação de eletrônicos de filme fino. A principal razão para realizar esse processo é melhorar o desempenho dos dispositivos, tornando-os mais eficientes, confiáveis e econômicos. Essencialmente queremos otimizar alguns parametro imbutidos em um modelo que fornecerá os melhores resultados para produção desses dispositivos. A saber, uma forma simplificada de como o modelo opera pode ser descrita da seguinte forma `ID = F(VGS, VDS)` em que:\n",
        "> * ID → Corrente elétrica que flui entre os terminais da fonte e do dreno de um transistor de filme fino (TFT)\n",
        "\n",
        "> * VGS → Tensão aplicada ao terminal da porta do transistor, que controla a corrente que flui entre o terminal da fonte e o terminal do dreno\n",
        "\n",
        "> * VDS → Tensão aplicada ao terminal do dreno do transistor, que determina a corrente que flui entre os terminais da fonte e do dreno quando a tensão da porta é mantida constante.\n",
        "\n",
        ">Vgs e Vds são importantes para a operação do transistor TFT e para a otimização de seus parâmetros, que podem ser obtidos a partir das curvas de transferência e saída do dispositivo. A partir dessas operções, é possível obter informações sobre seus parâmetros, como Vtho, l, n, JD,leak, δ, RS, λ e Vcrit. O fato de esse parâmetros serem limitados no modelo, isso permite ajustar todos os valores simultaneamente. Por isso, a otimização dos parâmetros é realizada empregando um solucionador de mínimos quadrados não linear, que permite ajustar os parâmetros de forma eficiente e sem ambiguidade. Dessa meneira, é possível obter uma melhor compreensão do comportamento do dispositivo TFT e otimizar sua operação para aplicações específicas. Além disso, a otimização dos parâmetros também é importante para garantir a qualidade e confiabilidade do dispositivo, bem como sua integração em circuitos eletrônicos complexos.\n",
        "\n"
      ]
    },
    {
      "cell_type": "markdown",
      "metadata": {
        "id": "IHBDOV5ZwCml"
      },
      "source": [
        "### **Metodologia** 📚\n"
      ]
    },
    {
      "cell_type": "markdown",
      "metadata": {
        "id": "ioyQZpzaItji"
      },
      "source": [
        "> Para realizar essa otimização vai ser empregado o uso da biblioteca SciPy que é um módulo Python de código aberto que fornece funções e algoritmos matemáticos avançados para processamento de dados científicos e análise numérica.\n",
        "Mais especificamente, aplicaremos a função `curve_fit` que consiste em um tipo de otimização que encontra um conjunto ideal de parâmetros para uma função definida que melhor se encaixa em um determinado conjunto de observações.\n",
        "\n",
        "> Diferentemente do aprendizado supervisionado, o ajuste de curvas exige que o autor defina a função que mapeia exemplos de entradas para saídas. A função de mapeamento, também chamada de função base, pode ter qualquer forma, incluindo uma linha reta ( regressão linear ), uma linha curva ( regressão polinomial ) e muitas outras. Isso fornece flexibilidade e controle para definir a forma da curva, onde um processo de otimização é usado para encontrar os parâmetros ótimos específicos da função que para o nosso propósito será otimizar os parâmetros da função $ID = F(VGS, VDS)$ que nos fornecerá a corrente em cada par de pontos advindos do experimento realizado.\n",
        "\n",
        "> Segue um exemplo trivial de como a `curve_fit` funciona:\n",
        "\n",
        "  >  *  primeiro monta-se a curva\n",
        "  >  *  depois aplicamos a API de ajuste de curva Python\n",
        "\n",
        "\n",
        "> Dessa maneira, pensaremos no ajuste de curva em duas dimensões, como um gráfico 2D. Então, vamos considerar que uma coleta de dados foi realizada do domínio do problema com entradas e saídas.\n",
        "\n",
        "> O eixo `x é a variável independente` ou a entrada para a função. O eixo `y é a variável dependente` ou a saída da função. Não sabemos a forma da função que mapeia exemplos de entradas para saídas, mas suspeitamos que podemos aproximar a função com uma forma de função padrão. O ajuste da curva envolve primeiro definir a `forma funcional da função de mapeamento` (função base ou função objetiva), pesquisando os parâmetros na função que resultam no erro mínimo.\n",
        "\n",
        "> O erro é calculado usando as observações do domínio e passando as entradas para a nossa função de mapeamento de candidatos e calculando a saída, comparando a saída calculada com a saída observada.\n",
        "\n",
        "> Uma vez em forma, podemos usar a função de mapeamento para interpolar ou extrapolar novos pontos no domínio. É comum executar uma sequência de valores de entrada através da função de mapeamento para calcular uma sequência de saídas, em seguida se cria um gráfico de linhas do resultado para mostrar como a saída varia com a entrada e quão bem a linha se encaixa nos pontos observados.\n",
        "\n",
        "> A chave para o ajuste da curva é a forma da função de mapeamento. Uma linha reta entre entradas e saídas pode ser definida da seguinte maneira: `y = a * x + b`\n",
        "Onde `y é a saída calculada`, `x é a entrada` e `a` e `b` são parâmetros da função de mapeamento encontrada usando um algoritmo de otimização.      Isso é chamado de equação linear porque é uma soma  ponderada  das entradas. Em   um modelo de regressão linear, esses parâmetros são  referidos como coeficientes; em uma rede neural, eles são chamados de pesos.\n",
        "\n",
        "> Essa equação pode ser generalizada para qualquer número de entradas ( que é o propósito para nós ), o que significa que a noção de ajuste de curva não se limita a duas dimensões ( uma entrada e uma saída ), mas poderia ter muitas variáveis de entrada.\n",
        "\n",
        "> Uma observação importante é que adicionar funções matemáticas arbitrárias à nossa função de mapeamento geralmente significa que não podemos calcular os parâmetros analiticamente e, em vez disso, precisaremos usar um algoritmo de otimização iterativo. Isso é chamado de `mínimos quadrados não lineares`,\n",
        "como a função objetiva não é mais convexa ( não é linear ), não é tão simples de resolver.\n",
        "\n",
        "> Como para o nosso modelo os dados são bi-dimensionais, então não estamos no caso trivial. Dessa maneira, quando a passagem de dados para o modelo for dada, precisaremos realizar um pré-processamento antes, ou seja, suponha que para o nosso problema teremos as tensões Vd e  Vg como um conjunto de vetores, então essencialmente o que será computado é uma matriz $MxN$, porém a função curve_fit só calcula paramentros ideias para o caso vetorial unidimensional. Então, faremos primeiro, a alocação de todas as tensões Vg em uma matriz e o mesmo para as tensões Vd. Em seguida, usaremos a função `np.ravel()` do python para transformar um array em um array unidimensional, essa operação não afeta a integridade dos dados, apenas os redimensiona. A função ´`np.ravel()` retorna uma cópia do array original, com todos os elementos do array original \"achatados\" em um único array unidimensional. Isso significa que a função retorna um array com todas as linhas do array original concatenadas em uma única linha."
      ]
    },
    {
      "cell_type": "markdown",
      "metadata": {
        "id": "c0Jt9A63whok"
      },
      "source": [
        "### **Modelo** 🔧\n"
      ]
    },
    {
      "cell_type": "markdown",
      "metadata": {
        "id": "_r5x1sBswlA1"
      },
      "source": [
        "O modelo matemátemático no qual vamos submeter os dados experimentais será dado por um conjunto de equações, em que cada variável tem seu grau de importancia e contribuição. Segue abaixo a prototipagem dele assim como o que cada parâmentro diz sobre ele:\n",
        "\n",
        "a corrente de dreno de um TFT consiste em cargas móveis $Q_{free}$ moduladas pela tensão de porta e se movem com uma velocidade modulada pela tensão de dreno. Em altos campos elétricos de fonte de drenagem, a velocidade dos portadores de carga satura em um valor $V_{sat}$. No entanto, os portadores de carga precisam escalar uma barreira potencial no caminho da fonte para o dreno, o que representa um gargalo para o transporte do portador de carga. A taxa limitada de injeção de carga do topo da barreira de potencial de estrangulamento pode ser denominada como uma fonte virtual (VS). O modelo $V_{sed}$ modificado sugere uma forma específica da corrente de dreno por largura de porta W no VS:\n",
        "$$J_D = \\frac{I_D}{W} = V_{sat}.F_{sat}.Q_{free} $$\n",
        "\n",
        "Algumas partículas carregadas não são móveis. Em certos casos, uma cauda exponencial de estados de aprisionamento que vai da borda da banda de valência até o band gap pode relacionar a densidade livre e total de portadores de carga por uma lei de potência. Isso ocorre porque todos os estados são ocupados de acordo com o mesmo quase-nível de Fermi, como visto na Equação (B4) em [8] e\n",
        "sua derivação anterior. Assim, a equação mostra que\n",
        "$$Q_{free} = q.σ_v.\\biggl(\\frac{Q_{tot}}{q.σ_{traps}}\\biggr)^l$$\n",
        "\n",
        "Neste contexto,  $σ_V$ e $σ_{traps}$  representam a densidade dos estados de valência e armadilhas em uma única camada do semicondutor no $V_S$, respectivamente. O valor do expoente $l$ é determinado pela razão da \"temperatura\" efetiva que define a distribuição exponencial de energia dos estados de armadilhas e a temperatura do dispositivo, originada da distribuição de energia de Boltzmann dos portadores de carga livre. No entanto, como a distribuição exata de armadilhas é geralmente desconhecida, $l$ é tratado como um parâmetro do modelo. A distinção entre portadores de carga livres e aprisionados, conforme apresentado na Equação (2), é a principal adaptação do framework VSED para materiais de filmes finos proposto neste trabalho.\n",
        "\n",
        "Para um semicondutor esgotado, espera­se um acúmulo exponencial de lacunas (cargas positivas) com o aumento do campo de porta, que cessa quando a blindagem substancial pela folha de carga acumulada se estabelece. A seguinte expressão fenomenológica proposta pela primeira vez em [9] é empregada:\n",
        "$$ Q_{tot} = C_I.n.V_T.ln \\biggr[ 1 + e^{ψ.V_S − V_{GS}} . n . V_T \\biggr],$$\n",
        "$$ ψ.V_S = V_{tho} + |δ|.V_{DS}$$\n",
        "\n",
        "A capacitância do isolador da porta depende da constante dielétrica ε e da espessura tI do isolador: $C_I = \\frac{ε}{t_I}$. A tensão térmica é representada por $V_T = \\frac{kT}{q}$. A transição da acumulação fraca para forte é modelada pelos parâmetros $n, V_{th0}$ e $δ$ , sendo que o parâmetro $n$ é influenciado pelo carregamento da região semicondutora adjacente à interface do isolador da porta, preenchendo estados de superfície e afetando a taxa de flexão de banda com a polarização da porta.\n",
        "\n",
        "O potencial da interface se torna independente de VGS quando atinge um valor de polarização $ψ.V_S$, também conhecido como tensão limiar. Isso permite parametrizar o controle da barreira de potencial pela polarização da porta em TFTs. O parâmetro $ψ.V_S$ representa a polarização crítica para a qual o potencial em $V_S$ se torna independente da tensão da porta. Durante o acúmulo de lacunas na interface do isolador da porta, os parâmetros n e $l$ descrevem o carregamento dos estados de armadilhas, e a escala de tensão para o aumento exponencial da corrente de dreno com a polarização da porta é dada por $(\\frac{n}{l}).V_T$ no modelo VSED. O parâmetro $δ$ não representa necessariamente um DIBL (drain-induced barrier lowering).\n",
        "\n",
        "A velocidade de injeção de cargas $Q_{free}$ no canal do transistor é representada por $V_{inj} = V_{sat}.F_{sat}$. É comum estimar a corrente de dreno em TFTs como um movimento de deriva dos portadores de carga injetados, mas isso pode levar a uma conclusão equivocada sobre a velocidade de saturação $V_{sat}$. Enquanto em regiões de alto campo elétrico a velocidade de saturação é igual à velocidade de saturação no corpo do semicondutor, em regiões de baixo campo elétrico a velocidade de saturação é definida pela velocidade térmica unidirecional do quase potencial de Fermi e não do potencial eletrostático. Este conceito é discutido em [10]:\n",
        "$V_{sat} = \\frac{2D}{\\bar{λ}_{free}} = \\frac{2.μ.V_T}{\\bar{λ}_{free}}$\n",
        "\n",
        "que é aqui parametrizado pelo coeficiente de difusão $D$ e pode estar relacionado com a mobilidade de deriva $μ$ através da relação de Einstein. Em baixa polarização de dreno, a difusão do portador de carga é o mecanismo de transporte dominante em grande parte do TFT e não apenas no $V_S$. O comprimento característico na Eq. (5) não será mais dado pelo caminho livre\n",
        "médio $\\bar{λ}_{free}$ mas pelo comprimento de difusão. Uma vez que apenas portadores de carga de um único tipo são injetados em um semicondutor basicamente intrínseco, o comprimento de difusão pode ser muito grande e comparável à dimensão do dispositivo dada pelo comprimento da porta $L_G$. $F_{sat}$ introduz uma escala de comprimento $λ = \\frac{L_G}{\\bar{λ}_{free}}$ , que efetivamente substitui ${\\bar{λ}_{free}}$ → $L_G$ em baixa polarização de drenagem.\n",
        "\n",
        "A função restante $F_{sat}$ descreve a drenagem das lacunas acumulados. Para TFTs de canal longo, a teoria de difusão e emissão [11, 5] representa uma abordagem interessante para determinar $F_{sat}$:\n",
        "\n",
        "$$F_{sat} = \\frac{1}{1 + 2t}.\\frac{1-e^{\\Bigl(\\frac{-V_{SD}}{V_T}\\Bigl)}}{1+e^{\\Bigl(\\frac{-V_{SD}}{V_T}\\Bigl)}.\\frac{1}{1+2t}}$$\n",
        "\n",
        "Para uma polarização de dreno que exceda significativamente a tensão térmica, a função de transição é descrita por $F_{sat} = \\frac{1}{1 + 2t}$. O fator de probabilidade crítico $t$ é determinado por um fator de Boltzmann médio na região do canal controlada pela porta e pode ser obtido a partir do perfil de potencial específico. Para dispositivos de canal longo, uma forma analítica foi proposta, que pode ser encontrada nas equações (4) a (12) do artigo [11].\n",
        "\n",
        "$$ t = \\frac{2.λ}{m^{2}(1-η^{2})}.\\Bigl[(1-m.η).e^{-m(1-η)} -(1-m) \\Bigl]$$\n",
        "\n",
        "$$ η = 1 − tanh\\Bigl(\\frac{V_{SD}}{mV_T}\\Bigl)$$\n",
        "\n",
        "$$m = \\frac{2.\\frac{V_{Gt}}{V_T}}{1+ \\sqrt{\\frac{2.V_{Gt}}{{V_{crit}}}}}$$\n",
        "\n",
        "$$ V_{Gt} = \\frac{Q_{tot}}{CI}$$\n",
        "\n",
        "\n",
        "Note que, um aumento no overdrive do transistor leva a uma região de difusão espaçosa e muda o início da saturação para uma polarização de dreno maior. Na polarização de porta grande, o aumento necessário na tensão de saturação diminui e se transforma em crescimentos de raiz quadrada para $V_{Gt} > V_{crit}$. Observe que a velocidade de saturação dada pela Eq. (5) só é alcançada para\n",
        "ambos, grande $V_{SG}$ (baixa barreira) e grande $V_{SD}$ (carga afundar). Em geral, o comprimento crítico para difusão que substitui $λ_{free}$ na Eq. (5) é uma fração de $L_G$ dependente na tensão da porta. O $V_{Gt}$ necessário para atingir a velocidade máxima de injeção dada pela velocidade térmica unidirecional diminui com $L_G$.\n",
        "\n",
        "\n",
        "* A primeira equação é usada para calcular o tempo de vida médio de uma partícula instável. Ela relaciona o tempo de vida médio ($t$) de uma partícula instável com sua massa (m), sua energia de ligação ($λ$) e seu fator de amortecimento ($η$). A equação é uma expressão matemática da lei de decaimento exponencial da partícula.\n",
        "\n",
        "* A segunda equação é usada para calcular o coeficiente de reflexão de uma onda em um transistor MOSFET (transistor de efeito de campo de porta isolada metal-óxido-semicondutor). A equação relaciona o coeficiente de reflexão ($η$) com a diferença de potencial entre o dreno e a fonte ($V_{SD}$), a temperatura ambiente ($V_T$) e um parâmetro do dispositivo (m).\n",
        "\n",
        "* A terceira equação é usada em dispositivos semicondutores para calcular o fator de inclinação de um transistor MOSFET. O fator de inclinação é uma medida da eficiência do transistor em ligar e desligar rapidamente. A equação relaciona o fator de inclinação (m) com a tensão de limiar do transistor ($V_{GT}$), uma constante crítica de tensão ($V_{crit}$) e a temperatura ambiente ($V_T$).\n",
        "\n",
        "* A quarta equação é usada para calcular a tensão de limiar de um transistor MOSFET. A tensão de limiar é a tensão mínima necessária para ligar o transistor. A equação relaciona a tensão de limiar ($V_{GT}$) com a carga total ($Q_{tot}$) armazenada na porta do transistor, a capacitância ($C$) da porta e a corrente ($I$) aplicada à porta.\n",
        "\n",
        "Sabendo então, como cada equação se relaciona e em que consite cada uma delas, vamos abstrair toda essa matemática 'complexa' no código do modelo e executá-lo para observar que tipo de resultado ele nos dará.\n",
        "\n",
        "\n",
        "Lembrando que nosso objetivo aqui será otimizar os coeficientes  $J_T, V_{tho}, δ, l, n, λ$  e $V_{crit}$ que são utilizados na modelagem das equações.\n",
        "\n",
        "\n",
        "\n",
        "* $J_T$ → Coeficiente de temperatura de Junção ( Junction Temperature ). É um parâmetro que representa a variação da temperatura na junção de um dispositivo eletrônico, como um transistor, diodo ou circuito integrado. O valor do $J_T$ é importante para o projeto e a operação correta desses dispositivos.\n",
        "\n",
        "* $V_{tho}$ → Tensão de Threshold ( Threshold Voltage ). É uma tensão elétrica mínima que deve ser aplicada a um dispositivo eletrônico, como um transistor MOSFET, para iniciar a condução de corrente. O valor de $V_{tho}$ é determinado pelas propriedades do material semicondutor usado na construção do dispositivo.\n",
        "\n",
        "* $δ$ → Espessura da camada de difusão. É um parâmetro que representa a espessura da camada de material semicondutor dopado que é depositado na superfície de um substrato semicondutor para formar um transistor ou outro dispositivo eletrônico.\n",
        "\n",
        "* $l$ → Comprimento de difusão. É um parâmetro que representa a distância que a dopagem de material semicondutor se difunde na superfície do substrato semicondutor durante o processo de fabricação do dispositivo eletrônico.\n",
        "\n",
        "* $n$ → Coeficiente de idealidade do diodo. É um parâmetro que descreve a relação entre a corrente elétrica e a tensão em um diodo. O valor de $n$ é usado para calcular a queda de tensão do diodo em diferentes níveis de corrente.\n",
        "\n",
        "* $λ$ → Coeficiente de queda de tensão. É um parâmetro que descreve a queda de tensão em um dispositivo eletrônico em relação à corrente elétrica que passa por ele. O valor de $λ$ é usado para calcular a queda de tensão em um transistor MOSFET em diferentes níveis de corrente.\n",
        "\n",
        "* $V_{crit}$ → Tensão crítica. É uma tensão elétrica que representa o limite máximo de tensão que um dispositivo eletrônico pode suportar sem danificar sua estrutura ou funcionalidade. O valor de $V_{crit}$ é determinado pelas propriedades dos materiais semicondutores usados na construção do dispositivo e é importante para o projeto e a operação segura de circuitos eletrônicos.\n",
        "\n",
        "\n",
        "\n",
        "\n",
        "\n",
        "\n",
        "\n",
        "\n",
        "\n",
        "\n",
        "\n"
      ]
    },
    {
      "cell_type": "markdown",
      "metadata": {
        "id": "kSdWoeRx5pob"
      },
      "source": [
        "## **Usando o Modelo** 💻"
      ]
    },
    {
      "cell_type": "code",
      "execution_count": 1,
      "metadata": {
        "colab": {
          "base_uri": "https://localhost:8080/"
        },
        "id": "t5A1lULnB33A",
        "outputId": "3c4892e5-b320-41a5-97c1-661411cdd479"
      },
      "outputs": [],
      "source": [
        "\n",
        "## Descomente caso vá usar  o no google collabory\n",
        "# from google.colab import drive\n",
        "# drive.mount('/content/gdrive')\n",
        "# import sys\n",
        "# sys.path.append('/content/gdrive/MyDrive/ICs/beTFT/update models')\n"
      ]
    },
    {
      "cell_type": "markdown",
      "metadata": {
        "id": "x_zKo2apu_gz"
      },
      "source": [
        "\n",
        "### **Carregando dados da amostra** 📚\n",
        "\n",
        "\n",
        "---\n",
        "\n"
      ]
    },
    {
      "cell_type": "code",
      "execution_count": 2,
      "metadata": {
        "id": "JnknGBYoiJZ2"
      },
      "outputs": [
        {
          "name": "stdout",
          "output_type": "stream",
          "text": [
            "\n",
            "\n",
            "\n"
          ]
        }
      ],
      "source": [
        "# Carregando as classes usadas \n",
        "from modules_otft._imports import  *\n",
        "from modules_otft._optmization import ModelOptmization \n",
        "from modules_otft._read_data import ReadData \n",
        "from modules_otft._model import TFTModel \n",
        "from modules_otft._grafics import  TFTGraphicsPlot\n",
        "from modules_otft._menu import TFTMenu \n",
        "\n",
        "from modules_otft._global_vars import * \n",
        "from modules_otft._config import *\n"
      ]
    },
    {
      "cell_type": "code",
      "execution_count": 3,
      "metadata": {
        "id": "pXJi9KefNXnl"
      },
      "outputs": [],
      "source": [
        "# instanciando as classes usadas\n",
        "plot = TFTGraphicsPlot()\n",
        "menu = TFTMenu()\n",
        "read = ReadData()"
      ]
    },
    {
      "cell_type": "code",
      "execution_count": 6,
      "metadata": {
        "colab": {
          "base_uri": "https://localhost:8080/"
        },
        "id": "zojCEe15uAiJ",
        "outputId": "ef06da53-c8c6-4a3d-d6fe-48674a3af016"
      },
      "outputs": [
        {
          "name": "stdout",
          "output_type": "stream",
          "text": [
            "| path: datas/Fig1ab/tipo p\n",
            "--------------------------------------------------------------------------------------------------------------------------------------------------------------------------------------------------------\n",
            "| experimental_data_scale_transfer: A\n",
            "--------------------------------------------------------------------------------------------------------------------------------------------------------------------------------------------------------\n",
            "| experimental_data_scale_output: uA\n",
            "--------------------------------------------------------------------------------------------------------------------------------------------------------------------------------------------------------\n",
            "| current_typic: uA\n",
            "--------------------------------------------------------------------------------------------------------------------------------------------------------------------------------------------------------\n",
            "| loaded_voltages: -2, -50, -30, -40, -50\n",
            "--------------------------------------------------------------------------------------------------------------------------------------------------------------------------------------------------------\n",
            "| curves_transfer: 2\n",
            "--------------------------------------------------------------------------------------------------------------------------------------------------------------------------------------------------------\n",
            "| type_curve_plot: logarithmic\n",
            "--------------------------------------------------------------------------------------------------------------------------------------------------------------------------------------------------------\n",
            "| type_read_data_exp: read original data\n",
            "--------------------------------------------------------------------------------------------------------------------------------------------------------------------------------------------------------\n",
            "| shift_volt_data: \n",
            "--------------------------------------------------------------------------------------------------------------------------------------------------------------------------------------------------------\n",
            "| select_files: 0, 1, 3, 2,4\n",
            "--------------------------------------------------------------------------------------------------------------------------------------------------------------------------------------------------------\n",
            "| resistance_scale: 1e4\n",
            "--------------------------------------------------------------------------------------------------------------------------------------------------------------------------------------------------------\n",
            "| current_carry: 1e-6\n",
            "--------------------------------------------------------------------------------------------------------------------------------------------------------------------------------------------------------\n",
            "| with_transistor: 0.1\n",
            "--------------------------------------------------------------------------------------------------------------------------------------------------------------------------------------------------------\n",
            "| type_of_transistor: pFET\n",
            "--------------------------------------------------------------------------------------------------------------------------------------------------------------------------------------------------------\n",
            "| loaded_parameters: {'VTHO': 8.57, 'DELTA': 0.0123, 'N': 108, 'L': 3.18, 'LAMBDA': 1490.0, 'VGCRIT': 32.3, 'JTH': 1, 'RS': 1}\n",
            "--------------------------------------------------------------------------------------------------------------------------------------------------------------------------------------------------------\n",
            "| idleak_mode: unique idleak value\n",
            "--------------------------------------------------------------------------------------------------------------------------------------------------------------------------------------------------------\n",
            "| loaded_idleak: 6.5e-11\n",
            "--------------------------------------------------------------------------------------------------------------------------------------------------------------------------------------------------------\n",
            "| image_size_width: None\n",
            "--------------------------------------------------------------------------------------------------------------------------------------------------------------------------------------------------------\n",
            "| image_size_height: None\n",
            "--------------------------------------------------------------------------------------------------------------------------------------------------------------------------------------------------------\n",
            "| upper_bounds: {'ub_VTHO': 12, 'ub_DELTA': 0.2, 'ub_N': 130, 'ub_L': 4.1, 'ub_LAMBDA': 10000, 'ub_VGCRIT': 80, 'ub_JTH': 10, 'ub_RS': 10}\n",
            "--------------------------------------------------------------------------------------------------------------------------------------------------------------------------------------------------------\n",
            "| lower_bounds: {'lb_VTHO': 8, 'lb_DELTA': 0, 'lb_N': 10, 'lb_L': 1, 'lb_LAMBDA': 100, 'lb_VGCRIT': 10, 'lb_JTH': 0, 'lb_RS': 0}\n",
            "--------------------------------------------------------------------------------------------------------------------------------------------------------------------------------------------------------\n",
            "| default_bounds: no\n",
            "--------------------------------------------------------------------------------------------------------------------------------------------------------------------------------------------------------\n",
            "| optimization_method: trf\n",
            "--------------------------------------------------------------------------------------------------------------------------------------------------------------------------------------------------------\n",
            "| tolerance_factor: 4e-7\n",
            "--------------------------------------------------------------------------------------------------------------------------------------------------------------------------------------------------------\n"
          ]
        }
      ],
      "source": [
        "show_varibles()"
      ]
    },
    {
      "cell_type": "code",
      "execution_count": 7,
      "metadata": {
        "colab": {
          "base_uri": "https://localhost:8080/"
        },
        "id": "zW1E25AzEj3M",
        "outputId": "1780766c-dae5-48b5-a46e-01c138bb3950"
      },
      "outputs": [
        {
          "name": "stdout",
          "output_type": "stream",
          "text": [
            "Shift value    : [0, 0, 0]\n",
            "\n",
            "List volt shift: [-2, -50, -30, -40, -50]\n",
            "\n",
            "--------------------------------------------\n",
            "--------------------------------------------\n",
            "|                READ FILES                |\n",
            "--------------------------------------------\n",
            "--------------------------------------------\n",
            "|            transfer-2V.csv            |\n",
            "--------------------------------------------\n",
            "|             transfer-50V.csv             |\n",
            "--------------------------------------------\n",
            "|              output-30V.csv              |\n",
            "--------------------------------------------\n",
            "|              output-40V.csv              |\n",
            "--------------------------------------------\n",
            "|              output-50V.csv              |\n",
            "--------------------------------------------\n",
            "--------------------------------------------\n",
            "\n",
            "A tabela acima mostra todos os arquivos que foram lidos no diretório, caso queira filtrar arquivos para que sejam\n",
            "lidos apenas aqueles que sejam de seu interesse, faça isso passando números que correspondam a ordem das curvas dos experimentos,\n",
            "separados por ,. Por exemplo: 0:tranfer-5v , 3:output-40v e assim por diante\n",
            "\n",
            "\n",
            "\n",
            "\n",
            "List volt shift  : [-2, -50, -30, -40, -50]\n",
            "List tension     : [-2, -50, -30, -40, -50]\n",
            "\n",
            "--------------------------------------------\n",
            "--------------------------------------------\n",
            "|                READ FILES                |\n",
            "--------------------------------------------\n",
            "--------------------------------------------\n",
            "|            transfer-2V.csv            |\n",
            "--------------------------------------------\n",
            "|             transfer-50V.csv             |\n",
            "--------------------------------------------\n",
            "|              output-30V.csv              |\n",
            "--------------------------------------------\n",
            "|              output-40V.csv              |\n",
            "--------------------------------------------\n",
            "|              output-50V.csv              |\n",
            "--------------------------------------------\n",
            "--------------------------------------------\n",
            "\n",
            "\n",
            "\n",
            "\n",
            "\n",
            "   VTHO     |    DELTA   |      N     |     L      |    LAMBDA  |   VGCRIT   |    JTH     |     RS    |\n",
            "-------------------------------------------------------------------------------------------------------\n",
            "[8.5700e+00 │ 1.2300e-02 │ 1.0800e+02 │ 3.1800e+00 │ 1.4900e+03 │ 3.2300e+01 │ 1.0000e+00 │ 1.0000e+00]\n",
            "-------------------------------------------------------------------------------------------------------\n",
            "\n",
            "\n",
            "\n",
            "\n"
          ]
        }
      ],
      "source": [
        "# @title ### **Load parameters local / remote directory.**\n",
        "# @markdown Nessa seção é possível carregar os parâmetros intrínsecos do modelo que deseja otimizar. A carga pode ser feita de maneira local, escolhendo seu arquivo `json` contendo todos os valores a serem carregados, parametros `Vtho, delta, n, l, lam, Vgcrit, Jth, Rs`\n",
        "\n",
        "# @markdown Note, também, que é necessário fornecer os valores respectivoos de `resistance_scale` , `current_carry` e `with_transistor`, que são respectivamente: valores de resistencia, valores de corrente - onde tipicamente o transistor opera - e largura do transitor (tecnologia associada). Caso queria adicionar um valor diferente do padrão, adicione-o ao campo. Lembre-se que os valoes nos campos `JTH` e `Rs` serão multiplos desses valores definidos nesses campos e o valor de `with_transistor` é em unidades de `[cm]`. Portanto, certifique-se de fornecer valores consitentes para que a saída do modelo, também, possa ser consistente\n",
        "\n",
        "# @markdown ---\n",
        "try:\n",
        "    if isinstance(eval(loaded_voltages), int):\n",
        "      ld_voltages = int(loaded_voltages)\n",
        "\n",
        "    elif len(loaded_voltages) > 2:\n",
        "      ld_voltages = list(eval(loaded_voltages))\n",
        "\n",
        "except SyntaxError:\n",
        "    print(\"No parameters entered in --- loaded_voltages ---, please load them\\n\")\n",
        "\n",
        "\n",
        "# Não apague essas linhas\n",
        "scale_trfr = experimental_data_scale_transfer\n",
        "scale_out = experimental_data_scale_output\n",
        "curr_typic = current_typic\n",
        "list_tension = ld_voltages\n",
        "file_path = path\n",
        "\n",
        "if type_curve_plot == 'logarithmic':\n",
        "  type_curve_plot = 'log'\n",
        "\n",
        "max = len(ld_voltages) - curves_transfer\n",
        "shift_list = []\n",
        "try:\n",
        "  if shift_volt_data ==\"\":\n",
        "    shift_list = [x*0 for x in range(max)]\n",
        "\n",
        "  # Verifica se o valor passado é um inteiro\n",
        "  elif isinstance(eval(shift_volt_data), int):\n",
        "    shift_list.append(int(shift_volt_data))\n",
        "\n",
        "  # insere na lista os valores passado como lista\n",
        "  elif len(shift_volt_data) > 1:\n",
        "    shift_list = list(eval(shift_volt_data))\n",
        "\n",
        "except ValueError:\n",
        "  print(\"Nenhum valor de shift passado, por favor entre com um valor\\n\")\n",
        "\n",
        "\n",
        "# Retorna a lista shiftada com o valor de tensão [V] passado\n",
        "list_tension_shift = read.apply_shifts(curves_transfer, shift_list, ld_voltages)\n",
        "\n",
        "\n",
        "path_voltages = read.read_files_experimental(file_path, list_tension_shift)\n",
        "\n",
        "Vv, Id, input_voltage, n_points, count_transfer, count_output = read.load_data(type_read_data_exp, path_voltages, curr_typic, scale_trfr, scale_out, type_curve_plot)\n",
        "\n",
        "plot.set_count_transfer(count_transfer)\n",
        "\n",
        "\n",
        "print(\"Shift value    : \" + f'{shift_list}')\n",
        "print()\n",
        "\n",
        "print(\"List volt shift: \" +  f'{list_tension_shift}')\n",
        "print()\n",
        "list_curves = menu.view_path_reads(path_voltages, list_tension_shift)\n",
        "\n",
        "print()\n",
        "print('A tabela acima mostra todos os arquivos que foram lidos no diretório, caso queira filtrar arquivos para que sejam')\n",
        "print('lidos apenas aqueles que sejam de seu interesse, faça isso passando números que correspondam a ordem das curvas dos experimentos,')\n",
        "print('separados por ,. Por exemplo: 0:tranfer-5v , 3:output-40v e assim por diante')\n",
        "print('\\n\\n')\n",
        "\n",
        "\n",
        "f_selection = []\n",
        "if select_files == \"\":\n",
        "  # Chamar a função para read e ordenar os files .csv e obter as listas adicionais\n",
        "  path_voltages = read.read_files_experimental(file_path, list_tension_shift)\n",
        "\n",
        "else:\n",
        "  try:\n",
        "    # Verifica se o valor passado é um inteiro\n",
        "    if isinstance(eval(select_files), int):\n",
        "      f_selection.append(int(select_files))\n",
        "\n",
        "    # insere numa lista os valores passado como lista\n",
        "    elif len(select_files) > 1:\n",
        "      f_selection = list(eval(select_files))\n",
        "\n",
        "    else:\n",
        "      print(\"No value available\\n\")\n",
        "\n",
        "  except NameError:\n",
        "    print(\"No value available, please enter a valid value\\n\")\n",
        "\n",
        "\n",
        "  new_files_filter, new_values_tension, new_list_tension =  read.filter_files(f_selection, list_curves, list_tension_shift, ld_voltages)\n",
        "  path_voltages = read.read_files_experimental(file_path, new_values_tension, selected_files=new_files_filter)\n",
        "\n",
        "  Vv, Id, input_voltage, n_points, count_transfer, count_output = read.load_data(type_read_data_exp, path_voltages, curr_typic, scale_trfr, scale_out, type_curve_plot)\n",
        "  list_tension_shift = new_values_tension\n",
        "  list_tension = new_list_tension\n",
        "\n",
        "\n",
        "print()\n",
        "\n",
        "print(\"List volt shift  : \" f'{list_tension_shift}' )\n",
        "print(\"List tension     : \" f'{list_tension}' )\n",
        "print()\n",
        "_ = menu.view_path_reads(path_voltages, list_tension_shift)\n",
        "print('\\n\\n')\n",
        "\n",
        "\n",
        "# É o tipo de transitor (1: npn) ou (-1: pnp).\n",
        "if type_of_transistor == 'nFET':\n",
        "  tp_tst = 1 # tipo n\n",
        "else:\n",
        "  tp_tst = -1 # tipo p\n",
        "\n",
        "# resistencia\n",
        "if resistance_scale == \"\":\n",
        "  print(\"nenhum valor de `RESITENCIA` carregado\\n\")\n",
        "\n",
        "else:\n",
        "  resistance = float(resistance_scale)\n",
        "\n",
        "# corrente\n",
        "if current_carry == \"\":\n",
        "  print(\"nenhum valor de `CORRENTE` carregado\\n\")\n",
        "else:\n",
        "  current = float(current_carry)\n",
        "  menu.set_curr_carry(current)\n",
        "  \n",
        "# largura do transistor\n",
        "if with_transistor == \"\":\n",
        "  width_t = float(0.1000)\n",
        "else:\n",
        "  width_t = float(with_transistor)\n",
        "\n",
        "print()\n",
        "\n",
        "load_parameters = []\n",
        "try:\n",
        "  load_parameters = list(loaded_parameters.values())\n",
        "  load_coefficient = load_parameters\n",
        "except SyntaxError:\n",
        "  print(\"No parameters entered, please load them\\n\")\n",
        "\n",
        "print()\n",
        "menu.print_values(load_coefficient)\n",
        "print()\n",
        "\n",
        "\n",
        "mode_idleak = 0\n",
        "load_idleak = []\n",
        "\n",
        "if idleak_mode == 'unique idleak value':\n",
        "  mode_idleak = 0\n",
        "  try:\n",
        "    load_idleak = float(loaded_idleak)\n",
        "  except SyntaxError:\n",
        "    print(\"No parameters entered, please load them\\n\")\n",
        "\n",
        "elif idleak_mode == 'more than one value idleak':\n",
        "  mode_idleak = 1\n",
        "  try:\n",
        "    load_idleak = list(eval(loaded_idleak))\n",
        "  except SyntaxError:\n",
        "    print(\"No parameters entered, please load them\\n\")\n",
        "print('\\n\\n')\n"
      ]
    },
    {
      "cell_type": "code",
      "execution_count": 8,
      "metadata": {
        "colab": {
          "base_uri": "https://localhost:8080/",
          "height": 1000
        },
        "id": "q1VjR5eys3Bi",
        "outputId": "0d64173f-5cb1-477a-aa2d-afa0ef271969"
      },
      "outputs": [
        {
          "data": {
            "application/vnd.plotly.v1+json": {
              "config": {
                "plotlyServerURL": "https://plot.ly"
              },
              "data": [
                {
                  "line": {
                    "color": "black"
                  },
                  "mode": "lines+text",
                  "name": "<b>Model OVSED<b> <b>-2V<b>",
                  "text": [
                    "-2V"
                  ],
                  "textfont": {
                    "color": "black",
                    "family": "Times New Roman",
                    "size": 13
                  },
                  "textposition": "bottom center",
                  "type": "scatter",
                  "x": [
                    -50,
                    -49.342106,
                    -48.30827,
                    -47.274437,
                    -46.334587,
                    -45.206768,
                    -44.26692,
                    -43.515038,
                    -42.763157,
                    -42.01128,
                    -41.07143,
                    -39.943607,
                    -38.909775,
                    -38.157894,
                    -37.31203,
                    -36.278194,
                    -35.338345,
                    -34.49248,
                    -33.458645,
                    -32.706768,
                    -31.860903,
                    -31.015038,
                    -30.357143,
                    -29.605263,
                    -28.7594,
                    -28.101503,
                    -27.725563,
                    -26.691729,
                    -25.845865,
                    -25.093985,
                    -24.718044,
                    -24.06015,
                    -23.402256,
                    -22.932331,
                    -21.992481,
                    -21.052631,
                    -20.394737,
                    -19.078947,
                    -18.421053,
                    -17.481203,
                    -16.447369,
                    -15.601503,
                    -14.567669,
                    -13.721805,
                    -12.781955,
                    -12.030075,
                    -10.80827,
                    -10.150376,
                    -10.056391,
                    -9.116541
                  ],
                  "y": [
                    0.000011765778839752284,
                    0.00001124348549268896,
                    0.000010447734371021171,
                    0.000009683085484685686,
                    0.000009015376458143903,
                    0.00000824905239096903,
                    0.000007639815099421326,
                    0.0000071717466024279724,
                    0.000006720892688508284,
                    0.000006287255273517608,
                    0.000005769362718335628,
                    0.0000051831374876417805,
                    0.000004679247733263953,
                    0.0000043326690969041685,
                    0.000003962532258092249,
                    0.0000035381245751317085,
                    0.000003178502484732746,
                    0.000002875713815381721,
                    0.0000025318290084020453,
                    0.0000022993640356172313,
                    0.0000020550892752992514,
                    0.0000018285583475290703,
                    0.000001664272793385548,
                    0.00000148888542800596,
                    0.000001306831036073023,
                    0.00000117601372598866,
                    0.0000011053671565575545,
                    9.25939723273434e-7,
                    7.946721831424946e-7,
                    6.891331356352617e-7,
                    6.401363906369741e-7,
                    5.602099038839073e-7,
                    4.874016948069892e-7,
                    4.3956797401806316e-7,
                    3.5378902897613455e-7,
                    2.803680927798405e-7,
                    2.3579250939604372e-7,
                    1.6196542520645207e-7,
                    1.3202383895129337e-7,
                    9.642701872181664e-8,
                    6.59350292821306e-8,
                    4.683325195292996e-8,
                    2.9500714665566824e-8,
                    1.9393550089343884e-8,
                    1.1577309515139228e-8,
                    7.347239195547007e-9,
                    3.2153148099431117e-9,
                    1.9669524578369946e-9,
                    1.8288719815138311e-9,
                    8.564844412833962e-10
                  ]
                },
                {
                  "line": {
                    "color": "black"
                  },
                  "mode": "lines+text",
                  "name": "<b>Model OVSED<b> <b>-50V<b>",
                  "text": [
                    "-50V"
                  ],
                  "textfont": {
                    "color": "black",
                    "family": "Times New Roman",
                    "size": 13
                  },
                  "textposition": "bottom center",
                  "type": "scatter",
                  "x": [
                    -49.906013,
                    -49.24812,
                    -48.402256,
                    -47.462406,
                    -46.334587,
                    -45.582706,
                    -44.454887,
                    -43.42105,
                    -42.669174,
                    -41.823307,
                    -40.883457,
                    -39.849625,
                    -39.19173,
                    -38.25188,
                    -37.030075,
                    -36.37218,
                    -35.338345,
                    -34.304512,
                    -33.646618,
                    -32.894737,
                    -31.766918,
                    -30.827068,
                    -29.793234,
                    -28.947369,
                    -28.101503,
                    -27.349625,
                    -26.31579,
                    -25.281956,
                    -24.530075,
                    -23.778196,
                    -22.74436,
                    -21.898497,
                    -20.864662,
                    -19.924812,
                    -19.172932,
                    -18.233082,
                    -17.387218,
                    -16.447369,
                    -15.507519,
                    -14.567669,
                    -13.721805,
                    -12.781955,
                    -11.654136,
                    -11.090225,
                    -10.150376,
                    -9.210526,
                    -8.458647,
                    -7.330827,
                    -6.2969923,
                    -5.169173
                  ],
                  "y": [
                    0.00008093200670880956,
                    0.00007639007872008292,
                    0.00007080502254931677,
                    0.00006492862060616308,
                    0.000058322844739118026,
                    0.000054182178543745635,
                    0.000048354257878901425,
                    0.00004340339053310755,
                    0.0000400302671618439,
                    0.000036457294382141304,
                    0.00003275403420058634,
                    0.000028992644851369876,
                    0.000026763068748510954,
                    0.000023790749765949722,
                    0.000020284713276856857,
                    0.00001855677617460785,
                    0.000016056326128903227,
                    0.000013805539637314759,
                    0.000012496450609937563,
                    0.000011111947337185754,
                    0.00000924649129537656,
                    0.00000787358040229144,
                    0.000006540325139268052,
                    0.0000055777341023410945,
                    0.000004722329114763839,
                    0.000004045859938484113,
                    0.000003234743173559138,
                    0.0000025494852491333544,
                    0.000002122849186506683,
                    0.0000017512403885720166,
                    0.000001321626094825173,
                    0.0000010328562118006826,
                    7.470747021470579e-7,
                    5.430136868913245e-7,
                    4.1271420395773083e-7,
                    2.8502410280369175e-7,
                    1.9836617229994348e-7,
                    1.2775712367070056e-7,
                    7.86765489551849e-8,
                    4.603563622700203e-8,
                    2.7055086687370903e-8,
                    1.4108633592983996e-8,
                    5.900104947954319e-9,
                    3.674468155607134e-9,
                    1.5864422206783757e-9,
                    6.573025515364682e-10,
                    3.2840885132112376e-10,
                    1.366869192087736e-10,
                    8.507407772960348e-11,
                    6.966102372551775e-11
                  ]
                },
                {
                  "marker": {
                    "color": "rgb(255, 0, 0)",
                    "line": {
                      "color": "MediumPurple",
                      "width": 0.8
                    },
                    "opacity": 0.5,
                    "size": 11
                  },
                  "mode": "markers+text",
                  "name": "<b>Exp <b> <b>-2V<b>",
                  "text": [
                    "<b>VDS<b>=-2V"
                  ],
                  "textfont": {
                    "color": "rgb(255, 0, 0)",
                    "family": "Times New Roman",
                    "size": 18
                  },
                  "textposition": "top right",
                  "type": "scatter",
                  "x": [
                    -50,
                    -49.342106,
                    -48.30827,
                    -47.274437,
                    -46.334587,
                    -45.206768,
                    -44.26692,
                    -43.515038,
                    -42.763157,
                    -42.01128,
                    -41.07143,
                    -39.943607,
                    -38.909775,
                    -38.157894,
                    -37.31203,
                    -36.278194,
                    -35.338345,
                    -34.49248,
                    -33.458645,
                    -32.706768,
                    -31.860903,
                    -31.015038,
                    -30.357143,
                    -29.605263,
                    -28.7594,
                    -28.101503,
                    -27.725563,
                    -26.691729,
                    -25.845865,
                    -25.093985,
                    -24.718044,
                    -24.06015,
                    -23.402256,
                    -22.932331,
                    -21.992481,
                    -21.052631,
                    -20.394737,
                    -19.078947,
                    -18.421053,
                    -17.481203,
                    -16.447369,
                    -15.601503,
                    -14.567669,
                    -13.721805,
                    -12.781955,
                    -12.030075,
                    -10.80827,
                    -10.150376,
                    -10.056391,
                    -9.116541
                  ],
                  "y": [
                    8.400000000000007e-7,
                    7.570000000000008e-7,
                    7.570000000000008e-7,
                    7.189999999999998e-7,
                    6.649999999999999e-7,
                    6.31e-7,
                    5.829999999999994e-7,
                    5.829999999999994e-7,
                    5.399999999999996e-7,
                    5.119999999999996e-7,
                    4.739999999999997e-7,
                    4.500000000000003e-7,
                    4.159999999999996e-7,
                    3.6499999999999995e-7,
                    3.6499999999999995e-7,
                    3.200000000000002e-7,
                    2.960000000000001e-7,
                    2.74e-7,
                    2.529999999999998e-7,
                    2.2800000000000008e-7,
                    1.9500000000000012e-7,
                    1.8499999999999998e-7,
                    1.6300000000000012e-7,
                    1.5000000000000005e-7,
                    1.319999999999999e-7,
                    1.1599999999999991e-7,
                    1.0700000000000002e-7,
                    9.91000000000001e-8,
                    8.259999999999995e-8,
                    7.250000000000006e-8,
                    6.710000000000006e-8,
                    5.8900000000000044e-8,
                    5.169999999999999e-8,
                    4.420000000000004e-8,
                    3.680000000000004e-8,
                    2.840000000000002e-8,
                    2.1300000000000015e-8,
                    1.769999999999999e-8,
                    1.33e-8,
                    1e-8,
                    6.5900000000000105e-9,
                    4.340000000000005e-9,
                    2.8600000000000038e-9,
                    1.789999999999997e-9,
                    1.0100000000000013e-9,
                    7.980000000000003e-10,
                    3.950000000000003e-10,
                    2.220000000000001e-10,
                    1.7600000000000022e-10,
                    1.2900000000000023e-10
                  ]
                },
                {
                  "marker": {
                    "color": "rgb(0, 0, 255)",
                    "line": {
                      "color": "MediumPurple",
                      "width": 0.8
                    },
                    "opacity": 0.5,
                    "size": 11
                  },
                  "mode": "markers+text",
                  "name": "<b>Exp <b> <b>-50V<b>",
                  "text": [
                    "<b>VDS<b>=-50V"
                  ],
                  "textfont": {
                    "color": "rgb(0, 0, 255)",
                    "family": "Times New Roman",
                    "size": 18
                  },
                  "textposition": "top right",
                  "type": "scatter",
                  "x": [
                    -49.906013,
                    -49.24812,
                    -48.402256,
                    -47.462406,
                    -46.334587,
                    -45.582706,
                    -44.454887,
                    -43.42105,
                    -42.669174,
                    -41.823307,
                    -40.883457,
                    -39.849625,
                    -39.19173,
                    -38.25188,
                    -37.030075,
                    -36.37218,
                    -35.338345,
                    -34.304512,
                    -33.646618,
                    -32.894737,
                    -31.766918,
                    -30.827068,
                    -29.793234,
                    -28.947369,
                    -28.101503,
                    -27.349625,
                    -26.31579,
                    -25.281956,
                    -24.530075,
                    -23.778196,
                    -22.74436,
                    -21.898497,
                    -20.864662,
                    -19.924812,
                    -19.172932,
                    -18.233082,
                    -17.387218,
                    -16.447369,
                    -15.507519,
                    -14.567669,
                    -13.721805,
                    -12.781955,
                    -11.654136,
                    -11.090225,
                    -10.150376,
                    -9.210526,
                    -8.458647,
                    -7.330827,
                    -6.2969923,
                    -5.169173
                  ],
                  "y": [
                    0.000007309999999999998,
                    0.000007309999999999998,
                    0.000006420000000000005,
                    0.000006089999999999998,
                    0.000005490000000000006,
                    0.0000048200000000000004,
                    0.0000044600000000000005,
                    0.000004019999999999998,
                    0.0000035299999999999984,
                    0.0000032600000000000027,
                    0.0000028599999999999976,
                    0.000002719999999999997,
                    0.0000024500000000000007,
                    0.000002090000000000001,
                    0.0000018400000000000014,
                    0.0000016599999999999996,
                    0.0000014500000000000014,
                    0.000001239999999999999,
                    0.000001120000000000001,
                    9.829999999999995e-7,
                    8.400000000000007e-7,
                    7.000000000000002e-7,
                    6.15e-7,
                    5.119999999999996e-7,
                    4.270000000000002e-7,
                    3.4599999999999974e-7,
                    2.890000000000002e-7,
                    2.3399999999999982e-7,
                    2.0000000000000002e-7,
                    1.5399999999999984e-7,
                    1.1900000000000007e-7,
                    8.699999999999995e-8,
                    6.710000000000006e-8,
                    4.900000000000002e-8,
                    3.589999999999998e-8,
                    2.4299999999999996e-8,
                    1.6800000000000018e-8,
                    1.1699999999999989e-8,
                    7.310000000000012e-9,
                    4.230000000000008e-9,
                    2.5800000000000047e-9,
                    1.4499999999999983e-9,
                    7.569999999999991e-10,
                    4.160000000000004e-10,
                    1.8099999999999966e-10,
                    1.2499999999999996e-10,
                    9.660000000000011e-11,
                    8.479999999999989e-11,
                    8.050000000000005e-11,
                    8.050000000000005e-11
                  ]
                }
              ],
              "layout": {
                "height": 600,
                "legend": {
                  "font": {
                    "size": 16
                  }
                },
                "template": {
                  "data": {
                    "bar": [
                      {
                        "error_x": {
                          "color": "#2a3f5f"
                        },
                        "error_y": {
                          "color": "#2a3f5f"
                        },
                        "marker": {
                          "line": {
                            "color": "#E5ECF6",
                            "width": 0.5
                          },
                          "pattern": {
                            "fillmode": "overlay",
                            "size": 10,
                            "solidity": 0.2
                          }
                        },
                        "type": "bar"
                      }
                    ],
                    "barpolar": [
                      {
                        "marker": {
                          "line": {
                            "color": "#E5ECF6",
                            "width": 0.5
                          },
                          "pattern": {
                            "fillmode": "overlay",
                            "size": 10,
                            "solidity": 0.2
                          }
                        },
                        "type": "barpolar"
                      }
                    ],
                    "carpet": [
                      {
                        "aaxis": {
                          "endlinecolor": "#2a3f5f",
                          "gridcolor": "white",
                          "linecolor": "white",
                          "minorgridcolor": "white",
                          "startlinecolor": "#2a3f5f"
                        },
                        "baxis": {
                          "endlinecolor": "#2a3f5f",
                          "gridcolor": "white",
                          "linecolor": "white",
                          "minorgridcolor": "white",
                          "startlinecolor": "#2a3f5f"
                        },
                        "type": "carpet"
                      }
                    ],
                    "choropleth": [
                      {
                        "colorbar": {
                          "outlinewidth": 0,
                          "ticks": ""
                        },
                        "type": "choropleth"
                      }
                    ],
                    "contour": [
                      {
                        "colorbar": {
                          "outlinewidth": 0,
                          "ticks": ""
                        },
                        "colorscale": [
                          [
                            0,
                            "#0d0887"
                          ],
                          [
                            0.1111111111111111,
                            "#46039f"
                          ],
                          [
                            0.2222222222222222,
                            "#7201a8"
                          ],
                          [
                            0.3333333333333333,
                            "#9c179e"
                          ],
                          [
                            0.4444444444444444,
                            "#bd3786"
                          ],
                          [
                            0.5555555555555556,
                            "#d8576b"
                          ],
                          [
                            0.6666666666666666,
                            "#ed7953"
                          ],
                          [
                            0.7777777777777778,
                            "#fb9f3a"
                          ],
                          [
                            0.8888888888888888,
                            "#fdca26"
                          ],
                          [
                            1,
                            "#f0f921"
                          ]
                        ],
                        "type": "contour"
                      }
                    ],
                    "contourcarpet": [
                      {
                        "colorbar": {
                          "outlinewidth": 0,
                          "ticks": ""
                        },
                        "type": "contourcarpet"
                      }
                    ],
                    "heatmap": [
                      {
                        "colorbar": {
                          "outlinewidth": 0,
                          "ticks": ""
                        },
                        "colorscale": [
                          [
                            0,
                            "#0d0887"
                          ],
                          [
                            0.1111111111111111,
                            "#46039f"
                          ],
                          [
                            0.2222222222222222,
                            "#7201a8"
                          ],
                          [
                            0.3333333333333333,
                            "#9c179e"
                          ],
                          [
                            0.4444444444444444,
                            "#bd3786"
                          ],
                          [
                            0.5555555555555556,
                            "#d8576b"
                          ],
                          [
                            0.6666666666666666,
                            "#ed7953"
                          ],
                          [
                            0.7777777777777778,
                            "#fb9f3a"
                          ],
                          [
                            0.8888888888888888,
                            "#fdca26"
                          ],
                          [
                            1,
                            "#f0f921"
                          ]
                        ],
                        "type": "heatmap"
                      }
                    ],
                    "heatmapgl": [
                      {
                        "colorbar": {
                          "outlinewidth": 0,
                          "ticks": ""
                        },
                        "colorscale": [
                          [
                            0,
                            "#0d0887"
                          ],
                          [
                            0.1111111111111111,
                            "#46039f"
                          ],
                          [
                            0.2222222222222222,
                            "#7201a8"
                          ],
                          [
                            0.3333333333333333,
                            "#9c179e"
                          ],
                          [
                            0.4444444444444444,
                            "#bd3786"
                          ],
                          [
                            0.5555555555555556,
                            "#d8576b"
                          ],
                          [
                            0.6666666666666666,
                            "#ed7953"
                          ],
                          [
                            0.7777777777777778,
                            "#fb9f3a"
                          ],
                          [
                            0.8888888888888888,
                            "#fdca26"
                          ],
                          [
                            1,
                            "#f0f921"
                          ]
                        ],
                        "type": "heatmapgl"
                      }
                    ],
                    "histogram": [
                      {
                        "marker": {
                          "pattern": {
                            "fillmode": "overlay",
                            "size": 10,
                            "solidity": 0.2
                          }
                        },
                        "type": "histogram"
                      }
                    ],
                    "histogram2d": [
                      {
                        "colorbar": {
                          "outlinewidth": 0,
                          "ticks": ""
                        },
                        "colorscale": [
                          [
                            0,
                            "#0d0887"
                          ],
                          [
                            0.1111111111111111,
                            "#46039f"
                          ],
                          [
                            0.2222222222222222,
                            "#7201a8"
                          ],
                          [
                            0.3333333333333333,
                            "#9c179e"
                          ],
                          [
                            0.4444444444444444,
                            "#bd3786"
                          ],
                          [
                            0.5555555555555556,
                            "#d8576b"
                          ],
                          [
                            0.6666666666666666,
                            "#ed7953"
                          ],
                          [
                            0.7777777777777778,
                            "#fb9f3a"
                          ],
                          [
                            0.8888888888888888,
                            "#fdca26"
                          ],
                          [
                            1,
                            "#f0f921"
                          ]
                        ],
                        "type": "histogram2d"
                      }
                    ],
                    "histogram2dcontour": [
                      {
                        "colorbar": {
                          "outlinewidth": 0,
                          "ticks": ""
                        },
                        "colorscale": [
                          [
                            0,
                            "#0d0887"
                          ],
                          [
                            0.1111111111111111,
                            "#46039f"
                          ],
                          [
                            0.2222222222222222,
                            "#7201a8"
                          ],
                          [
                            0.3333333333333333,
                            "#9c179e"
                          ],
                          [
                            0.4444444444444444,
                            "#bd3786"
                          ],
                          [
                            0.5555555555555556,
                            "#d8576b"
                          ],
                          [
                            0.6666666666666666,
                            "#ed7953"
                          ],
                          [
                            0.7777777777777778,
                            "#fb9f3a"
                          ],
                          [
                            0.8888888888888888,
                            "#fdca26"
                          ],
                          [
                            1,
                            "#f0f921"
                          ]
                        ],
                        "type": "histogram2dcontour"
                      }
                    ],
                    "mesh3d": [
                      {
                        "colorbar": {
                          "outlinewidth": 0,
                          "ticks": ""
                        },
                        "type": "mesh3d"
                      }
                    ],
                    "parcoords": [
                      {
                        "line": {
                          "colorbar": {
                            "outlinewidth": 0,
                            "ticks": ""
                          }
                        },
                        "type": "parcoords"
                      }
                    ],
                    "pie": [
                      {
                        "automargin": true,
                        "type": "pie"
                      }
                    ],
                    "scatter": [
                      {
                        "fillpattern": {
                          "fillmode": "overlay",
                          "size": 10,
                          "solidity": 0.2
                        },
                        "type": "scatter"
                      }
                    ],
                    "scatter3d": [
                      {
                        "line": {
                          "colorbar": {
                            "outlinewidth": 0,
                            "ticks": ""
                          }
                        },
                        "marker": {
                          "colorbar": {
                            "outlinewidth": 0,
                            "ticks": ""
                          }
                        },
                        "type": "scatter3d"
                      }
                    ],
                    "scattercarpet": [
                      {
                        "marker": {
                          "colorbar": {
                            "outlinewidth": 0,
                            "ticks": ""
                          }
                        },
                        "type": "scattercarpet"
                      }
                    ],
                    "scattergeo": [
                      {
                        "marker": {
                          "colorbar": {
                            "outlinewidth": 0,
                            "ticks": ""
                          }
                        },
                        "type": "scattergeo"
                      }
                    ],
                    "scattergl": [
                      {
                        "marker": {
                          "colorbar": {
                            "outlinewidth": 0,
                            "ticks": ""
                          }
                        },
                        "type": "scattergl"
                      }
                    ],
                    "scattermapbox": [
                      {
                        "marker": {
                          "colorbar": {
                            "outlinewidth": 0,
                            "ticks": ""
                          }
                        },
                        "type": "scattermapbox"
                      }
                    ],
                    "scatterpolar": [
                      {
                        "marker": {
                          "colorbar": {
                            "outlinewidth": 0,
                            "ticks": ""
                          }
                        },
                        "type": "scatterpolar"
                      }
                    ],
                    "scatterpolargl": [
                      {
                        "marker": {
                          "colorbar": {
                            "outlinewidth": 0,
                            "ticks": ""
                          }
                        },
                        "type": "scatterpolargl"
                      }
                    ],
                    "scatterternary": [
                      {
                        "marker": {
                          "colorbar": {
                            "outlinewidth": 0,
                            "ticks": ""
                          }
                        },
                        "type": "scatterternary"
                      }
                    ],
                    "surface": [
                      {
                        "colorbar": {
                          "outlinewidth": 0,
                          "ticks": ""
                        },
                        "colorscale": [
                          [
                            0,
                            "#0d0887"
                          ],
                          [
                            0.1111111111111111,
                            "#46039f"
                          ],
                          [
                            0.2222222222222222,
                            "#7201a8"
                          ],
                          [
                            0.3333333333333333,
                            "#9c179e"
                          ],
                          [
                            0.4444444444444444,
                            "#bd3786"
                          ],
                          [
                            0.5555555555555556,
                            "#d8576b"
                          ],
                          [
                            0.6666666666666666,
                            "#ed7953"
                          ],
                          [
                            0.7777777777777778,
                            "#fb9f3a"
                          ],
                          [
                            0.8888888888888888,
                            "#fdca26"
                          ],
                          [
                            1,
                            "#f0f921"
                          ]
                        ],
                        "type": "surface"
                      }
                    ],
                    "table": [
                      {
                        "cells": {
                          "fill": {
                            "color": "#EBF0F8"
                          },
                          "line": {
                            "color": "white"
                          }
                        },
                        "header": {
                          "fill": {
                            "color": "#C8D4E3"
                          },
                          "line": {
                            "color": "white"
                          }
                        },
                        "type": "table"
                      }
                    ]
                  },
                  "layout": {
                    "annotationdefaults": {
                      "arrowcolor": "#2a3f5f",
                      "arrowhead": 0,
                      "arrowwidth": 1
                    },
                    "autotypenumbers": "strict",
                    "coloraxis": {
                      "colorbar": {
                        "outlinewidth": 0,
                        "ticks": ""
                      }
                    },
                    "colorscale": {
                      "diverging": [
                        [
                          0,
                          "#8e0152"
                        ],
                        [
                          0.1,
                          "#c51b7d"
                        ],
                        [
                          0.2,
                          "#de77ae"
                        ],
                        [
                          0.3,
                          "#f1b6da"
                        ],
                        [
                          0.4,
                          "#fde0ef"
                        ],
                        [
                          0.5,
                          "#f7f7f7"
                        ],
                        [
                          0.6,
                          "#e6f5d0"
                        ],
                        [
                          0.7,
                          "#b8e186"
                        ],
                        [
                          0.8,
                          "#7fbc41"
                        ],
                        [
                          0.9,
                          "#4d9221"
                        ],
                        [
                          1,
                          "#276419"
                        ]
                      ],
                      "sequential": [
                        [
                          0,
                          "#0d0887"
                        ],
                        [
                          0.1111111111111111,
                          "#46039f"
                        ],
                        [
                          0.2222222222222222,
                          "#7201a8"
                        ],
                        [
                          0.3333333333333333,
                          "#9c179e"
                        ],
                        [
                          0.4444444444444444,
                          "#bd3786"
                        ],
                        [
                          0.5555555555555556,
                          "#d8576b"
                        ],
                        [
                          0.6666666666666666,
                          "#ed7953"
                        ],
                        [
                          0.7777777777777778,
                          "#fb9f3a"
                        ],
                        [
                          0.8888888888888888,
                          "#fdca26"
                        ],
                        [
                          1,
                          "#f0f921"
                        ]
                      ],
                      "sequentialminus": [
                        [
                          0,
                          "#0d0887"
                        ],
                        [
                          0.1111111111111111,
                          "#46039f"
                        ],
                        [
                          0.2222222222222222,
                          "#7201a8"
                        ],
                        [
                          0.3333333333333333,
                          "#9c179e"
                        ],
                        [
                          0.4444444444444444,
                          "#bd3786"
                        ],
                        [
                          0.5555555555555556,
                          "#d8576b"
                        ],
                        [
                          0.6666666666666666,
                          "#ed7953"
                        ],
                        [
                          0.7777777777777778,
                          "#fb9f3a"
                        ],
                        [
                          0.8888888888888888,
                          "#fdca26"
                        ],
                        [
                          1,
                          "#f0f921"
                        ]
                      ]
                    },
                    "colorway": [
                      "#636efa",
                      "#EF553B",
                      "#00cc96",
                      "#ab63fa",
                      "#FFA15A",
                      "#19d3f3",
                      "#FF6692",
                      "#B6E880",
                      "#FF97FF",
                      "#FECB52"
                    ],
                    "font": {
                      "color": "#2a3f5f"
                    },
                    "geo": {
                      "bgcolor": "white",
                      "lakecolor": "white",
                      "landcolor": "#E5ECF6",
                      "showlakes": true,
                      "showland": true,
                      "subunitcolor": "white"
                    },
                    "hoverlabel": {
                      "align": "left"
                    },
                    "hovermode": "closest",
                    "mapbox": {
                      "style": "light"
                    },
                    "paper_bgcolor": "white",
                    "plot_bgcolor": "#E5ECF6",
                    "polar": {
                      "angularaxis": {
                        "gridcolor": "white",
                        "linecolor": "white",
                        "ticks": ""
                      },
                      "bgcolor": "#E5ECF6",
                      "radialaxis": {
                        "gridcolor": "white",
                        "linecolor": "white",
                        "ticks": ""
                      }
                    },
                    "scene": {
                      "xaxis": {
                        "backgroundcolor": "#E5ECF6",
                        "gridcolor": "white",
                        "gridwidth": 2,
                        "linecolor": "white",
                        "showbackground": true,
                        "ticks": "",
                        "zerolinecolor": "white"
                      },
                      "yaxis": {
                        "backgroundcolor": "#E5ECF6",
                        "gridcolor": "white",
                        "gridwidth": 2,
                        "linecolor": "white",
                        "showbackground": true,
                        "ticks": "",
                        "zerolinecolor": "white"
                      },
                      "zaxis": {
                        "backgroundcolor": "#E5ECF6",
                        "gridcolor": "white",
                        "gridwidth": 2,
                        "linecolor": "white",
                        "showbackground": true,
                        "ticks": "",
                        "zerolinecolor": "white"
                      }
                    },
                    "shapedefaults": {
                      "line": {
                        "color": "#2a3f5f"
                      }
                    },
                    "ternary": {
                      "aaxis": {
                        "gridcolor": "white",
                        "linecolor": "white",
                        "ticks": ""
                      },
                      "baxis": {
                        "gridcolor": "white",
                        "linecolor": "white",
                        "ticks": ""
                      },
                      "bgcolor": "#E5ECF6",
                      "caxis": {
                        "gridcolor": "white",
                        "linecolor": "white",
                        "ticks": ""
                      }
                    },
                    "title": {
                      "x": 0.05
                    },
                    "xaxis": {
                      "automargin": true,
                      "gridcolor": "white",
                      "linecolor": "white",
                      "ticks": "",
                      "title": {
                        "standoff": 15
                      },
                      "zerolinecolor": "white",
                      "zerolinewidth": 2
                    },
                    "yaxis": {
                      "automargin": true,
                      "gridcolor": "white",
                      "linecolor": "white",
                      "ticks": "",
                      "title": {
                        "standoff": 15
                      },
                      "zerolinecolor": "white",
                      "zerolinewidth": 2
                    }
                  }
                },
                "title": {
                  "font": {
                    "color": "black",
                    "family": "Overpass",
                    "size": 25
                  },
                  "text": "<b>Experimental Datas Vs Model<b>",
                  "x": 0.45,
                  "y": 0.9
                },
                "width": 1100,
                "xaxis": {
                  "title": {
                    "font": {
                      "color": "black",
                      "family": "Overpass",
                      "size": 25
                    },
                    "standoff": 25,
                    "text": "<b>VGS / V<b>"
                  }
                },
                "yaxis": {
                  "title": {
                    "font": {
                      "color": "black",
                      "family": "Overpass",
                      "size": 25
                    },
                    "standoff": 10,
                    "text": "<b>|ID| / A<b>"
                  },
                  "type": "log"
                }
              }
            }
          },
          "metadata": {},
          "output_type": "display_data"
        },
        {
          "name": "stdout",
          "output_type": "stream",
          "text": [
            "\n"
          ]
        },
        {
          "data": {
            "application/vnd.plotly.v1+json": {
              "config": {
                "plotlyServerURL": "https://plot.ly"
              },
              "data": [
                {
                  "line": {
                    "color": "black"
                  },
                  "mode": "lines+text",
                  "name": "<b>Model OVSED<b> <b>-30V<b>",
                  "textfont": {
                    "color": "black",
                    "family": "Times New Roman",
                    "size": 13
                  },
                  "textposition": "bottom center",
                  "type": "scatter",
                  "x": [
                    -50,
                    -49.24812,
                    -48.68421,
                    -47.650375,
                    -46.710526,
                    -46.146618,
                    -45.11278,
                    -43.984962,
                    -42.857143,
                    -42.01128,
                    -40.977444,
                    -40.225563,
                    -38.909775,
                    -37.87594,
                    -37.030075,
                    -36.18421,
                    -35.150375,
                    -33.92857,
                    -32.98872,
                    -32.048874,
                    -31.109022,
                    -29.981203,
                    -28.853384,
                    -28.101503,
                    -27.067669,
                    -26.033834,
                    -25.18797,
                    -24.06015,
                    -22.932331,
                    -21.992481,
                    -20.864662,
                    -19.736841,
                    -18.703007,
                    -17.575188,
                    -16.541353,
                    -15.883459,
                    -15.037594,
                    -14.285714,
                    -13.25188,
                    -12.030075,
                    -11.37218,
                    -10.432331,
                    -9.304511,
                    -8.270677,
                    -7.330827,
                    -6.3909774,
                    -5.263158,
                    -4.3233085,
                    -3.2894738,
                    -2.1616542
                  ],
                  "y": [
                    -6.792796903435527,
                    -6.804113138821838,
                    -6.812593772568664,
                    -6.828120851070527,
                    -6.8422041737246655,
                    -6.85063467256819,
                    -6.866041636930642,
                    -6.8827555179425755,
                    -6.89933914746424,
                    -6.91166657988049,
                    -6.926570751598566,
                    -6.937272677876747,
                    -6.95564967778907,
                    -6.969695473265859,
                    -6.980864973943519,
                    -6.991683556146962,
                    -7.004331066729575,
                    -7.018270140528733,
                    -7.028072811017547,
                    -7.0368951498950745,
                    -7.044539803688121,
                    -7.051826271319275,
                    -7.056590592473193,
                    -7.058077699223261,
                    -7.057482906744609,
                    -7.053258830730572,
                    -7.046591293994521,
                    -7.03233510404481,
                    -7.010741539057483,
                    -6.986038039870537,
                    -6.946794349503816,
                    -6.895115880009891,
                    -6.8347808594324695,
                    -6.752267638444637,
                    -6.658753505863547,
                    -6.589086741592044,
                    -6.486492662061201,
                    -6.381720149975476,
                    -6.214338132833222,
                    -5.977218836983398,
                    -5.829835968571056,
                    -5.592813947523812,
                    -5.26330247517093,
                    -4.913624900407873,
                    -4.552513928227032,
                    -4.146980237570355,
                    -3.5974184174611237,
                    -3.0836584242541543,
                    -2.456637741701608,
                    -1.695270983291981
                  ]
                },
                {
                  "line": {
                    "color": "black"
                  },
                  "mode": "lines+text",
                  "name": "<b>Model OVSED<b> <b>-40V<b>",
                  "textfont": {
                    "color": "black",
                    "family": "Times New Roman",
                    "size": 13
                  },
                  "textposition": "bottom center",
                  "type": "scatter",
                  "x": [
                    -49.906013,
                    -48.778194,
                    -47.93233,
                    -46.898495,
                    -45.770676,
                    -44.924812,
                    -43.890976,
                    -43.1391,
                    -42.01128,
                    -40.977444,
                    -39.943607,
                    -39.00376,
                    -38.06391,
                    -37.030075,
                    -36.18421,
                    -34.304512,
                    -33.270676,
                    -32.142857,
                    -30.921053,
                    -29.135338,
                    -28.101503,
                    -26.785715,
                    -25.75188,
                    -24.718044,
                    -24.06015,
                    -23.214285,
                    -22.368422,
                    -21.428572,
                    -20.206766,
                    -19.078947,
                    -18.233082,
                    -17.105263,
                    -16.165413,
                    -15.225564,
                    -14.3797,
                    -12.969925,
                    -12.12406,
                    -11.184211,
                    -10.056391,
                    -9.304511,
                    -8.364661,
                    -7.142857,
                    -6.1090226,
                    -5.357143,
                    -4.3233085,
                    -3.4774437,
                    -2.3496242,
                    -1.5977443,
                    -0.7518797,
                    -0.18796992
                  ],
                  "y": [
                    -29.523402376699778,
                    -29.564189809313582,
                    -29.593796732375342,
                    -29.628645742850253,
                    -29.664705023225718,
                    -29.69018857987588,
                    -29.719222364843088,
                    -29.738673771535044,
                    -29.76481666010607,
                    -29.785090247165183,
                    -29.801242596928144,
                    -29.811795278152353,
                    -29.817829535888226,
                    -29.818480325832667,
                    -29.81369341179055,
                    -29.78264684162398,
                    -29.75133930143048,
                    -29.703412017966944,
                    -29.63267559251838,
                    -29.48720072005555,
                    -29.37591369387721,
                    -29.200289645670743,
                    -29.031723852072133,
                    -28.83245731602493,
                    -28.687918838371676,
                    -28.479802855703905,
                    -28.244366305321723,
                    -27.947557682906076,
                    -27.500154733259603,
                    -27.01815214457077,
                    -26.608410307986855,
                    -25.99119094897549,
                    -25.409244830598247,
                    -24.76024066852251,
                    -24.11427425911171,
                    -22.89582797271808,
                    -22.07270641192737,
                    -21.070714219048845,
                    -19.73858205979696,
                    -18.7669816372728,
                    -17.453049246130654,
                    -15.570469959889207,
                    -13.814648828907071,
                    -12.439276259324878,
                    -10.407091321909528,
                    -8.618533166239594,
                    -6.050998559271483,
                    -4.2197414571495155,
                    -2.0421695100706674,
                    -0.5200835146567008
                  ]
                },
                {
                  "line": {
                    "color": "black"
                  },
                  "mode": "lines+text",
                  "name": "<b>Model OVSED<b> <b>-50V<b>",
                  "textfont": {
                    "color": "black",
                    "family": "Times New Roman",
                    "size": 13
                  },
                  "textposition": "bottom center",
                  "type": "scatter",
                  "x": [
                    -50,
                    -49.24812,
                    -48.026318,
                    -47.18045,
                    -45.864662,
                    -44.830826,
                    -43.890976,
                    -42.857143,
                    -41.917294,
                    -40.789474,
                    -39.943607,
                    -39.097744,
                    -38.06391,
                    -37.030075,
                    -36.18421,
                    -35.24436,
                    -34.210526,
                    -32.894737,
                    -32.142857,
                    -31.109022,
                    -29.981203,
                    -29.229322,
                    -28.195488,
                    -27.067669,
                    -25.93985,
                    -25.18797,
                    -23.966166,
                    -23.026316,
                    -22.086466,
                    -21.146616,
                    -20.206766,
                    -19.266918,
                    -18.045113,
                    -17.387218,
                    -16.2594,
                    -15.225564,
                    -14.097744,
                    -13.157895,
                    -12.31203,
                    -11.278195,
                    -10.244361,
                    -9.398497,
                    -8.082706,
                    -7.236842,
                    -6.2969923,
                    -5.357143,
                    -4.2293234,
                    -3.4774437,
                    -2.537594,
                    -1.1278195
                  ],
                  "y": [
                    -81.59519067458241,
                    -81.61572534218591,
                    -81.63960334855447,
                    -81.64844323101306,
                    -81.6479211604511,
                    -81.63371774916416,
                    -81.60886573096204,
                    -81.56681092423989,
                    -81.51365557006712,
                    -81.42881870015216,
                    -81.34842243900282,
                    -81.2521096379008,
                    -81.1105552813138,
                    -80.93992281978878,
                    -80.77637062367081,
                    -80.5667930477397,
                    -80.29898347729586,
                    -79.89507300419066,
                    -79.62916236800953,
                    -79.21747330827486,
                    -78.70164379799222,
                    -78.31543005884751,
                    -77.72398281122156,
                    -76.9917644401797,
                    -76.15966315069609,
                    -75.54452326023322,
                    -74.43266670727199,
                    -73.47514046796547,
                    -72.42124311100885,
                    -71.26387175438299,
                    -69.99563539561443,
                    -68.6088737032396,
                    -66.61583141183753,
                    -65.44785987181059,
                    -63.281057467615284,
                    -61.10136450589111,
                    -58.498449108764106,
                    -56.1392585738349,
                    -53.86035417579203,
                    -50.864957493657485,
                    -47.62730494711797,
                    -44.789842837844986,
                    -40.02275118204662,
                    -36.72150398656722,
                    -32.827262672940854,
                    -28.686855350580768,
                    -23.381954256747143,
                    -19.63513465783667,
                    -14.708210914351024,
                    -6.79554274525933
                  ]
                },
                {
                  "marker": {
                    "color": "rgb(255, 0, 0)",
                    "line": {
                      "color": "MediumPurple",
                      "width": 0.8
                    },
                    "opacity": 0.5,
                    "size": 11
                  },
                  "mode": "markers+text",
                  "name": "<b>Exp <b> <b>-30V<b> <b> (0V)<b>",
                  "text": [
                    "<b>VGS<b>=-30V  (0)"
                  ],
                  "textfont": {
                    "color": "rgb(255, 0, 0)",
                    "family": "Times New Roman",
                    "size": 18
                  },
                  "textposition": "top right",
                  "type": "scatter",
                  "x": [
                    -50,
                    -49.24812,
                    -48.68421,
                    -47.650375,
                    -46.710526,
                    -46.146618,
                    -45.11278,
                    -43.984962,
                    -42.857143,
                    -42.01128,
                    -40.977444,
                    -40.225563,
                    -38.909775,
                    -37.87594,
                    -37.030075,
                    -36.18421,
                    -35.150375,
                    -33.92857,
                    -32.98872,
                    -32.048874,
                    -31.109022,
                    -29.981203,
                    -28.853384,
                    -28.101503,
                    -27.067669,
                    -26.033834,
                    -25.18797,
                    -24.06015,
                    -22.932331,
                    -21.992481,
                    -20.864662,
                    -19.736841,
                    -18.703007,
                    -17.575188,
                    -16.541353,
                    -15.883459,
                    -15.037594,
                    -14.285714,
                    -13.25188,
                    -12.030075,
                    -11.37218,
                    -10.432331,
                    -9.304511,
                    -8.270677,
                    -7.330827,
                    -6.3909774,
                    -5.263158,
                    -4.3233085,
                    -3.2894738,
                    -2.1616542
                  ],
                  "y": [
                    -0.68421054,
                    -0.68421054,
                    -0.67105263,
                    -0.67105263,
                    -0.68421054,
                    -0.68421054,
                    -0.68421054,
                    -0.65789473,
                    -0.68421054,
                    -0.68421054,
                    -0.67105263,
                    -0.67105263,
                    -0.67105263,
                    -0.68421054,
                    -0.67105263,
                    -0.67105263,
                    -0.67105263,
                    -0.67105263,
                    -0.65789473,
                    -0.65789473,
                    -0.67105263,
                    -0.67105263,
                    -0.67105263,
                    -0.67105263,
                    -0.67105263,
                    -0.67105263,
                    -0.67105263,
                    -0.67105263,
                    -0.65789473,
                    -0.6447368,
                    -0.6447368,
                    -0.6447368,
                    -0.6447368,
                    -0.6184211,
                    -0.6184211,
                    -0.6184211,
                    -0.6184211,
                    -0.59210527,
                    -0.57894737,
                    -0.57894737,
                    -0.55263156,
                    -0.5394737,
                    -0.5263158,
                    -0.47368422,
                    -0.46052632,
                    -0.40789473,
                    -0.35526314,
                    -0.32894737,
                    -0.2631579,
                    -0.21052632
                  ]
                },
                {
                  "marker": {
                    "color": "rgb(0, 0, 255)",
                    "line": {
                      "color": "MediumPurple",
                      "width": 0.8
                    },
                    "opacity": 0.5,
                    "size": 11
                  },
                  "mode": "markers+text",
                  "name": "<b>Exp <b> <b>-40V<b> <b> (0V)<b>",
                  "text": [
                    "<b>VGS<b>=-40V  (0)"
                  ],
                  "textfont": {
                    "color": "rgb(0, 0, 255)",
                    "family": "Times New Roman",
                    "size": 18
                  },
                  "textposition": "top right",
                  "type": "scatter",
                  "x": [
                    -49.906013,
                    -48.778194,
                    -47.93233,
                    -46.898495,
                    -45.770676,
                    -44.924812,
                    -43.890976,
                    -43.1391,
                    -42.01128,
                    -40.977444,
                    -39.943607,
                    -39.00376,
                    -38.06391,
                    -37.030075,
                    -36.18421,
                    -34.304512,
                    -33.270676,
                    -32.142857,
                    -30.921053,
                    -29.135338,
                    -28.101503,
                    -26.785715,
                    -25.75188,
                    -24.718044,
                    -24.06015,
                    -23.214285,
                    -22.368422,
                    -21.428572,
                    -20.206766,
                    -19.078947,
                    -18.233082,
                    -17.105263,
                    -16.165413,
                    -15.225564,
                    -14.3797,
                    -12.969925,
                    -12.12406,
                    -11.184211,
                    -10.056391,
                    -9.304511,
                    -8.364661,
                    -7.142857,
                    -6.1090226,
                    -5.357143,
                    -4.3233085,
                    -3.4774437,
                    -2.3496242,
                    -1.5977443,
                    -0.7518797,
                    -0.18796992
                  ],
                  "y": [
                    -2.4868422,
                    -2.5,
                    -2.5131578,
                    -2.4868422,
                    -2.4736843,
                    -2.4736843,
                    -2.4868422,
                    -2.4868422,
                    -2.4868422,
                    -2.5,
                    -2.5,
                    -2.4605262,
                    -2.4736843,
                    -2.4736843,
                    -2.4868422,
                    -2.4605262,
                    -2.4605262,
                    -2.4605262,
                    -2.4605262,
                    -2.4078948,
                    -2.4210527,
                    -2.4078948,
                    -2.3947368,
                    -2.3552632,
                    -2.3552632,
                    -2.3289473,
                    -2.3289473,
                    -2.3157895,
                    -2.2894738,
                    -2.2368422,
                    -2.1973684,
                    -2.1578948,
                    -2.1052632,
                    -2.0526316,
                    -2.0131578,
                    -1.9342105,
                    -1.8421053,
                    -1.75,
                    -1.6315789,
                    -1.5526316,
                    -1.4078947,
                    -1.2894737,
                    -1.1184211,
                    -0.9868421,
                    -0.7894737,
                    -0.6315789,
                    -0.4473684,
                    -0.28947368,
                    -0.13157895,
                    0
                  ]
                },
                {
                  "marker": {
                    "color": "rgb(30, 144, 255)",
                    "line": {
                      "color": "MediumPurple",
                      "width": 0.8
                    },
                    "opacity": 0.5,
                    "size": 11
                  },
                  "mode": "markers+text",
                  "name": "<b>Exp <b> <b>-50V<b> <b> (0V)<b>",
                  "text": [
                    "<b>VGS<b>=-50V  (0)"
                  ],
                  "textfont": {
                    "color": "rgb(30, 144, 255)",
                    "family": "Times New Roman",
                    "size": 18
                  },
                  "textposition": "top right",
                  "type": "scatter",
                  "x": [
                    -50,
                    -49.24812,
                    -48.026318,
                    -47.18045,
                    -45.864662,
                    -44.830826,
                    -43.890976,
                    -42.857143,
                    -41.917294,
                    -40.789474,
                    -39.943607,
                    -39.097744,
                    -38.06391,
                    -37.030075,
                    -36.18421,
                    -35.24436,
                    -34.210526,
                    -32.894737,
                    -32.142857,
                    -31.109022,
                    -29.981203,
                    -29.229322,
                    -28.195488,
                    -27.067669,
                    -25.93985,
                    -25.18797,
                    -23.966166,
                    -23.026316,
                    -22.086466,
                    -21.146616,
                    -20.206766,
                    -19.266918,
                    -18.045113,
                    -17.387218,
                    -16.2594,
                    -15.225564,
                    -14.097744,
                    -13.157895,
                    -12.31203,
                    -11.278195,
                    -10.244361,
                    -9.398497,
                    -8.082706,
                    -7.236842,
                    -6.2969923,
                    -5.357143,
                    -4.2293234,
                    -3.4774437,
                    -2.537594,
                    -1.1278195
                  ],
                  "y": [
                    -6.2894735,
                    -6.2763157,
                    -6.2763157,
                    -6.2763157,
                    -6.2763157,
                    -6.25,
                    -6.25,
                    -6.2236843,
                    -6.2236843,
                    -6.2236843,
                    -6.1973686,
                    -6.1973686,
                    -6.1842103,
                    -6.1578946,
                    -6.118421,
                    -6.105263,
                    -6.0789475,
                    -6.0789475,
                    -6.0263157,
                    -6,
                    -5.9605265,
                    -5.881579,
                    -5.8421054,
                    -5.8026314,
                    -5.736842,
                    -5.644737,
                    -5.5657897,
                    -5.513158,
                    -5.355263,
                    -5.263158,
                    -5.1710525,
                    -5.0394735,
                    -4.881579,
                    -4.75,
                    -4.5657897,
                    -4.368421,
                    -4.1973686,
                    -4,
                    -3.7894738,
                    -3.5526316,
                    -3.2894738,
                    -3.0263157,
                    -2.7236843,
                    -2.4605262,
                    -2.131579,
                    -1.7894737,
                    -1.4736842,
                    -1.1315789,
                    -0.75,
                    -0.38157895
                  ]
                }
              ],
              "layout": {
                "height": 600,
                "legend": {
                  "font": {
                    "size": 16
                  }
                },
                "template": {
                  "data": {
                    "bar": [
                      {
                        "error_x": {
                          "color": "#2a3f5f"
                        },
                        "error_y": {
                          "color": "#2a3f5f"
                        },
                        "marker": {
                          "line": {
                            "color": "#E5ECF6",
                            "width": 0.5
                          },
                          "pattern": {
                            "fillmode": "overlay",
                            "size": 10,
                            "solidity": 0.2
                          }
                        },
                        "type": "bar"
                      }
                    ],
                    "barpolar": [
                      {
                        "marker": {
                          "line": {
                            "color": "#E5ECF6",
                            "width": 0.5
                          },
                          "pattern": {
                            "fillmode": "overlay",
                            "size": 10,
                            "solidity": 0.2
                          }
                        },
                        "type": "barpolar"
                      }
                    ],
                    "carpet": [
                      {
                        "aaxis": {
                          "endlinecolor": "#2a3f5f",
                          "gridcolor": "white",
                          "linecolor": "white",
                          "minorgridcolor": "white",
                          "startlinecolor": "#2a3f5f"
                        },
                        "baxis": {
                          "endlinecolor": "#2a3f5f",
                          "gridcolor": "white",
                          "linecolor": "white",
                          "minorgridcolor": "white",
                          "startlinecolor": "#2a3f5f"
                        },
                        "type": "carpet"
                      }
                    ],
                    "choropleth": [
                      {
                        "colorbar": {
                          "outlinewidth": 0,
                          "ticks": ""
                        },
                        "type": "choropleth"
                      }
                    ],
                    "contour": [
                      {
                        "colorbar": {
                          "outlinewidth": 0,
                          "ticks": ""
                        },
                        "colorscale": [
                          [
                            0,
                            "#0d0887"
                          ],
                          [
                            0.1111111111111111,
                            "#46039f"
                          ],
                          [
                            0.2222222222222222,
                            "#7201a8"
                          ],
                          [
                            0.3333333333333333,
                            "#9c179e"
                          ],
                          [
                            0.4444444444444444,
                            "#bd3786"
                          ],
                          [
                            0.5555555555555556,
                            "#d8576b"
                          ],
                          [
                            0.6666666666666666,
                            "#ed7953"
                          ],
                          [
                            0.7777777777777778,
                            "#fb9f3a"
                          ],
                          [
                            0.8888888888888888,
                            "#fdca26"
                          ],
                          [
                            1,
                            "#f0f921"
                          ]
                        ],
                        "type": "contour"
                      }
                    ],
                    "contourcarpet": [
                      {
                        "colorbar": {
                          "outlinewidth": 0,
                          "ticks": ""
                        },
                        "type": "contourcarpet"
                      }
                    ],
                    "heatmap": [
                      {
                        "colorbar": {
                          "outlinewidth": 0,
                          "ticks": ""
                        },
                        "colorscale": [
                          [
                            0,
                            "#0d0887"
                          ],
                          [
                            0.1111111111111111,
                            "#46039f"
                          ],
                          [
                            0.2222222222222222,
                            "#7201a8"
                          ],
                          [
                            0.3333333333333333,
                            "#9c179e"
                          ],
                          [
                            0.4444444444444444,
                            "#bd3786"
                          ],
                          [
                            0.5555555555555556,
                            "#d8576b"
                          ],
                          [
                            0.6666666666666666,
                            "#ed7953"
                          ],
                          [
                            0.7777777777777778,
                            "#fb9f3a"
                          ],
                          [
                            0.8888888888888888,
                            "#fdca26"
                          ],
                          [
                            1,
                            "#f0f921"
                          ]
                        ],
                        "type": "heatmap"
                      }
                    ],
                    "heatmapgl": [
                      {
                        "colorbar": {
                          "outlinewidth": 0,
                          "ticks": ""
                        },
                        "colorscale": [
                          [
                            0,
                            "#0d0887"
                          ],
                          [
                            0.1111111111111111,
                            "#46039f"
                          ],
                          [
                            0.2222222222222222,
                            "#7201a8"
                          ],
                          [
                            0.3333333333333333,
                            "#9c179e"
                          ],
                          [
                            0.4444444444444444,
                            "#bd3786"
                          ],
                          [
                            0.5555555555555556,
                            "#d8576b"
                          ],
                          [
                            0.6666666666666666,
                            "#ed7953"
                          ],
                          [
                            0.7777777777777778,
                            "#fb9f3a"
                          ],
                          [
                            0.8888888888888888,
                            "#fdca26"
                          ],
                          [
                            1,
                            "#f0f921"
                          ]
                        ],
                        "type": "heatmapgl"
                      }
                    ],
                    "histogram": [
                      {
                        "marker": {
                          "pattern": {
                            "fillmode": "overlay",
                            "size": 10,
                            "solidity": 0.2
                          }
                        },
                        "type": "histogram"
                      }
                    ],
                    "histogram2d": [
                      {
                        "colorbar": {
                          "outlinewidth": 0,
                          "ticks": ""
                        },
                        "colorscale": [
                          [
                            0,
                            "#0d0887"
                          ],
                          [
                            0.1111111111111111,
                            "#46039f"
                          ],
                          [
                            0.2222222222222222,
                            "#7201a8"
                          ],
                          [
                            0.3333333333333333,
                            "#9c179e"
                          ],
                          [
                            0.4444444444444444,
                            "#bd3786"
                          ],
                          [
                            0.5555555555555556,
                            "#d8576b"
                          ],
                          [
                            0.6666666666666666,
                            "#ed7953"
                          ],
                          [
                            0.7777777777777778,
                            "#fb9f3a"
                          ],
                          [
                            0.8888888888888888,
                            "#fdca26"
                          ],
                          [
                            1,
                            "#f0f921"
                          ]
                        ],
                        "type": "histogram2d"
                      }
                    ],
                    "histogram2dcontour": [
                      {
                        "colorbar": {
                          "outlinewidth": 0,
                          "ticks": ""
                        },
                        "colorscale": [
                          [
                            0,
                            "#0d0887"
                          ],
                          [
                            0.1111111111111111,
                            "#46039f"
                          ],
                          [
                            0.2222222222222222,
                            "#7201a8"
                          ],
                          [
                            0.3333333333333333,
                            "#9c179e"
                          ],
                          [
                            0.4444444444444444,
                            "#bd3786"
                          ],
                          [
                            0.5555555555555556,
                            "#d8576b"
                          ],
                          [
                            0.6666666666666666,
                            "#ed7953"
                          ],
                          [
                            0.7777777777777778,
                            "#fb9f3a"
                          ],
                          [
                            0.8888888888888888,
                            "#fdca26"
                          ],
                          [
                            1,
                            "#f0f921"
                          ]
                        ],
                        "type": "histogram2dcontour"
                      }
                    ],
                    "mesh3d": [
                      {
                        "colorbar": {
                          "outlinewidth": 0,
                          "ticks": ""
                        },
                        "type": "mesh3d"
                      }
                    ],
                    "parcoords": [
                      {
                        "line": {
                          "colorbar": {
                            "outlinewidth": 0,
                            "ticks": ""
                          }
                        },
                        "type": "parcoords"
                      }
                    ],
                    "pie": [
                      {
                        "automargin": true,
                        "type": "pie"
                      }
                    ],
                    "scatter": [
                      {
                        "fillpattern": {
                          "fillmode": "overlay",
                          "size": 10,
                          "solidity": 0.2
                        },
                        "type": "scatter"
                      }
                    ],
                    "scatter3d": [
                      {
                        "line": {
                          "colorbar": {
                            "outlinewidth": 0,
                            "ticks": ""
                          }
                        },
                        "marker": {
                          "colorbar": {
                            "outlinewidth": 0,
                            "ticks": ""
                          }
                        },
                        "type": "scatter3d"
                      }
                    ],
                    "scattercarpet": [
                      {
                        "marker": {
                          "colorbar": {
                            "outlinewidth": 0,
                            "ticks": ""
                          }
                        },
                        "type": "scattercarpet"
                      }
                    ],
                    "scattergeo": [
                      {
                        "marker": {
                          "colorbar": {
                            "outlinewidth": 0,
                            "ticks": ""
                          }
                        },
                        "type": "scattergeo"
                      }
                    ],
                    "scattergl": [
                      {
                        "marker": {
                          "colorbar": {
                            "outlinewidth": 0,
                            "ticks": ""
                          }
                        },
                        "type": "scattergl"
                      }
                    ],
                    "scattermapbox": [
                      {
                        "marker": {
                          "colorbar": {
                            "outlinewidth": 0,
                            "ticks": ""
                          }
                        },
                        "type": "scattermapbox"
                      }
                    ],
                    "scatterpolar": [
                      {
                        "marker": {
                          "colorbar": {
                            "outlinewidth": 0,
                            "ticks": ""
                          }
                        },
                        "type": "scatterpolar"
                      }
                    ],
                    "scatterpolargl": [
                      {
                        "marker": {
                          "colorbar": {
                            "outlinewidth": 0,
                            "ticks": ""
                          }
                        },
                        "type": "scatterpolargl"
                      }
                    ],
                    "scatterternary": [
                      {
                        "marker": {
                          "colorbar": {
                            "outlinewidth": 0,
                            "ticks": ""
                          }
                        },
                        "type": "scatterternary"
                      }
                    ],
                    "surface": [
                      {
                        "colorbar": {
                          "outlinewidth": 0,
                          "ticks": ""
                        },
                        "colorscale": [
                          [
                            0,
                            "#0d0887"
                          ],
                          [
                            0.1111111111111111,
                            "#46039f"
                          ],
                          [
                            0.2222222222222222,
                            "#7201a8"
                          ],
                          [
                            0.3333333333333333,
                            "#9c179e"
                          ],
                          [
                            0.4444444444444444,
                            "#bd3786"
                          ],
                          [
                            0.5555555555555556,
                            "#d8576b"
                          ],
                          [
                            0.6666666666666666,
                            "#ed7953"
                          ],
                          [
                            0.7777777777777778,
                            "#fb9f3a"
                          ],
                          [
                            0.8888888888888888,
                            "#fdca26"
                          ],
                          [
                            1,
                            "#f0f921"
                          ]
                        ],
                        "type": "surface"
                      }
                    ],
                    "table": [
                      {
                        "cells": {
                          "fill": {
                            "color": "#EBF0F8"
                          },
                          "line": {
                            "color": "white"
                          }
                        },
                        "header": {
                          "fill": {
                            "color": "#C8D4E3"
                          },
                          "line": {
                            "color": "white"
                          }
                        },
                        "type": "table"
                      }
                    ]
                  },
                  "layout": {
                    "annotationdefaults": {
                      "arrowcolor": "#2a3f5f",
                      "arrowhead": 0,
                      "arrowwidth": 1
                    },
                    "autotypenumbers": "strict",
                    "coloraxis": {
                      "colorbar": {
                        "outlinewidth": 0,
                        "ticks": ""
                      }
                    },
                    "colorscale": {
                      "diverging": [
                        [
                          0,
                          "#8e0152"
                        ],
                        [
                          0.1,
                          "#c51b7d"
                        ],
                        [
                          0.2,
                          "#de77ae"
                        ],
                        [
                          0.3,
                          "#f1b6da"
                        ],
                        [
                          0.4,
                          "#fde0ef"
                        ],
                        [
                          0.5,
                          "#f7f7f7"
                        ],
                        [
                          0.6,
                          "#e6f5d0"
                        ],
                        [
                          0.7,
                          "#b8e186"
                        ],
                        [
                          0.8,
                          "#7fbc41"
                        ],
                        [
                          0.9,
                          "#4d9221"
                        ],
                        [
                          1,
                          "#276419"
                        ]
                      ],
                      "sequential": [
                        [
                          0,
                          "#0d0887"
                        ],
                        [
                          0.1111111111111111,
                          "#46039f"
                        ],
                        [
                          0.2222222222222222,
                          "#7201a8"
                        ],
                        [
                          0.3333333333333333,
                          "#9c179e"
                        ],
                        [
                          0.4444444444444444,
                          "#bd3786"
                        ],
                        [
                          0.5555555555555556,
                          "#d8576b"
                        ],
                        [
                          0.6666666666666666,
                          "#ed7953"
                        ],
                        [
                          0.7777777777777778,
                          "#fb9f3a"
                        ],
                        [
                          0.8888888888888888,
                          "#fdca26"
                        ],
                        [
                          1,
                          "#f0f921"
                        ]
                      ],
                      "sequentialminus": [
                        [
                          0,
                          "#0d0887"
                        ],
                        [
                          0.1111111111111111,
                          "#46039f"
                        ],
                        [
                          0.2222222222222222,
                          "#7201a8"
                        ],
                        [
                          0.3333333333333333,
                          "#9c179e"
                        ],
                        [
                          0.4444444444444444,
                          "#bd3786"
                        ],
                        [
                          0.5555555555555556,
                          "#d8576b"
                        ],
                        [
                          0.6666666666666666,
                          "#ed7953"
                        ],
                        [
                          0.7777777777777778,
                          "#fb9f3a"
                        ],
                        [
                          0.8888888888888888,
                          "#fdca26"
                        ],
                        [
                          1,
                          "#f0f921"
                        ]
                      ]
                    },
                    "colorway": [
                      "#636efa",
                      "#EF553B",
                      "#00cc96",
                      "#ab63fa",
                      "#FFA15A",
                      "#19d3f3",
                      "#FF6692",
                      "#B6E880",
                      "#FF97FF",
                      "#FECB52"
                    ],
                    "font": {
                      "color": "#2a3f5f"
                    },
                    "geo": {
                      "bgcolor": "white",
                      "lakecolor": "white",
                      "landcolor": "#E5ECF6",
                      "showlakes": true,
                      "showland": true,
                      "subunitcolor": "white"
                    },
                    "hoverlabel": {
                      "align": "left"
                    },
                    "hovermode": "closest",
                    "mapbox": {
                      "style": "light"
                    },
                    "paper_bgcolor": "white",
                    "plot_bgcolor": "#E5ECF6",
                    "polar": {
                      "angularaxis": {
                        "gridcolor": "white",
                        "linecolor": "white",
                        "ticks": ""
                      },
                      "bgcolor": "#E5ECF6",
                      "radialaxis": {
                        "gridcolor": "white",
                        "linecolor": "white",
                        "ticks": ""
                      }
                    },
                    "scene": {
                      "xaxis": {
                        "backgroundcolor": "#E5ECF6",
                        "gridcolor": "white",
                        "gridwidth": 2,
                        "linecolor": "white",
                        "showbackground": true,
                        "ticks": "",
                        "zerolinecolor": "white"
                      },
                      "yaxis": {
                        "backgroundcolor": "#E5ECF6",
                        "gridcolor": "white",
                        "gridwidth": 2,
                        "linecolor": "white",
                        "showbackground": true,
                        "ticks": "",
                        "zerolinecolor": "white"
                      },
                      "zaxis": {
                        "backgroundcolor": "#E5ECF6",
                        "gridcolor": "white",
                        "gridwidth": 2,
                        "linecolor": "white",
                        "showbackground": true,
                        "ticks": "",
                        "zerolinecolor": "white"
                      }
                    },
                    "shapedefaults": {
                      "line": {
                        "color": "#2a3f5f"
                      }
                    },
                    "ternary": {
                      "aaxis": {
                        "gridcolor": "white",
                        "linecolor": "white",
                        "ticks": ""
                      },
                      "baxis": {
                        "gridcolor": "white",
                        "linecolor": "white",
                        "ticks": ""
                      },
                      "bgcolor": "#E5ECF6",
                      "caxis": {
                        "gridcolor": "white",
                        "linecolor": "white",
                        "ticks": ""
                      }
                    },
                    "title": {
                      "x": 0.05
                    },
                    "xaxis": {
                      "automargin": true,
                      "gridcolor": "white",
                      "linecolor": "white",
                      "ticks": "",
                      "title": {
                        "standoff": 15
                      },
                      "zerolinecolor": "white",
                      "zerolinewidth": 2
                    },
                    "yaxis": {
                      "automargin": true,
                      "gridcolor": "white",
                      "linecolor": "white",
                      "ticks": "",
                      "title": {
                        "standoff": 15
                      },
                      "zerolinecolor": "white",
                      "zerolinewidth": 2
                    }
                  }
                },
                "title": {
                  "font": {
                    "color": "black",
                    "family": "Overpass",
                    "size": 25
                  },
                  "text": "<b>Experimental Datas Vs Model<b>",
                  "x": 0.45,
                  "y": 0.9
                },
                "width": 1100,
                "xaxis": {
                  "title": {
                    "font": {
                      "color": "black",
                      "family": "Overpass",
                      "size": 25
                    },
                    "standoff": 25,
                    "text": "<b>VDS / V<b>"
                  }
                },
                "yaxis": {
                  "title": {
                    "font": {
                      "color": "black",
                      "family": "Overpass",
                      "size": 25
                    },
                    "standoff": 10,
                    "text": "<b>ID / uA<b>"
                  },
                  "type": "linear"
                }
              }
            }
          },
          "metadata": {},
          "output_type": "display_data"
        },
        {
          "name": "stdout",
          "output_type": "stream",
          "text": [
            "\n",
            "**************************************************************************************************************************************************\n",
            "\n",
            "|RELATIVE ERROR BETWEEN CURVES: 147082113134.7026\n",
            "\n",
            "**************************************************************************************************************************************************\n"
          ]
        }
      ],
      "source": [
        "# @title ##### ***GRAFICS PLOT OPTION:***  { run: \"auto\" }\n",
        "\n",
        "\n",
        "if (image_size_width or image_size_height) == None:\n",
        "  image_size_width = 1100 #\n",
        "  image_size_height = 600 #\n",
        "\n",
        "# Instanciamos a classe grafica para visualizar o modelo\n",
        "plot = TFTGraphicsPlot(image_size_height, image_size_width)\n",
        "\n",
        "\n",
        "# Cria uma intancia do modelo passando todos os dados acima obtidos\n",
        "model = read.create_models_datas(TFTModel, n_points, type_curve_plot, load_parameters, input_voltage, Vv,\n",
        "                                 load_idleak, width_t, count_transfer, tp_tst=tp_tst, scale_factor=scale_trfr,\n",
        "                                 current_typic=curr_typic, res=resistance, curr=current)\n",
        "\n",
        "# Faz a leitura dos dados experimentais e do modelo (de transferencia) a serem exsibidos no gráfico\n",
        "in_model_data, in_exp_data = read.group_by_trasfer(count_transfer, Vv, Id, model)\n",
        "\n",
        "# Faz a leitura dos dados experimentais e do modelo (de saída) a serem exibidos no gráfico\n",
        "out_model_data, out_exp_data = read.group_by_output(count_output, count_transfer, Vv, Id, model)\n",
        "\n",
        "\n",
        "option = 'show both curves' # @param [\"Show Transfer curve\", \"Show output curve\", \"show both curves\"]\n",
        "if option == 'Show Transfer curve':\n",
        "  clear_output(wait=True)  # Limpa apenas o conteúdo exibido\n",
        "  plot.plot_vgs_vds(list_tension, list_tension_shift, 0, count_transfer, in_model_data, shift_list, select_files, *in_exp_data, sample_unit=current_typic, plot_type=type_curve_plot)\n",
        "\n",
        "elif option == 'Show output curve':\n",
        "  clear_output(wait=True)  # Limpa apenas o conteúdo exibido\n",
        "  plot.plot_vgs_vds(list_tension, list_tension_shift, 1, count_transfer, out_model_data, shift_list, select_files, *out_exp_data, sample_unit=current_typic, plot_type='linear')\n",
        "\n",
        "\n",
        "elif option == 'show both curves':\n",
        "  clear_output(wait=True)  # Limpa apenas o conteúdo exibido\n",
        "  plot.plot_vgs_vds(list_tension, list_tension_shift, 0, count_transfer, in_model_data, shift_list, select_files, *in_exp_data, sample_unit=current_typic, plot_type=type_curve_plot)\n",
        "  print()\n",
        "  plot.plot_vgs_vds(list_tension, list_tension_shift, 1, count_transfer, out_model_data, shift_list, select_files, *out_exp_data, sample_unit=current_typic, plot_type='linear')\n",
        "\n",
        "else:\n",
        "  print(\"No option choice\\n\")\n",
        "\n",
        "print()\n",
        "read.compute_relative_distance(Id, model)\n"
      ]
    },
    {
      "cell_type": "markdown",
      "metadata": {
        "id": "vUMiE-AQVQYh"
      },
      "source": [
        "### **Otimizando o Modelo** ⚡"
      ]
    },
    {
      "cell_type": "markdown",
      "metadata": {
        "id": "hPKJt-uDVKbe"
      },
      "source": [
        "Essa seção de otimização concentra-se em, dada uma sequencia de entradas de Tensão V `[v]` e corrente I `[mA]` calcula os parâmetros ótimos para um Transitor - Mosfet, por meio do modelo matemático já apresentado na seção `[5]`. O objetivo aqui é estimar esses parâmetros ótimos por meio da função `curv_fit` também já introduzida na seção `[4]` ( para mais detalhes, visite a seção ). A saber os parâmetros em questão estão listados abaixo:\n",
        "\n",
        "          * Vtho: tensão de limiar de porta do transistor.\n",
        "          * Delta: coeficiente de modulação de canal.\n",
        "          * N: número de canais do transistor.\n",
        "          * L: comprimento de canal do transistor.\n",
        "          * Lambda: comprimento de modulação do canal.\n",
        "          * Vcrit: tensão de ruptura do transistor.\n",
        "          * Jth: corrente de saturação do transistor.\n",
        "          * Rs: resistência serial  do transistor.\n",
        "\n"
      ]
    },
    {
      "cell_type": "code",
      "execution_count": 10,
      "metadata": {
        "cellView": "form",
        "colab": {
          "base_uri": "https://localhost:8080/"
        },
        "id": "R3wX-9nPVZLQ",
        "outputId": "49b2105b-3578-4dcd-e277-e27be6386102"
      },
      "outputs": [
        {
          "name": "stdout",
          "output_type": "stream",
          "text": [
            "\n",
            "--------------------------------------------------------------------------------------------------------------------------------------------------------------------------------------------------------\n",
            "TRUST REGION REFLECTIVE (TRF) MODE\n",
            "--------------------------------------------------------------------------------------------------------------------------------------------------------------------------------------------------------\n",
            "\n"
          ]
        },
        {
          "name": "stderr",
          "output_type": "stream",
          "text": [
            "100%|██████████| 2/2 [00:00<?, ?it/s]"
          ]
        },
        {
          "name": "stdout",
          "output_type": "stream",
          "text": [
            "\n",
            "\n",
            "\n",
            "\n",
            "********************************************************************************************************************************************************************************************************\n",
            "Both `ftol` and `xtol` termination conditions are satisfied.\n",
            "function evaluations 89, initial cost 2.3642e+05, final cost 5.0757e-01, first-order optimality 5.91e-07.\n",
            "\n",
            "********************************************************************************************************************************************************************************************************\n",
            "\n",
            "\n",
            "\n",
            "\n"
          ]
        },
        {
          "name": "stderr",
          "output_type": "stream",
          "text": [
            "\n"
          ]
        }
      ],
      "source": [
        "# @title #### **OPTIMIZING THE MODEL.** { run: \"auto\" }\n",
        "\n",
        "# Lower Bounds\n",
        "lw_bounds = list(lower_bounds.values())\n",
        "\n",
        "# Upper Bounds\n",
        "up_bounds = list(upper_bounds.values())\n",
        "\n",
        "\n",
        "# corrente\n",
        "if tolerance_factor == \"\":\n",
        "  print(\"nenhum fator de tolerância carregado\\n\")\n",
        "  tlr_factor = float(4e-6)\n",
        "else:\n",
        "  tlr_factor = float(tolerance_factor)\n",
        "\n",
        "\n",
        "if default_bounds == 'yes':\n",
        "  lw_bounds = None\n",
        "  up_bounds = None\n",
        "\n",
        "\n",
        "# criação do modelo que o otimizador irá usar para estimar os melhores parametros\n",
        "model_id = TFTModel( input_voltage, n_points, type_curve_plot, current_typic=curr_typic,\n",
        "                     scale_factor=scale_trfr, idleak=load_idleak, mult_idleak=mode_idleak,\n",
        "                     curv_transfer=count_transfer, sr_resistance=resistance, curr_carry=current,\n",
        "                     )\n",
        "\n",
        "\n",
        "# Cria uma instância da classe TFTOptmization\n",
        "optimizer = ModelOptmization( current_typic=curr_typic, scale_transfer=scale_trfr, scale_output=scale_out,\n",
        "                              type_read=type_read_data_exp, path_voltages=path_voltages, type_curve=type_curve_plot, method=optimization_method,\n",
        "                              bounds=(lw_bounds, up_bounds))\n",
        "\n",
        "\n",
        "# Define os intervalos padrão\n",
        "optimizer.set_default_bounds(default_bounds)\n",
        "# Configure a tolerancia de convergencia\n",
        "optimizer.set_ftol_param(tlr_factor)\n",
        "\n",
        "\n",
        "#Otimização do modelo\n",
        "coeff_opt, coeff_error, text_verbose = optimizer.optimize_all(model_id, load_coefficient, *path_voltages)\n",
        "\n",
        "print('\\n\\n\\n')\n",
        "print('*'*200)\n",
        "print(text_verbose.capitalize())\n",
        "print('*'*200)\n",
        "print('\\n\\n\\n')\n"
      ]
    },
    {
      "cell_type": "code",
      "execution_count": 11,
      "metadata": {
        "cellView": "form",
        "colab": {
          "base_uri": "https://localhost:8080/"
        },
        "id": "E2sKzh9yw0jJ",
        "outputId": "afa37541-e2f1-4ccd-bcd6-bbd6ddcf24ec"
      },
      "outputs": [
        {
          "name": "stdout",
          "output_type": "stream",
          "text": [
            "\n",
            "---------------------------\n",
            " COEFICIENTES OTIMIZADOS:\n",
            "\n",
            "╒══════════════════════╤═════════════════╤═══════════════════╤══════════════════════════════════╕\n",
            "│ Parâmetro            │   Valor Inicial │   Valor Otimizado │   Erro associado (desvio padrão) │\n",
            "╞══════════════════════╪═════════════════╪═══════════════════╪══════════════════════════════════╡\n",
            "│ VTHO [V]             │     8.57        │      12           │                       9.75017    │\n",
            "├──────────────────────┼─────────────────┼───────────────────┼──────────────────────────────────┤\n",
            "│ DELTA                │     0.0123      │       0.00714077  │                       0.0322358  │\n",
            "├──────────────────────┼─────────────────┼───────────────────┼──────────────────────────────────┤\n",
            "│ N                    │   108           │     120.986       │                      51.9999     │\n",
            "├──────────────────────┼─────────────────┼───────────────────┼──────────────────────────────────┤\n",
            "│ L                    │     3.18        │       2.3435      │                       2.01444    │\n",
            "├──────────────────────┼─────────────────┼───────────────────┼──────────────────────────────────┤\n",
            "│ LAMBDA               │  1490           │   10000           │                  203826          │\n",
            "├──────────────────────┼─────────────────┼───────────────────┼──────────────────────────────────┤\n",
            "│ VGCRIT [V]           │    32.3         │      41.4801      │                      57.1562     │\n",
            "├──────────────────────┼─────────────────┼───────────────────┼──────────────────────────────────┤\n",
            "│ JTH [μA cm^−1]       │     1           │       6.34281     │                     154.278      │\n",
            "├──────────────────────┼─────────────────┼───────────────────┼──────────────────────────────────┤\n",
            "│ RS [kΩ]              │    10           │     100           │                     112.03       │\n",
            "├──────────────────────┼─────────────────┼───────────────────┼──────────────────────────────────┤\n",
            "│ JTH / LAMBDA * N [μA │     6.21427e-06 │       5.24261e-06 │                       1.4556e-05 │\n",
            "│      cm^−1]          │                 │                   │                                  │\n",
            "╘══════════════════════╧═════════════════╧═══════════════════╧══════════════════════════════════╛\n",
            "\n",
            "\n",
            "\n",
            "\n"
          ]
        }
      ],
      "source": [
        "# @title #### **SHOW MODEL PARAMETERS OPTIMIZED.** { run: \"auto\" }\n",
        "# @markdown ### **Carregando parametros e otimizando o modelo** ⚡\n",
        "\n",
        "# @markdown > Essa seção é dedicada a visualização dos parâmetros que foram obtidos através da otimização. Para isso, basta escolher qualquer uma das opções abaixo:\n",
        "# @markdown ##### ***Show the list coefficients optimized:***\n",
        "# @markdown ##### **--> Vtho, delta, n, l, lam, Vgcrit, Jth, Rs**\n",
        "# @markdown ---\n",
        "\n",
        "option = 'Show the table of values opt' # @param [\"Show the coeff values\",\"Show the initial values\", \"Show the table of values opt\", \"coeff opt\", \"coeff error\"]\n",
        "\n",
        "if option == 'Show the coeff values':\n",
        "  menu.print_values(load_coefficient)\n",
        "\n",
        "elif option == 'Show the initial values':\n",
        "  menu.print_values(load_coefficient)\n",
        "\n",
        "elif option == 'coeff opt':\n",
        "  menu.print_values(coeff_opt)\n",
        "\n",
        "elif option == 'coeff error':\n",
        "  menu.print_values(coeff_error)\n",
        "\n",
        "elif option == 'Show the table of values opt':\n",
        "  menu.show_table_info(load_coefficient, load_coefficient, coeff_opt, coeff_error, curr_typic, resistance)\n",
        "\n",
        "print('\\n\\n\\n')\n"
      ]
    },
    {
      "cell_type": "markdown",
      "metadata": {
        "id": "wtumu9_Lxx4q"
      },
      "source": [
        "### **Comparando** ✅\n",
        "\n",
        "---\n",
        "> Seção com o objetivo de avaliar o desempenho do modelo em relação aos dados iniciais, essa observação visual, permite perceber se o modelo performou de maneira significativa em relação aos coeficientes iniais\n",
        "\n",
        "\n",
        "> Nessa seção, basta apenas rodar as células abaixo, não é preciso operar nenhuma modificação explicita.\n"
      ]
    },
    {
      "cell_type": "code",
      "execution_count": 12,
      "metadata": {
        "cellView": "form",
        "colab": {
          "base_uri": "https://localhost:8080/",
          "height": 1000
        },
        "id": "gvhAweAZx3eD",
        "outputId": "73a558bd-c41f-4f0c-a48c-6d7c12e3dfec"
      },
      "outputs": [
        {
          "data": {
            "application/vnd.plotly.v1+json": {
              "config": {
                "plotlyServerURL": "https://plot.ly"
              },
              "data": [
                {
                  "line": {
                    "color": "black"
                  },
                  "mode": "lines+text",
                  "name": "<b>Model OVSED<b> <b>-2V<b>",
                  "text": [
                    "-2V"
                  ],
                  "textfont": {
                    "color": "black",
                    "family": "Times New Roman",
                    "size": 13
                  },
                  "textposition": "bottom center",
                  "type": "scatter",
                  "x": [
                    -50,
                    -49.342106,
                    -48.30827,
                    -47.274437,
                    -46.334587,
                    -45.206768,
                    -44.26692,
                    -43.515038,
                    -42.763157,
                    -42.01128,
                    -41.07143,
                    -39.943607,
                    -38.909775,
                    -38.157894,
                    -37.31203,
                    -36.278194,
                    -35.338345,
                    -34.49248,
                    -33.458645,
                    -32.706768,
                    -31.860903,
                    -31.015038,
                    -30.357143,
                    -29.605263,
                    -28.7594,
                    -28.101503,
                    -27.725563,
                    -26.691729,
                    -25.845865,
                    -25.093985,
                    -24.718044,
                    -24.06015,
                    -23.402256,
                    -22.932331,
                    -21.992481,
                    -21.052631,
                    -20.394737,
                    -19.078947,
                    -18.421053,
                    -17.481203,
                    -16.447369,
                    -15.601503,
                    -14.567669,
                    -13.721805,
                    -12.781955,
                    -12.030075,
                    -10.80827,
                    -10.150376,
                    -10.056391,
                    -9.116541
                  ],
                  "y": [
                    0.000011765778839752284,
                    0.00001124348549268896,
                    0.000010447734371021171,
                    0.000009683085484685686,
                    0.000009015376458143903,
                    0.00000824905239096903,
                    0.000007639815099421326,
                    0.0000071717466024279724,
                    0.000006720892688508284,
                    0.000006287255273517608,
                    0.000005769362718335628,
                    0.0000051831374876417805,
                    0.000004679247733263953,
                    0.0000043326690969041685,
                    0.000003962532258092249,
                    0.0000035381245751317085,
                    0.000003178502484732746,
                    0.000002875713815381721,
                    0.0000025318290084020453,
                    0.0000022993640356172313,
                    0.0000020550892752992514,
                    0.0000018285583475290703,
                    0.000001664272793385548,
                    0.00000148888542800596,
                    0.000001306831036073023,
                    0.00000117601372598866,
                    0.0000011053671565575545,
                    9.25939723273434e-7,
                    7.946721831424946e-7,
                    6.891331356352617e-7,
                    6.401363906369741e-7,
                    5.602099038839073e-7,
                    4.874016948069892e-7,
                    4.3956797401806316e-7,
                    3.5378902897613455e-7,
                    2.803680927798405e-7,
                    2.3579250939604372e-7,
                    1.6196542520645207e-7,
                    1.3202383895129337e-7,
                    9.642701872181664e-8,
                    6.59350292821306e-8,
                    4.683325195292996e-8,
                    2.9500714665566824e-8,
                    1.9393550089343884e-8,
                    1.1577309515139228e-8,
                    7.347239195547007e-9,
                    3.2153148099431117e-9,
                    1.9669524578369946e-9,
                    1.8288719815138311e-9,
                    8.564844412833962e-10
                  ]
                },
                {
                  "line": {
                    "color": "black"
                  },
                  "mode": "lines+text",
                  "name": "<b>Model OVSED<b> <b>-50V<b>",
                  "text": [
                    "-50V"
                  ],
                  "textfont": {
                    "color": "black",
                    "family": "Times New Roman",
                    "size": 13
                  },
                  "textposition": "bottom center",
                  "type": "scatter",
                  "x": [
                    -49.906013,
                    -49.24812,
                    -48.402256,
                    -47.462406,
                    -46.334587,
                    -45.582706,
                    -44.454887,
                    -43.42105,
                    -42.669174,
                    -41.823307,
                    -40.883457,
                    -39.849625,
                    -39.19173,
                    -38.25188,
                    -37.030075,
                    -36.37218,
                    -35.338345,
                    -34.304512,
                    -33.646618,
                    -32.894737,
                    -31.766918,
                    -30.827068,
                    -29.793234,
                    -28.947369,
                    -28.101503,
                    -27.349625,
                    -26.31579,
                    -25.281956,
                    -24.530075,
                    -23.778196,
                    -22.74436,
                    -21.898497,
                    -20.864662,
                    -19.924812,
                    -19.172932,
                    -18.233082,
                    -17.387218,
                    -16.447369,
                    -15.507519,
                    -14.567669,
                    -13.721805,
                    -12.781955,
                    -11.654136,
                    -11.090225,
                    -10.150376,
                    -9.210526,
                    -8.458647,
                    -7.330827,
                    -6.2969923,
                    -5.169173
                  ],
                  "y": [
                    0.00008093200670880956,
                    0.00007639007872008292,
                    0.00007080502254931677,
                    0.00006492862060616308,
                    0.000058322844739118026,
                    0.000054182178543745635,
                    0.000048354257878901425,
                    0.00004340339053310755,
                    0.0000400302671618439,
                    0.000036457294382141304,
                    0.00003275403420058634,
                    0.000028992644851369876,
                    0.000026763068748510954,
                    0.000023790749765949722,
                    0.000020284713276856857,
                    0.00001855677617460785,
                    0.000016056326128903227,
                    0.000013805539637314759,
                    0.000012496450609937563,
                    0.000011111947337185754,
                    0.00000924649129537656,
                    0.00000787358040229144,
                    0.000006540325139268052,
                    0.0000055777341023410945,
                    0.000004722329114763839,
                    0.000004045859938484113,
                    0.000003234743173559138,
                    0.0000025494852491333544,
                    0.000002122849186506683,
                    0.0000017512403885720166,
                    0.000001321626094825173,
                    0.0000010328562118006826,
                    7.470747021470579e-7,
                    5.430136868913245e-7,
                    4.1271420395773083e-7,
                    2.8502410280369175e-7,
                    1.9836617229994348e-7,
                    1.2775712367070056e-7,
                    7.86765489551849e-8,
                    4.603563622700203e-8,
                    2.7055086687370903e-8,
                    1.4108633592983996e-8,
                    5.900104947954319e-9,
                    3.674468155607134e-9,
                    1.5864422206783757e-9,
                    6.573025515364682e-10,
                    3.2840885132112376e-10,
                    1.366869192087736e-10,
                    8.507407772960348e-11,
                    6.966102372551775e-11
                  ]
                },
                {
                  "line": {
                    "color": "black"
                  },
                  "mode": "lines+text",
                  "name": "<b>Model OPT<b> <b>-2V<b>",
                  "text": [
                    "-2V"
                  ],
                  "textfont": {
                    "color": "black",
                    "family": "Times New Roman",
                    "size": 13
                  },
                  "textposition": "bottom center",
                  "type": "scatter",
                  "x": [
                    -50,
                    -49.342106,
                    -48.30827,
                    -47.274437,
                    -46.334587,
                    -45.206768,
                    -44.26692,
                    -43.515038,
                    -42.763157,
                    -42.01128,
                    -41.07143,
                    -39.943607,
                    -38.909775,
                    -38.157894,
                    -37.31203,
                    -36.278194,
                    -35.338345,
                    -34.49248,
                    -33.458645,
                    -32.706768,
                    -31.860903,
                    -31.015038,
                    -30.357143,
                    -29.605263,
                    -28.7594,
                    -28.101503,
                    -27.725563,
                    -26.691729,
                    -25.845865,
                    -25.093985,
                    -24.718044,
                    -24.06015,
                    -23.402256,
                    -22.932331,
                    -21.992481,
                    -21.052631,
                    -20.394737,
                    -19.078947,
                    -18.421053,
                    -17.481203,
                    -16.447369,
                    -15.601503,
                    -14.567669,
                    -13.721805,
                    -12.781955,
                    -12.030075,
                    -10.80827,
                    -10.150376,
                    -10.056391,
                    -9.116541
                  ],
                  "y": [
                    7.753975795250465e-7,
                    7.463411020404399e-7,
                    7.01713936406095e-7,
                    6.58372474447508e-7,
                    6.201073902537716e-7,
                    5.756429600119482e-7,
                    5.398194982261581e-7,
                    5.11976492577412e-7,
                    4.848663427831067e-7,
                    4.5849558007180673e-7,
                    4.265804794106615e-7,
                    3.898334394352256e-7,
                    3.576475216381291e-7,
                    3.3514558888014126e-7,
                    3.1074720219334487e-7,
                    2.822488397855051e-7,
                    2.576062640552133e-7,
                    2.364592453103409e-7,
                    2.1193964752324155e-7,
                    1.9502284636858438e-7,
                    1.7691081630797052e-7,
                    1.59769186716267e-7,
                    1.471050014047578e-7,
                    1.3334414327488222e-7,
                    1.18766431616461e-7,
                    1.0808491540563816e-7,
                    1.0223759357949e-7,
                    8.711128056586154e-8,
                    7.576549189792628e-8,
                    6.644859185760216e-8,
                    6.205824359157113e-8,
                    5.48003598735596e-8,
                    4.8077080428721306e-8,
                    4.3597391235452394e-8,
                    3.542944723851785e-8,
                    2.829016570109159e-8,
                    2.3884935430905312e-8,
                    1.6469488439602874e-8,
                    1.342240904356812e-8,
                    9.777238448701897e-9,
                    6.647115203502199e-9,
                    4.693208578337854e-9,
                    2.9370036724602176e-9,
                    1.9278469346853846e-9,
                    1.1606616041747064e-9,
                    7.527510746255219e-10,
                    3.61494112541702e-10,
                    2.4509802766755496e-10,
                    2.32280266629143e-10,
                    1.422306203576839e-10
                  ]
                },
                {
                  "line": {
                    "color": "black"
                  },
                  "mode": "lines+text",
                  "name": "<b>Model OPT<b> <b>-50V<b>",
                  "text": [
                    "-50V"
                  ],
                  "textfont": {
                    "color": "black",
                    "family": "Times New Roman",
                    "size": 13
                  },
                  "textposition": "bottom center",
                  "type": "scatter",
                  "x": [
                    -49.906013,
                    -49.24812,
                    -48.402256,
                    -47.462406,
                    -46.334587,
                    -45.582706,
                    -44.454887,
                    -43.42105,
                    -42.669174,
                    -41.823307,
                    -40.883457,
                    -39.849625,
                    -39.19173,
                    -38.25188,
                    -37.030075,
                    -36.37218,
                    -35.338345,
                    -34.304512,
                    -33.646618,
                    -32.894737,
                    -31.766918,
                    -30.827068,
                    -29.793234,
                    -28.947369,
                    -28.101503,
                    -27.349625,
                    -26.31579,
                    -25.281956,
                    -24.530075,
                    -23.778196,
                    -22.74436,
                    -21.898497,
                    -20.864662,
                    -19.924812,
                    -19.172932,
                    -18.233082,
                    -17.387218,
                    -16.447369,
                    -15.507519,
                    -14.567669,
                    -13.721805,
                    -12.781955,
                    -11.654136,
                    -11.090225,
                    -10.150376,
                    -9.210526,
                    -8.458647,
                    -7.330827,
                    -6.2969923,
                    -5.169173
                  ],
                  "y": [
                    0.000006228815123064139,
                    0.000005916633860890217,
                    0.0000055296599181589096,
                    0.000005118486815495531,
                    0.000004650834558093524,
                    0.000004354445868335648,
                    0.000003932542109913602,
                    0.00000356927600725808,
                    0.000003318920317705822,
                    0.000003050935961617817,
                    0.000002769824633757091,
                    0.000002480385501707618,
                    0.0000023067440748740777,
                    0.0000020725754829780898,
                    0.0000017919206614051793,
                    0.0000016516033864827635,
                    0.0000014458978682394508,
                    0.0000012576972146638787,
                    0.0000011467393230580033,
                    0.0000010280475109322528,
                    8.656724000126969e-7,
                    7.441204244495956e-7,
                    6.241577208547e-7,
                    5.362062603371187e-7,
                    4.569824285481642e-7,
                    3.9354205905173356e-7,
                    3.1645551138575393e-7,
                    2.5037797577225297e-7,
                    2.0876482680698918e-7,
                    1.7221374941070645e-7,
                    1.2961515040566544e-7,
                    1.0080683927348864e-7,
                    7.222372432874327e-8,
                    5.18487340776466e-8,
                    3.8914795889209555e-8,
                    2.637305496999614e-8,
                    1.8002691157384495e-8,
                    1.1334027041914902e-8,
                    6.833416556626587e-9,
                    3.939760546871305e-9,
                    2.312364236587622e-9,
                    1.2343070315740946e-9,
                    5.650323556831277e-10,
                    3.837505114336428e-10,
                    2.1034249571247071e-10,
                    1.287187641622239e-10,
                    9.714346637700077e-11,
                    7.613141037811845e-11,
                    6.909286158823954e-11,
                    6.634358259505984e-11
                  ]
                },
                {
                  "marker": {
                    "color": "rgb(255, 0, 0)",
                    "line": {
                      "color": "MediumPurple",
                      "width": 0.8
                    },
                    "opacity": 0.5,
                    "size": 11
                  },
                  "mode": "markers+text",
                  "name": "<b>Exp <b> <b>-2V<b>",
                  "text": [
                    "<b>VDS<b>=-2V"
                  ],
                  "textfont": {
                    "color": "rgb(255, 0, 0)",
                    "family": "Times New Roman",
                    "size": 18
                  },
                  "textposition": "top right",
                  "type": "scatter",
                  "x": [
                    -50,
                    -49.342106,
                    -48.30827,
                    -47.274437,
                    -46.334587,
                    -45.206768,
                    -44.26692,
                    -43.515038,
                    -42.763157,
                    -42.01128,
                    -41.07143,
                    -39.943607,
                    -38.909775,
                    -38.157894,
                    -37.31203,
                    -36.278194,
                    -35.338345,
                    -34.49248,
                    -33.458645,
                    -32.706768,
                    -31.860903,
                    -31.015038,
                    -30.357143,
                    -29.605263,
                    -28.7594,
                    -28.101503,
                    -27.725563,
                    -26.691729,
                    -25.845865,
                    -25.093985,
                    -24.718044,
                    -24.06015,
                    -23.402256,
                    -22.932331,
                    -21.992481,
                    -21.052631,
                    -20.394737,
                    -19.078947,
                    -18.421053,
                    -17.481203,
                    -16.447369,
                    -15.601503,
                    -14.567669,
                    -13.721805,
                    -12.781955,
                    -12.030075,
                    -10.80827,
                    -10.150376,
                    -10.056391,
                    -9.116541
                  ],
                  "y": [
                    8.400000000000007e-7,
                    7.570000000000008e-7,
                    7.570000000000008e-7,
                    7.189999999999998e-7,
                    6.649999999999999e-7,
                    6.31e-7,
                    5.829999999999994e-7,
                    5.829999999999994e-7,
                    5.399999999999996e-7,
                    5.119999999999996e-7,
                    4.739999999999997e-7,
                    4.500000000000003e-7,
                    4.159999999999996e-7,
                    3.6499999999999995e-7,
                    3.6499999999999995e-7,
                    3.200000000000002e-7,
                    2.960000000000001e-7,
                    2.74e-7,
                    2.529999999999998e-7,
                    2.2800000000000008e-7,
                    1.9500000000000012e-7,
                    1.8499999999999998e-7,
                    1.6300000000000012e-7,
                    1.5000000000000005e-7,
                    1.319999999999999e-7,
                    1.1599999999999991e-7,
                    1.0700000000000002e-7,
                    9.91000000000001e-8,
                    8.259999999999995e-8,
                    7.250000000000006e-8,
                    6.710000000000006e-8,
                    5.8900000000000044e-8,
                    5.169999999999999e-8,
                    4.420000000000004e-8,
                    3.680000000000004e-8,
                    2.840000000000002e-8,
                    2.1300000000000015e-8,
                    1.769999999999999e-8,
                    1.33e-8,
                    1e-8,
                    6.5900000000000105e-9,
                    4.340000000000005e-9,
                    2.8600000000000038e-9,
                    1.789999999999997e-9,
                    1.0100000000000013e-9,
                    7.980000000000003e-10,
                    3.950000000000003e-10,
                    2.220000000000001e-10,
                    1.7600000000000022e-10,
                    1.2900000000000023e-10
                  ]
                },
                {
                  "marker": {
                    "color": "rgb(0, 0, 255)",
                    "line": {
                      "color": "MediumPurple",
                      "width": 0.8
                    },
                    "opacity": 0.5,
                    "size": 11
                  },
                  "mode": "markers+text",
                  "name": "<b>Exp <b> <b>-50V<b>",
                  "text": [
                    "<b>VDS<b>=-50V"
                  ],
                  "textfont": {
                    "color": "rgb(0, 0, 255)",
                    "family": "Times New Roman",
                    "size": 18
                  },
                  "textposition": "top right",
                  "type": "scatter",
                  "x": [
                    -49.906013,
                    -49.24812,
                    -48.402256,
                    -47.462406,
                    -46.334587,
                    -45.582706,
                    -44.454887,
                    -43.42105,
                    -42.669174,
                    -41.823307,
                    -40.883457,
                    -39.849625,
                    -39.19173,
                    -38.25188,
                    -37.030075,
                    -36.37218,
                    -35.338345,
                    -34.304512,
                    -33.646618,
                    -32.894737,
                    -31.766918,
                    -30.827068,
                    -29.793234,
                    -28.947369,
                    -28.101503,
                    -27.349625,
                    -26.31579,
                    -25.281956,
                    -24.530075,
                    -23.778196,
                    -22.74436,
                    -21.898497,
                    -20.864662,
                    -19.924812,
                    -19.172932,
                    -18.233082,
                    -17.387218,
                    -16.447369,
                    -15.507519,
                    -14.567669,
                    -13.721805,
                    -12.781955,
                    -11.654136,
                    -11.090225,
                    -10.150376,
                    -9.210526,
                    -8.458647,
                    -7.330827,
                    -6.2969923,
                    -5.169173
                  ],
                  "y": [
                    0.000007309999999999998,
                    0.000007309999999999998,
                    0.000006420000000000005,
                    0.000006089999999999998,
                    0.000005490000000000006,
                    0.0000048200000000000004,
                    0.0000044600000000000005,
                    0.000004019999999999998,
                    0.0000035299999999999984,
                    0.0000032600000000000027,
                    0.0000028599999999999976,
                    0.000002719999999999997,
                    0.0000024500000000000007,
                    0.000002090000000000001,
                    0.0000018400000000000014,
                    0.0000016599999999999996,
                    0.0000014500000000000014,
                    0.000001239999999999999,
                    0.000001120000000000001,
                    9.829999999999995e-7,
                    8.400000000000007e-7,
                    7.000000000000002e-7,
                    6.15e-7,
                    5.119999999999996e-7,
                    4.270000000000002e-7,
                    3.4599999999999974e-7,
                    2.890000000000002e-7,
                    2.3399999999999982e-7,
                    2.0000000000000002e-7,
                    1.5399999999999984e-7,
                    1.1900000000000007e-7,
                    8.699999999999995e-8,
                    6.710000000000006e-8,
                    4.900000000000002e-8,
                    3.589999999999998e-8,
                    2.4299999999999996e-8,
                    1.6800000000000018e-8,
                    1.1699999999999989e-8,
                    7.310000000000012e-9,
                    4.230000000000008e-9,
                    2.5800000000000047e-9,
                    1.4499999999999983e-9,
                    7.569999999999991e-10,
                    4.160000000000004e-10,
                    1.8099999999999966e-10,
                    1.2499999999999996e-10,
                    9.660000000000011e-11,
                    8.479999999999989e-11,
                    8.050000000000005e-11,
                    8.050000000000005e-11
                  ]
                }
              ],
              "layout": {
                "height": 600,
                "legend": {
                  "font": {
                    "size": 16
                  }
                },
                "template": {
                  "data": {
                    "bar": [
                      {
                        "error_x": {
                          "color": "#2a3f5f"
                        },
                        "error_y": {
                          "color": "#2a3f5f"
                        },
                        "marker": {
                          "line": {
                            "color": "#E5ECF6",
                            "width": 0.5
                          },
                          "pattern": {
                            "fillmode": "overlay",
                            "size": 10,
                            "solidity": 0.2
                          }
                        },
                        "type": "bar"
                      }
                    ],
                    "barpolar": [
                      {
                        "marker": {
                          "line": {
                            "color": "#E5ECF6",
                            "width": 0.5
                          },
                          "pattern": {
                            "fillmode": "overlay",
                            "size": 10,
                            "solidity": 0.2
                          }
                        },
                        "type": "barpolar"
                      }
                    ],
                    "carpet": [
                      {
                        "aaxis": {
                          "endlinecolor": "#2a3f5f",
                          "gridcolor": "white",
                          "linecolor": "white",
                          "minorgridcolor": "white",
                          "startlinecolor": "#2a3f5f"
                        },
                        "baxis": {
                          "endlinecolor": "#2a3f5f",
                          "gridcolor": "white",
                          "linecolor": "white",
                          "minorgridcolor": "white",
                          "startlinecolor": "#2a3f5f"
                        },
                        "type": "carpet"
                      }
                    ],
                    "choropleth": [
                      {
                        "colorbar": {
                          "outlinewidth": 0,
                          "ticks": ""
                        },
                        "type": "choropleth"
                      }
                    ],
                    "contour": [
                      {
                        "colorbar": {
                          "outlinewidth": 0,
                          "ticks": ""
                        },
                        "colorscale": [
                          [
                            0,
                            "#0d0887"
                          ],
                          [
                            0.1111111111111111,
                            "#46039f"
                          ],
                          [
                            0.2222222222222222,
                            "#7201a8"
                          ],
                          [
                            0.3333333333333333,
                            "#9c179e"
                          ],
                          [
                            0.4444444444444444,
                            "#bd3786"
                          ],
                          [
                            0.5555555555555556,
                            "#d8576b"
                          ],
                          [
                            0.6666666666666666,
                            "#ed7953"
                          ],
                          [
                            0.7777777777777778,
                            "#fb9f3a"
                          ],
                          [
                            0.8888888888888888,
                            "#fdca26"
                          ],
                          [
                            1,
                            "#f0f921"
                          ]
                        ],
                        "type": "contour"
                      }
                    ],
                    "contourcarpet": [
                      {
                        "colorbar": {
                          "outlinewidth": 0,
                          "ticks": ""
                        },
                        "type": "contourcarpet"
                      }
                    ],
                    "heatmap": [
                      {
                        "colorbar": {
                          "outlinewidth": 0,
                          "ticks": ""
                        },
                        "colorscale": [
                          [
                            0,
                            "#0d0887"
                          ],
                          [
                            0.1111111111111111,
                            "#46039f"
                          ],
                          [
                            0.2222222222222222,
                            "#7201a8"
                          ],
                          [
                            0.3333333333333333,
                            "#9c179e"
                          ],
                          [
                            0.4444444444444444,
                            "#bd3786"
                          ],
                          [
                            0.5555555555555556,
                            "#d8576b"
                          ],
                          [
                            0.6666666666666666,
                            "#ed7953"
                          ],
                          [
                            0.7777777777777778,
                            "#fb9f3a"
                          ],
                          [
                            0.8888888888888888,
                            "#fdca26"
                          ],
                          [
                            1,
                            "#f0f921"
                          ]
                        ],
                        "type": "heatmap"
                      }
                    ],
                    "heatmapgl": [
                      {
                        "colorbar": {
                          "outlinewidth": 0,
                          "ticks": ""
                        },
                        "colorscale": [
                          [
                            0,
                            "#0d0887"
                          ],
                          [
                            0.1111111111111111,
                            "#46039f"
                          ],
                          [
                            0.2222222222222222,
                            "#7201a8"
                          ],
                          [
                            0.3333333333333333,
                            "#9c179e"
                          ],
                          [
                            0.4444444444444444,
                            "#bd3786"
                          ],
                          [
                            0.5555555555555556,
                            "#d8576b"
                          ],
                          [
                            0.6666666666666666,
                            "#ed7953"
                          ],
                          [
                            0.7777777777777778,
                            "#fb9f3a"
                          ],
                          [
                            0.8888888888888888,
                            "#fdca26"
                          ],
                          [
                            1,
                            "#f0f921"
                          ]
                        ],
                        "type": "heatmapgl"
                      }
                    ],
                    "histogram": [
                      {
                        "marker": {
                          "pattern": {
                            "fillmode": "overlay",
                            "size": 10,
                            "solidity": 0.2
                          }
                        },
                        "type": "histogram"
                      }
                    ],
                    "histogram2d": [
                      {
                        "colorbar": {
                          "outlinewidth": 0,
                          "ticks": ""
                        },
                        "colorscale": [
                          [
                            0,
                            "#0d0887"
                          ],
                          [
                            0.1111111111111111,
                            "#46039f"
                          ],
                          [
                            0.2222222222222222,
                            "#7201a8"
                          ],
                          [
                            0.3333333333333333,
                            "#9c179e"
                          ],
                          [
                            0.4444444444444444,
                            "#bd3786"
                          ],
                          [
                            0.5555555555555556,
                            "#d8576b"
                          ],
                          [
                            0.6666666666666666,
                            "#ed7953"
                          ],
                          [
                            0.7777777777777778,
                            "#fb9f3a"
                          ],
                          [
                            0.8888888888888888,
                            "#fdca26"
                          ],
                          [
                            1,
                            "#f0f921"
                          ]
                        ],
                        "type": "histogram2d"
                      }
                    ],
                    "histogram2dcontour": [
                      {
                        "colorbar": {
                          "outlinewidth": 0,
                          "ticks": ""
                        },
                        "colorscale": [
                          [
                            0,
                            "#0d0887"
                          ],
                          [
                            0.1111111111111111,
                            "#46039f"
                          ],
                          [
                            0.2222222222222222,
                            "#7201a8"
                          ],
                          [
                            0.3333333333333333,
                            "#9c179e"
                          ],
                          [
                            0.4444444444444444,
                            "#bd3786"
                          ],
                          [
                            0.5555555555555556,
                            "#d8576b"
                          ],
                          [
                            0.6666666666666666,
                            "#ed7953"
                          ],
                          [
                            0.7777777777777778,
                            "#fb9f3a"
                          ],
                          [
                            0.8888888888888888,
                            "#fdca26"
                          ],
                          [
                            1,
                            "#f0f921"
                          ]
                        ],
                        "type": "histogram2dcontour"
                      }
                    ],
                    "mesh3d": [
                      {
                        "colorbar": {
                          "outlinewidth": 0,
                          "ticks": ""
                        },
                        "type": "mesh3d"
                      }
                    ],
                    "parcoords": [
                      {
                        "line": {
                          "colorbar": {
                            "outlinewidth": 0,
                            "ticks": ""
                          }
                        },
                        "type": "parcoords"
                      }
                    ],
                    "pie": [
                      {
                        "automargin": true,
                        "type": "pie"
                      }
                    ],
                    "scatter": [
                      {
                        "fillpattern": {
                          "fillmode": "overlay",
                          "size": 10,
                          "solidity": 0.2
                        },
                        "type": "scatter"
                      }
                    ],
                    "scatter3d": [
                      {
                        "line": {
                          "colorbar": {
                            "outlinewidth": 0,
                            "ticks": ""
                          }
                        },
                        "marker": {
                          "colorbar": {
                            "outlinewidth": 0,
                            "ticks": ""
                          }
                        },
                        "type": "scatter3d"
                      }
                    ],
                    "scattercarpet": [
                      {
                        "marker": {
                          "colorbar": {
                            "outlinewidth": 0,
                            "ticks": ""
                          }
                        },
                        "type": "scattercarpet"
                      }
                    ],
                    "scattergeo": [
                      {
                        "marker": {
                          "colorbar": {
                            "outlinewidth": 0,
                            "ticks": ""
                          }
                        },
                        "type": "scattergeo"
                      }
                    ],
                    "scattergl": [
                      {
                        "marker": {
                          "colorbar": {
                            "outlinewidth": 0,
                            "ticks": ""
                          }
                        },
                        "type": "scattergl"
                      }
                    ],
                    "scattermapbox": [
                      {
                        "marker": {
                          "colorbar": {
                            "outlinewidth": 0,
                            "ticks": ""
                          }
                        },
                        "type": "scattermapbox"
                      }
                    ],
                    "scatterpolar": [
                      {
                        "marker": {
                          "colorbar": {
                            "outlinewidth": 0,
                            "ticks": ""
                          }
                        },
                        "type": "scatterpolar"
                      }
                    ],
                    "scatterpolargl": [
                      {
                        "marker": {
                          "colorbar": {
                            "outlinewidth": 0,
                            "ticks": ""
                          }
                        },
                        "type": "scatterpolargl"
                      }
                    ],
                    "scatterternary": [
                      {
                        "marker": {
                          "colorbar": {
                            "outlinewidth": 0,
                            "ticks": ""
                          }
                        },
                        "type": "scatterternary"
                      }
                    ],
                    "surface": [
                      {
                        "colorbar": {
                          "outlinewidth": 0,
                          "ticks": ""
                        },
                        "colorscale": [
                          [
                            0,
                            "#0d0887"
                          ],
                          [
                            0.1111111111111111,
                            "#46039f"
                          ],
                          [
                            0.2222222222222222,
                            "#7201a8"
                          ],
                          [
                            0.3333333333333333,
                            "#9c179e"
                          ],
                          [
                            0.4444444444444444,
                            "#bd3786"
                          ],
                          [
                            0.5555555555555556,
                            "#d8576b"
                          ],
                          [
                            0.6666666666666666,
                            "#ed7953"
                          ],
                          [
                            0.7777777777777778,
                            "#fb9f3a"
                          ],
                          [
                            0.8888888888888888,
                            "#fdca26"
                          ],
                          [
                            1,
                            "#f0f921"
                          ]
                        ],
                        "type": "surface"
                      }
                    ],
                    "table": [
                      {
                        "cells": {
                          "fill": {
                            "color": "#EBF0F8"
                          },
                          "line": {
                            "color": "white"
                          }
                        },
                        "header": {
                          "fill": {
                            "color": "#C8D4E3"
                          },
                          "line": {
                            "color": "white"
                          }
                        },
                        "type": "table"
                      }
                    ]
                  },
                  "layout": {
                    "annotationdefaults": {
                      "arrowcolor": "#2a3f5f",
                      "arrowhead": 0,
                      "arrowwidth": 1
                    },
                    "autotypenumbers": "strict",
                    "coloraxis": {
                      "colorbar": {
                        "outlinewidth": 0,
                        "ticks": ""
                      }
                    },
                    "colorscale": {
                      "diverging": [
                        [
                          0,
                          "#8e0152"
                        ],
                        [
                          0.1,
                          "#c51b7d"
                        ],
                        [
                          0.2,
                          "#de77ae"
                        ],
                        [
                          0.3,
                          "#f1b6da"
                        ],
                        [
                          0.4,
                          "#fde0ef"
                        ],
                        [
                          0.5,
                          "#f7f7f7"
                        ],
                        [
                          0.6,
                          "#e6f5d0"
                        ],
                        [
                          0.7,
                          "#b8e186"
                        ],
                        [
                          0.8,
                          "#7fbc41"
                        ],
                        [
                          0.9,
                          "#4d9221"
                        ],
                        [
                          1,
                          "#276419"
                        ]
                      ],
                      "sequential": [
                        [
                          0,
                          "#0d0887"
                        ],
                        [
                          0.1111111111111111,
                          "#46039f"
                        ],
                        [
                          0.2222222222222222,
                          "#7201a8"
                        ],
                        [
                          0.3333333333333333,
                          "#9c179e"
                        ],
                        [
                          0.4444444444444444,
                          "#bd3786"
                        ],
                        [
                          0.5555555555555556,
                          "#d8576b"
                        ],
                        [
                          0.6666666666666666,
                          "#ed7953"
                        ],
                        [
                          0.7777777777777778,
                          "#fb9f3a"
                        ],
                        [
                          0.8888888888888888,
                          "#fdca26"
                        ],
                        [
                          1,
                          "#f0f921"
                        ]
                      ],
                      "sequentialminus": [
                        [
                          0,
                          "#0d0887"
                        ],
                        [
                          0.1111111111111111,
                          "#46039f"
                        ],
                        [
                          0.2222222222222222,
                          "#7201a8"
                        ],
                        [
                          0.3333333333333333,
                          "#9c179e"
                        ],
                        [
                          0.4444444444444444,
                          "#bd3786"
                        ],
                        [
                          0.5555555555555556,
                          "#d8576b"
                        ],
                        [
                          0.6666666666666666,
                          "#ed7953"
                        ],
                        [
                          0.7777777777777778,
                          "#fb9f3a"
                        ],
                        [
                          0.8888888888888888,
                          "#fdca26"
                        ],
                        [
                          1,
                          "#f0f921"
                        ]
                      ]
                    },
                    "colorway": [
                      "#636efa",
                      "#EF553B",
                      "#00cc96",
                      "#ab63fa",
                      "#FFA15A",
                      "#19d3f3",
                      "#FF6692",
                      "#B6E880",
                      "#FF97FF",
                      "#FECB52"
                    ],
                    "font": {
                      "color": "#2a3f5f"
                    },
                    "geo": {
                      "bgcolor": "white",
                      "lakecolor": "white",
                      "landcolor": "#E5ECF6",
                      "showlakes": true,
                      "showland": true,
                      "subunitcolor": "white"
                    },
                    "hoverlabel": {
                      "align": "left"
                    },
                    "hovermode": "closest",
                    "mapbox": {
                      "style": "light"
                    },
                    "paper_bgcolor": "white",
                    "plot_bgcolor": "#E5ECF6",
                    "polar": {
                      "angularaxis": {
                        "gridcolor": "white",
                        "linecolor": "white",
                        "ticks": ""
                      },
                      "bgcolor": "#E5ECF6",
                      "radialaxis": {
                        "gridcolor": "white",
                        "linecolor": "white",
                        "ticks": ""
                      }
                    },
                    "scene": {
                      "xaxis": {
                        "backgroundcolor": "#E5ECF6",
                        "gridcolor": "white",
                        "gridwidth": 2,
                        "linecolor": "white",
                        "showbackground": true,
                        "ticks": "",
                        "zerolinecolor": "white"
                      },
                      "yaxis": {
                        "backgroundcolor": "#E5ECF6",
                        "gridcolor": "white",
                        "gridwidth": 2,
                        "linecolor": "white",
                        "showbackground": true,
                        "ticks": "",
                        "zerolinecolor": "white"
                      },
                      "zaxis": {
                        "backgroundcolor": "#E5ECF6",
                        "gridcolor": "white",
                        "gridwidth": 2,
                        "linecolor": "white",
                        "showbackground": true,
                        "ticks": "",
                        "zerolinecolor": "white"
                      }
                    },
                    "shapedefaults": {
                      "line": {
                        "color": "#2a3f5f"
                      }
                    },
                    "ternary": {
                      "aaxis": {
                        "gridcolor": "white",
                        "linecolor": "white",
                        "ticks": ""
                      },
                      "baxis": {
                        "gridcolor": "white",
                        "linecolor": "white",
                        "ticks": ""
                      },
                      "bgcolor": "#E5ECF6",
                      "caxis": {
                        "gridcolor": "white",
                        "linecolor": "white",
                        "ticks": ""
                      }
                    },
                    "title": {
                      "x": 0.05
                    },
                    "xaxis": {
                      "automargin": true,
                      "gridcolor": "white",
                      "linecolor": "white",
                      "ticks": "",
                      "title": {
                        "standoff": 15
                      },
                      "zerolinecolor": "white",
                      "zerolinewidth": 2
                    },
                    "yaxis": {
                      "automargin": true,
                      "gridcolor": "white",
                      "linecolor": "white",
                      "ticks": "",
                      "title": {
                        "standoff": 15
                      },
                      "zerolinecolor": "white",
                      "zerolinewidth": 2
                    }
                  }
                },
                "title": {
                  "font": {
                    "color": "black",
                    "family": "Overpass",
                    "size": 25
                  },
                  "text": "<b>Model Vs Model Optimazed<b>",
                  "x": 0.45,
                  "y": 0.9
                },
                "width": 1100,
                "xaxis": {
                  "title": {
                    "font": {
                      "color": "black",
                      "family": "Overpass",
                      "size": 25
                    },
                    "standoff": 25,
                    "text": "<b>VGS / V<b>"
                  }
                },
                "yaxis": {
                  "title": {
                    "font": {
                      "color": "black",
                      "family": "Overpass",
                      "size": 25
                    },
                    "standoff": 10,
                    "text": "<b>|ID| / A<b>"
                  },
                  "type": "log"
                }
              }
            }
          },
          "metadata": {},
          "output_type": "display_data"
        },
        {
          "name": "stdout",
          "output_type": "stream",
          "text": [
            "\n"
          ]
        },
        {
          "data": {
            "application/vnd.plotly.v1+json": {
              "config": {
                "plotlyServerURL": "https://plot.ly"
              },
              "data": [
                {
                  "line": {
                    "color": "black"
                  },
                  "mode": "lines+text",
                  "name": "<b>Model OVSED<b> <b>-30V<b>",
                  "textfont": {
                    "color": "black",
                    "family": "Times New Roman",
                    "size": 13
                  },
                  "textposition": "bottom center",
                  "type": "scatter",
                  "x": [
                    -50,
                    -49.24812,
                    -48.68421,
                    -47.650375,
                    -46.710526,
                    -46.146618,
                    -45.11278,
                    -43.984962,
                    -42.857143,
                    -42.01128,
                    -40.977444,
                    -40.225563,
                    -38.909775,
                    -37.87594,
                    -37.030075,
                    -36.18421,
                    -35.150375,
                    -33.92857,
                    -32.98872,
                    -32.048874,
                    -31.109022,
                    -29.981203,
                    -28.853384,
                    -28.101503,
                    -27.067669,
                    -26.033834,
                    -25.18797,
                    -24.06015,
                    -22.932331,
                    -21.992481,
                    -20.864662,
                    -19.736841,
                    -18.703007,
                    -17.575188,
                    -16.541353,
                    -15.883459,
                    -15.037594,
                    -14.285714,
                    -13.25188,
                    -12.030075,
                    -11.37218,
                    -10.432331,
                    -9.304511,
                    -8.270677,
                    -7.330827,
                    -6.3909774,
                    -5.263158,
                    -4.3233085,
                    -3.2894738,
                    -2.1616542
                  ],
                  "y": [
                    -6.792796903435527,
                    -6.804113138821838,
                    -6.812593772568664,
                    -6.828120851070527,
                    -6.8422041737246655,
                    -6.85063467256819,
                    -6.866041636930642,
                    -6.8827555179425755,
                    -6.89933914746424,
                    -6.91166657988049,
                    -6.926570751598566,
                    -6.937272677876747,
                    -6.95564967778907,
                    -6.969695473265859,
                    -6.980864973943519,
                    -6.991683556146962,
                    -7.004331066729575,
                    -7.018270140528733,
                    -7.028072811017547,
                    -7.0368951498950745,
                    -7.044539803688121,
                    -7.051826271319275,
                    -7.056590592473193,
                    -7.058077699223261,
                    -7.057482906744609,
                    -7.053258830730572,
                    -7.046591293994521,
                    -7.03233510404481,
                    -7.010741539057483,
                    -6.986038039870537,
                    -6.946794349503816,
                    -6.895115880009891,
                    -6.8347808594324695,
                    -6.752267638444637,
                    -6.658753505863547,
                    -6.589086741592044,
                    -6.486492662061201,
                    -6.381720149975476,
                    -6.214338132833222,
                    -5.977218836983398,
                    -5.829835968571056,
                    -5.592813947523812,
                    -5.26330247517093,
                    -4.913624900407873,
                    -4.552513928227032,
                    -4.146980237570355,
                    -3.5974184174611237,
                    -3.0836584242541543,
                    -2.456637741701608,
                    -1.695270983291981
                  ]
                },
                {
                  "line": {
                    "color": "black"
                  },
                  "mode": "lines+text",
                  "name": "<b>Model OVSED<b> <b>-40V<b>",
                  "textfont": {
                    "color": "black",
                    "family": "Times New Roman",
                    "size": 13
                  },
                  "textposition": "bottom center",
                  "type": "scatter",
                  "x": [
                    -49.906013,
                    -48.778194,
                    -47.93233,
                    -46.898495,
                    -45.770676,
                    -44.924812,
                    -43.890976,
                    -43.1391,
                    -42.01128,
                    -40.977444,
                    -39.943607,
                    -39.00376,
                    -38.06391,
                    -37.030075,
                    -36.18421,
                    -34.304512,
                    -33.270676,
                    -32.142857,
                    -30.921053,
                    -29.135338,
                    -28.101503,
                    -26.785715,
                    -25.75188,
                    -24.718044,
                    -24.06015,
                    -23.214285,
                    -22.368422,
                    -21.428572,
                    -20.206766,
                    -19.078947,
                    -18.233082,
                    -17.105263,
                    -16.165413,
                    -15.225564,
                    -14.3797,
                    -12.969925,
                    -12.12406,
                    -11.184211,
                    -10.056391,
                    -9.304511,
                    -8.364661,
                    -7.142857,
                    -6.1090226,
                    -5.357143,
                    -4.3233085,
                    -3.4774437,
                    -2.3496242,
                    -1.5977443,
                    -0.7518797,
                    -0.18796992
                  ],
                  "y": [
                    -29.523402376699778,
                    -29.564189809313582,
                    -29.593796732375342,
                    -29.628645742850253,
                    -29.664705023225718,
                    -29.69018857987588,
                    -29.719222364843088,
                    -29.738673771535044,
                    -29.76481666010607,
                    -29.785090247165183,
                    -29.801242596928144,
                    -29.811795278152353,
                    -29.817829535888226,
                    -29.818480325832667,
                    -29.81369341179055,
                    -29.78264684162398,
                    -29.75133930143048,
                    -29.703412017966944,
                    -29.63267559251838,
                    -29.48720072005555,
                    -29.37591369387721,
                    -29.200289645670743,
                    -29.031723852072133,
                    -28.83245731602493,
                    -28.687918838371676,
                    -28.479802855703905,
                    -28.244366305321723,
                    -27.947557682906076,
                    -27.500154733259603,
                    -27.01815214457077,
                    -26.608410307986855,
                    -25.99119094897549,
                    -25.409244830598247,
                    -24.76024066852251,
                    -24.11427425911171,
                    -22.89582797271808,
                    -22.07270641192737,
                    -21.070714219048845,
                    -19.73858205979696,
                    -18.7669816372728,
                    -17.453049246130654,
                    -15.570469959889207,
                    -13.814648828907071,
                    -12.439276259324878,
                    -10.407091321909528,
                    -8.618533166239594,
                    -6.050998559271483,
                    -4.2197414571495155,
                    -2.0421695100706674,
                    -0.5200835146567008
                  ]
                },
                {
                  "line": {
                    "color": "black"
                  },
                  "mode": "lines+text",
                  "name": "<b>Model OVSED<b> <b>-50V<b>",
                  "textfont": {
                    "color": "black",
                    "family": "Times New Roman",
                    "size": 13
                  },
                  "textposition": "bottom center",
                  "type": "scatter",
                  "x": [
                    -50,
                    -49.24812,
                    -48.026318,
                    -47.18045,
                    -45.864662,
                    -44.830826,
                    -43.890976,
                    -42.857143,
                    -41.917294,
                    -40.789474,
                    -39.943607,
                    -39.097744,
                    -38.06391,
                    -37.030075,
                    -36.18421,
                    -35.24436,
                    -34.210526,
                    -32.894737,
                    -32.142857,
                    -31.109022,
                    -29.981203,
                    -29.229322,
                    -28.195488,
                    -27.067669,
                    -25.93985,
                    -25.18797,
                    -23.966166,
                    -23.026316,
                    -22.086466,
                    -21.146616,
                    -20.206766,
                    -19.266918,
                    -18.045113,
                    -17.387218,
                    -16.2594,
                    -15.225564,
                    -14.097744,
                    -13.157895,
                    -12.31203,
                    -11.278195,
                    -10.244361,
                    -9.398497,
                    -8.082706,
                    -7.236842,
                    -6.2969923,
                    -5.357143,
                    -4.2293234,
                    -3.4774437,
                    -2.537594,
                    -1.1278195
                  ],
                  "y": [
                    -81.59519067458241,
                    -81.61572534218591,
                    -81.63960334855447,
                    -81.64844323101306,
                    -81.6479211604511,
                    -81.63371774916416,
                    -81.60886573096204,
                    -81.56681092423989,
                    -81.51365557006712,
                    -81.42881870015216,
                    -81.34842243900282,
                    -81.2521096379008,
                    -81.1105552813138,
                    -80.93992281978878,
                    -80.77637062367081,
                    -80.5667930477397,
                    -80.29898347729586,
                    -79.89507300419066,
                    -79.62916236800953,
                    -79.21747330827486,
                    -78.70164379799222,
                    -78.31543005884751,
                    -77.72398281122156,
                    -76.9917644401797,
                    -76.15966315069609,
                    -75.54452326023322,
                    -74.43266670727199,
                    -73.47514046796547,
                    -72.42124311100885,
                    -71.26387175438299,
                    -69.99563539561443,
                    -68.6088737032396,
                    -66.61583141183753,
                    -65.44785987181059,
                    -63.281057467615284,
                    -61.10136450589111,
                    -58.498449108764106,
                    -56.1392585738349,
                    -53.86035417579203,
                    -50.864957493657485,
                    -47.62730494711797,
                    -44.789842837844986,
                    -40.02275118204662,
                    -36.72150398656722,
                    -32.827262672940854,
                    -28.686855350580768,
                    -23.381954256747143,
                    -19.63513465783667,
                    -14.708210914351024,
                    -6.79554274525933
                  ]
                },
                {
                  "line": {
                    "color": "black"
                  },
                  "mode": "lines+text",
                  "name": "<b>Model OPT<b> <b>-30V<b>",
                  "textfont": {
                    "color": "black",
                    "family": "Times New Roman",
                    "size": 13
                  },
                  "textposition": "bottom center",
                  "type": "scatter",
                  "x": [
                    -50,
                    -49.24812,
                    -48.68421,
                    -47.650375,
                    -46.710526,
                    -46.146618,
                    -45.11278,
                    -43.984962,
                    -42.857143,
                    -42.01128,
                    -40.977444,
                    -40.225563,
                    -38.909775,
                    -37.87594,
                    -37.030075,
                    -36.18421,
                    -35.150375,
                    -33.92857,
                    -32.98872,
                    -32.048874,
                    -31.109022,
                    -29.981203,
                    -28.853384,
                    -28.101503,
                    -27.067669,
                    -26.033834,
                    -25.18797,
                    -24.06015,
                    -22.932331,
                    -21.992481,
                    -20.864662,
                    -19.736841,
                    -18.703007,
                    -17.575188,
                    -16.541353,
                    -15.883459,
                    -15.037594,
                    -14.285714,
                    -13.25188,
                    -12.030075,
                    -11.37218,
                    -10.432331,
                    -9.304511,
                    -8.270677,
                    -7.330827,
                    -6.3909774,
                    -5.263158,
                    -4.3233085,
                    -3.2894738,
                    -2.1616542
                  ],
                  "y": [
                    -0.6470324446830206,
                    -0.6476254980434247,
                    -0.6480695495584878,
                    -0.6488815877019732,
                    -0.649616895832998,
                    -0.6500564268910453,
                    -0.6508582554290122,
                    -0.6517256161533185,
                    -0.652583007063437,
                    -0.6532177366257944,
                    -0.6539813552832574,
                    -0.6545264751790815,
                    -0.6554542799525793,
                    -0.6561539202406378,
                    -0.6567021698046397,
                    -0.6572239546993022,
                    -0.6578180058482913,
                    -0.6584427958796418,
                    -0.6588521600280292,
                    -0.6591847500443327,
                    -0.6594241187240742,
                    -0.6595601916247273,
                    -0.6594915437373794,
                    -0.6593069492399958,
                    -0.6588334619575263,
                    -0.6580541775935983,
                    -0.6571425374940089,
                    -0.6554630209832936,
                    -0.6531403792947895,
                    -0.6506087536401257,
                    -0.6467064328864249,
                    -0.6416699354696745,
                    -0.6358559719997938,
                    -0.6279539214985116,
                    -0.6190233368682523,
                    -0.612374233447554,
                    -0.6025796104279258,
                    -0.5925688403170289,
                    -0.5765555861803429,
                    -0.5538336573511249,
                    -0.5396958187659098,
                    -0.5169491567588699,
                    -0.48533572916211964,
                    -0.45184136422968046,
                    -0.4173517944050814,
                    -0.37878332571663564,
                    -0.3268591141938691,
                    -0.2787310800574687,
                    -0.22059797652845958,
                    -0.15097739750906614
                  ]
                },
                {
                  "line": {
                    "color": "black"
                  },
                  "mode": "lines+text",
                  "name": "<b>Model OPT<b> <b>-40V<b>",
                  "textfont": {
                    "color": "black",
                    "family": "Times New Roman",
                    "size": 13
                  },
                  "textposition": "bottom center",
                  "type": "scatter",
                  "x": [
                    -49.906013,
                    -48.778194,
                    -47.93233,
                    -46.898495,
                    -45.770676,
                    -44.924812,
                    -43.890976,
                    -43.1391,
                    -42.01128,
                    -40.977444,
                    -39.943607,
                    -39.00376,
                    -38.06391,
                    -37.030075,
                    -36.18421,
                    -34.304512,
                    -33.270676,
                    -32.142857,
                    -30.921053,
                    -29.135338,
                    -28.101503,
                    -26.785715,
                    -25.75188,
                    -24.718044,
                    -24.06015,
                    -23.214285,
                    -22.368422,
                    -21.428572,
                    -20.206766,
                    -19.078947,
                    -18.233082,
                    -17.105263,
                    -16.165413,
                    -15.225564,
                    -14.3797,
                    -12.969925,
                    -12.12406,
                    -11.184211,
                    -10.056391,
                    -9.304511,
                    -8.364661,
                    -7.142857,
                    -6.1090226,
                    -5.357143,
                    -4.3233085,
                    -3.4774437,
                    -2.3496242,
                    -1.5977443,
                    -0.7518797,
                    -0.18796992
                  ],
                  "y": [
                    -2.521343897861351,
                    -2.5227923877582796,
                    -2.523786660640132,
                    -2.524877134329244,
                    -2.5258846546157434,
                    -2.5264954815613643,
                    -2.5270464289396473,
                    -2.5272932864585202,
                    -2.5273834340623798,
                    -2.527125712825742,
                    -2.5264883124022424,
                    -2.5255285559641223,
                    -2.5241530983908422,
                    -2.5220895931488796,
                    -2.519912372918359,
                    -2.513199471774663,
                    -2.5082009363369817,
                    -2.5014845974312925,
                    -2.49248413760074,
                    -2.475477058638325,
                    -2.463157746016828,
                    -2.444379971500278,
                    -2.4268448876584396,
                    -2.4065253766335197,
                    -2.3919910101914312,
                    -2.371294974724726,
                    -2.348143607852627,
                    -2.319268546819508,
                    -2.276253357932049,
                    -2.230449248611179,
                    -2.191868170899235,
                    -2.1342696432095796,
                    -2.0804581564120803,
                    -2.020946485042378,
                    -1.9621893416428797,
                    -1.8525340883895323,
                    -1.7792607391753945,
                    -1.690883157573774,
                    -1.5747072033870464,
                    -1.4908826030588627,
                    -1.378695322834403,
                    -1.22021567112675,
                    -1.074714734835262,
                    -0.9622435883532207,
                    -0.798402380233059,
                    -0.6564460636015068,
                    -0.4562125211344508,
                    -0.3158781134774687,
                    -0.15160956365710945,
                    -0.03842779228070242
                  ]
                },
                {
                  "line": {
                    "color": "black"
                  },
                  "mode": "lines+text",
                  "name": "<b>Model OPT<b> <b>-50V<b>",
                  "textfont": {
                    "color": "black",
                    "family": "Times New Roman",
                    "size": 13
                  },
                  "textposition": "bottom center",
                  "type": "scatter",
                  "x": [
                    -50,
                    -49.24812,
                    -48.026318,
                    -47.18045,
                    -45.864662,
                    -44.830826,
                    -43.890976,
                    -42.857143,
                    -41.917294,
                    -40.789474,
                    -39.943607,
                    -39.097744,
                    -38.06391,
                    -37.030075,
                    -36.18421,
                    -35.24436,
                    -34.210526,
                    -32.894737,
                    -32.142857,
                    -31.109022,
                    -29.981203,
                    -29.229322,
                    -28.195488,
                    -27.067669,
                    -25.93985,
                    -25.18797,
                    -23.966166,
                    -23.026316,
                    -22.086466,
                    -21.146616,
                    -20.206766,
                    -19.266918,
                    -18.045113,
                    -17.387218,
                    -16.2594,
                    -15.225564,
                    -14.097744,
                    -13.157895,
                    -12.31203,
                    -11.278195,
                    -10.244361,
                    -9.398497,
                    -8.082706,
                    -7.236842,
                    -6.2969923,
                    -5.357143,
                    -4.2293234,
                    -3.4774437,
                    -2.537594,
                    -1.1278195
                  ],
                  "y": [
                    -6.274219053221739,
                    -6.272505124245847,
                    -6.268838581168586,
                    -6.265589004426429,
                    -6.259221154907414,
                    -6.252955150857,
                    -6.246171184086952,
                    -6.237374337495634,
                    -6.2280300661186665,
                    -6.214925916143246,
                    -6.203598329339695,
                    -6.190853897763664,
                    -6.1731647967221415,
                    -6.152911473409231,
                    -6.1342397151073635,
                    -6.111061750839096,
                    -6.082328965328801,
                    -6.040318380658949,
                    -6.013302014752466,
                    -5.972230398441554,
                    -5.9217786709679086,
                    -5.8845861831163795,
                    -5.828405711210341,
                    -5.7599132141526175,
                    -5.683225627799886,
                    -5.627188667910182,
                    -5.5270911208335995,
                    -5.441942840065584,
                    -5.349199615309012,
                    -5.2483914358977914,
                    -5.139043734389586,
                    -5.02068097833534,
                    -4.852553420035267,
                    -4.755021842748444,
                    -4.575869784906663,
                    -4.397825890693481,
                    -4.187848036938674,
                    -3.9998432889930844,
                    -3.8202002341439316,
                    -3.5868529863913756,
                    -3.337991343763721,
                    -3.122614306535848,
                    -2.766195657610524,
                    -2.5231704682400293,
                    -2.240297843453528,
                    -1.943879705051061,
                    -1.5703386947360345,
                    -1.3105666874940551,
                    -0.9738880385686166,
                    -0.4443546611593627
                  ]
                },
                {
                  "marker": {
                    "color": "rgb(255, 0, 0)",
                    "line": {
                      "color": "MediumPurple",
                      "width": 0.8
                    },
                    "opacity": 0.5,
                    "size": 11
                  },
                  "mode": "markers+text",
                  "name": "<b>Exp <b> <b>-30V<b> <b> (0V)<b>",
                  "text": [
                    "<b>VGS<b>=-30V  (0)"
                  ],
                  "textfont": {
                    "color": "rgb(255, 0, 0)",
                    "family": "Times New Roman",
                    "size": 18
                  },
                  "textposition": "top right",
                  "type": "scatter",
                  "x": [
                    -50,
                    -49.24812,
                    -48.68421,
                    -47.650375,
                    -46.710526,
                    -46.146618,
                    -45.11278,
                    -43.984962,
                    -42.857143,
                    -42.01128,
                    -40.977444,
                    -40.225563,
                    -38.909775,
                    -37.87594,
                    -37.030075,
                    -36.18421,
                    -35.150375,
                    -33.92857,
                    -32.98872,
                    -32.048874,
                    -31.109022,
                    -29.981203,
                    -28.853384,
                    -28.101503,
                    -27.067669,
                    -26.033834,
                    -25.18797,
                    -24.06015,
                    -22.932331,
                    -21.992481,
                    -20.864662,
                    -19.736841,
                    -18.703007,
                    -17.575188,
                    -16.541353,
                    -15.883459,
                    -15.037594,
                    -14.285714,
                    -13.25188,
                    -12.030075,
                    -11.37218,
                    -10.432331,
                    -9.304511,
                    -8.270677,
                    -7.330827,
                    -6.3909774,
                    -5.263158,
                    -4.3233085,
                    -3.2894738,
                    -2.1616542
                  ],
                  "y": [
                    -0.68421054,
                    -0.68421054,
                    -0.67105263,
                    -0.67105263,
                    -0.68421054,
                    -0.68421054,
                    -0.68421054,
                    -0.65789473,
                    -0.68421054,
                    -0.68421054,
                    -0.67105263,
                    -0.67105263,
                    -0.67105263,
                    -0.68421054,
                    -0.67105263,
                    -0.67105263,
                    -0.67105263,
                    -0.67105263,
                    -0.65789473,
                    -0.65789473,
                    -0.67105263,
                    -0.67105263,
                    -0.67105263,
                    -0.67105263,
                    -0.67105263,
                    -0.67105263,
                    -0.67105263,
                    -0.67105263,
                    -0.65789473,
                    -0.6447368,
                    -0.6447368,
                    -0.6447368,
                    -0.6447368,
                    -0.6184211,
                    -0.6184211,
                    -0.6184211,
                    -0.6184211,
                    -0.59210527,
                    -0.57894737,
                    -0.57894737,
                    -0.55263156,
                    -0.5394737,
                    -0.5263158,
                    -0.47368422,
                    -0.46052632,
                    -0.40789473,
                    -0.35526314,
                    -0.32894737,
                    -0.2631579,
                    -0.21052632
                  ]
                },
                {
                  "marker": {
                    "color": "rgb(0, 0, 255)",
                    "line": {
                      "color": "MediumPurple",
                      "width": 0.8
                    },
                    "opacity": 0.5,
                    "size": 11
                  },
                  "mode": "markers+text",
                  "name": "<b>Exp <b> <b>-40V<b> <b> (0V)<b>",
                  "text": [
                    "<b>VGS<b>=-40V  (0)"
                  ],
                  "textfont": {
                    "color": "rgb(0, 0, 255)",
                    "family": "Times New Roman",
                    "size": 18
                  },
                  "textposition": "top right",
                  "type": "scatter",
                  "x": [
                    -49.906013,
                    -48.778194,
                    -47.93233,
                    -46.898495,
                    -45.770676,
                    -44.924812,
                    -43.890976,
                    -43.1391,
                    -42.01128,
                    -40.977444,
                    -39.943607,
                    -39.00376,
                    -38.06391,
                    -37.030075,
                    -36.18421,
                    -34.304512,
                    -33.270676,
                    -32.142857,
                    -30.921053,
                    -29.135338,
                    -28.101503,
                    -26.785715,
                    -25.75188,
                    -24.718044,
                    -24.06015,
                    -23.214285,
                    -22.368422,
                    -21.428572,
                    -20.206766,
                    -19.078947,
                    -18.233082,
                    -17.105263,
                    -16.165413,
                    -15.225564,
                    -14.3797,
                    -12.969925,
                    -12.12406,
                    -11.184211,
                    -10.056391,
                    -9.304511,
                    -8.364661,
                    -7.142857,
                    -6.1090226,
                    -5.357143,
                    -4.3233085,
                    -3.4774437,
                    -2.3496242,
                    -1.5977443,
                    -0.7518797,
                    -0.18796992
                  ],
                  "y": [
                    -2.4868422,
                    -2.5,
                    -2.5131578,
                    -2.4868422,
                    -2.4736843,
                    -2.4736843,
                    -2.4868422,
                    -2.4868422,
                    -2.4868422,
                    -2.5,
                    -2.5,
                    -2.4605262,
                    -2.4736843,
                    -2.4736843,
                    -2.4868422,
                    -2.4605262,
                    -2.4605262,
                    -2.4605262,
                    -2.4605262,
                    -2.4078948,
                    -2.4210527,
                    -2.4078948,
                    -2.3947368,
                    -2.3552632,
                    -2.3552632,
                    -2.3289473,
                    -2.3289473,
                    -2.3157895,
                    -2.2894738,
                    -2.2368422,
                    -2.1973684,
                    -2.1578948,
                    -2.1052632,
                    -2.0526316,
                    -2.0131578,
                    -1.9342105,
                    -1.8421053,
                    -1.75,
                    -1.6315789,
                    -1.5526316,
                    -1.4078947,
                    -1.2894737,
                    -1.1184211,
                    -0.9868421,
                    -0.7894737,
                    -0.6315789,
                    -0.4473684,
                    -0.28947368,
                    -0.13157895,
                    0
                  ]
                },
                {
                  "marker": {
                    "color": "rgb(30, 144, 255)",
                    "line": {
                      "color": "MediumPurple",
                      "width": 0.8
                    },
                    "opacity": 0.5,
                    "size": 11
                  },
                  "mode": "markers+text",
                  "name": "<b>Exp <b> <b>-50V<b> <b> (0V)<b>",
                  "text": [
                    "<b>VGS<b>=-50V  (0)"
                  ],
                  "textfont": {
                    "color": "rgb(30, 144, 255)",
                    "family": "Times New Roman",
                    "size": 18
                  },
                  "textposition": "top right",
                  "type": "scatter",
                  "x": [
                    -50,
                    -49.24812,
                    -48.026318,
                    -47.18045,
                    -45.864662,
                    -44.830826,
                    -43.890976,
                    -42.857143,
                    -41.917294,
                    -40.789474,
                    -39.943607,
                    -39.097744,
                    -38.06391,
                    -37.030075,
                    -36.18421,
                    -35.24436,
                    -34.210526,
                    -32.894737,
                    -32.142857,
                    -31.109022,
                    -29.981203,
                    -29.229322,
                    -28.195488,
                    -27.067669,
                    -25.93985,
                    -25.18797,
                    -23.966166,
                    -23.026316,
                    -22.086466,
                    -21.146616,
                    -20.206766,
                    -19.266918,
                    -18.045113,
                    -17.387218,
                    -16.2594,
                    -15.225564,
                    -14.097744,
                    -13.157895,
                    -12.31203,
                    -11.278195,
                    -10.244361,
                    -9.398497,
                    -8.082706,
                    -7.236842,
                    -6.2969923,
                    -5.357143,
                    -4.2293234,
                    -3.4774437,
                    -2.537594,
                    -1.1278195
                  ],
                  "y": [
                    -6.2894735,
                    -6.2763157,
                    -6.2763157,
                    -6.2763157,
                    -6.2763157,
                    -6.25,
                    -6.25,
                    -6.2236843,
                    -6.2236843,
                    -6.2236843,
                    -6.1973686,
                    -6.1973686,
                    -6.1842103,
                    -6.1578946,
                    -6.118421,
                    -6.105263,
                    -6.0789475,
                    -6.0789475,
                    -6.0263157,
                    -6,
                    -5.9605265,
                    -5.881579,
                    -5.8421054,
                    -5.8026314,
                    -5.736842,
                    -5.644737,
                    -5.5657897,
                    -5.513158,
                    -5.355263,
                    -5.263158,
                    -5.1710525,
                    -5.0394735,
                    -4.881579,
                    -4.75,
                    -4.5657897,
                    -4.368421,
                    -4.1973686,
                    -4,
                    -3.7894738,
                    -3.5526316,
                    -3.2894738,
                    -3.0263157,
                    -2.7236843,
                    -2.4605262,
                    -2.131579,
                    -1.7894737,
                    -1.4736842,
                    -1.1315789,
                    -0.75,
                    -0.38157895
                  ]
                }
              ],
              "layout": {
                "height": 600,
                "legend": {
                  "font": {
                    "size": 16
                  }
                },
                "template": {
                  "data": {
                    "bar": [
                      {
                        "error_x": {
                          "color": "#2a3f5f"
                        },
                        "error_y": {
                          "color": "#2a3f5f"
                        },
                        "marker": {
                          "line": {
                            "color": "#E5ECF6",
                            "width": 0.5
                          },
                          "pattern": {
                            "fillmode": "overlay",
                            "size": 10,
                            "solidity": 0.2
                          }
                        },
                        "type": "bar"
                      }
                    ],
                    "barpolar": [
                      {
                        "marker": {
                          "line": {
                            "color": "#E5ECF6",
                            "width": 0.5
                          },
                          "pattern": {
                            "fillmode": "overlay",
                            "size": 10,
                            "solidity": 0.2
                          }
                        },
                        "type": "barpolar"
                      }
                    ],
                    "carpet": [
                      {
                        "aaxis": {
                          "endlinecolor": "#2a3f5f",
                          "gridcolor": "white",
                          "linecolor": "white",
                          "minorgridcolor": "white",
                          "startlinecolor": "#2a3f5f"
                        },
                        "baxis": {
                          "endlinecolor": "#2a3f5f",
                          "gridcolor": "white",
                          "linecolor": "white",
                          "minorgridcolor": "white",
                          "startlinecolor": "#2a3f5f"
                        },
                        "type": "carpet"
                      }
                    ],
                    "choropleth": [
                      {
                        "colorbar": {
                          "outlinewidth": 0,
                          "ticks": ""
                        },
                        "type": "choropleth"
                      }
                    ],
                    "contour": [
                      {
                        "colorbar": {
                          "outlinewidth": 0,
                          "ticks": ""
                        },
                        "colorscale": [
                          [
                            0,
                            "#0d0887"
                          ],
                          [
                            0.1111111111111111,
                            "#46039f"
                          ],
                          [
                            0.2222222222222222,
                            "#7201a8"
                          ],
                          [
                            0.3333333333333333,
                            "#9c179e"
                          ],
                          [
                            0.4444444444444444,
                            "#bd3786"
                          ],
                          [
                            0.5555555555555556,
                            "#d8576b"
                          ],
                          [
                            0.6666666666666666,
                            "#ed7953"
                          ],
                          [
                            0.7777777777777778,
                            "#fb9f3a"
                          ],
                          [
                            0.8888888888888888,
                            "#fdca26"
                          ],
                          [
                            1,
                            "#f0f921"
                          ]
                        ],
                        "type": "contour"
                      }
                    ],
                    "contourcarpet": [
                      {
                        "colorbar": {
                          "outlinewidth": 0,
                          "ticks": ""
                        },
                        "type": "contourcarpet"
                      }
                    ],
                    "heatmap": [
                      {
                        "colorbar": {
                          "outlinewidth": 0,
                          "ticks": ""
                        },
                        "colorscale": [
                          [
                            0,
                            "#0d0887"
                          ],
                          [
                            0.1111111111111111,
                            "#46039f"
                          ],
                          [
                            0.2222222222222222,
                            "#7201a8"
                          ],
                          [
                            0.3333333333333333,
                            "#9c179e"
                          ],
                          [
                            0.4444444444444444,
                            "#bd3786"
                          ],
                          [
                            0.5555555555555556,
                            "#d8576b"
                          ],
                          [
                            0.6666666666666666,
                            "#ed7953"
                          ],
                          [
                            0.7777777777777778,
                            "#fb9f3a"
                          ],
                          [
                            0.8888888888888888,
                            "#fdca26"
                          ],
                          [
                            1,
                            "#f0f921"
                          ]
                        ],
                        "type": "heatmap"
                      }
                    ],
                    "heatmapgl": [
                      {
                        "colorbar": {
                          "outlinewidth": 0,
                          "ticks": ""
                        },
                        "colorscale": [
                          [
                            0,
                            "#0d0887"
                          ],
                          [
                            0.1111111111111111,
                            "#46039f"
                          ],
                          [
                            0.2222222222222222,
                            "#7201a8"
                          ],
                          [
                            0.3333333333333333,
                            "#9c179e"
                          ],
                          [
                            0.4444444444444444,
                            "#bd3786"
                          ],
                          [
                            0.5555555555555556,
                            "#d8576b"
                          ],
                          [
                            0.6666666666666666,
                            "#ed7953"
                          ],
                          [
                            0.7777777777777778,
                            "#fb9f3a"
                          ],
                          [
                            0.8888888888888888,
                            "#fdca26"
                          ],
                          [
                            1,
                            "#f0f921"
                          ]
                        ],
                        "type": "heatmapgl"
                      }
                    ],
                    "histogram": [
                      {
                        "marker": {
                          "pattern": {
                            "fillmode": "overlay",
                            "size": 10,
                            "solidity": 0.2
                          }
                        },
                        "type": "histogram"
                      }
                    ],
                    "histogram2d": [
                      {
                        "colorbar": {
                          "outlinewidth": 0,
                          "ticks": ""
                        },
                        "colorscale": [
                          [
                            0,
                            "#0d0887"
                          ],
                          [
                            0.1111111111111111,
                            "#46039f"
                          ],
                          [
                            0.2222222222222222,
                            "#7201a8"
                          ],
                          [
                            0.3333333333333333,
                            "#9c179e"
                          ],
                          [
                            0.4444444444444444,
                            "#bd3786"
                          ],
                          [
                            0.5555555555555556,
                            "#d8576b"
                          ],
                          [
                            0.6666666666666666,
                            "#ed7953"
                          ],
                          [
                            0.7777777777777778,
                            "#fb9f3a"
                          ],
                          [
                            0.8888888888888888,
                            "#fdca26"
                          ],
                          [
                            1,
                            "#f0f921"
                          ]
                        ],
                        "type": "histogram2d"
                      }
                    ],
                    "histogram2dcontour": [
                      {
                        "colorbar": {
                          "outlinewidth": 0,
                          "ticks": ""
                        },
                        "colorscale": [
                          [
                            0,
                            "#0d0887"
                          ],
                          [
                            0.1111111111111111,
                            "#46039f"
                          ],
                          [
                            0.2222222222222222,
                            "#7201a8"
                          ],
                          [
                            0.3333333333333333,
                            "#9c179e"
                          ],
                          [
                            0.4444444444444444,
                            "#bd3786"
                          ],
                          [
                            0.5555555555555556,
                            "#d8576b"
                          ],
                          [
                            0.6666666666666666,
                            "#ed7953"
                          ],
                          [
                            0.7777777777777778,
                            "#fb9f3a"
                          ],
                          [
                            0.8888888888888888,
                            "#fdca26"
                          ],
                          [
                            1,
                            "#f0f921"
                          ]
                        ],
                        "type": "histogram2dcontour"
                      }
                    ],
                    "mesh3d": [
                      {
                        "colorbar": {
                          "outlinewidth": 0,
                          "ticks": ""
                        },
                        "type": "mesh3d"
                      }
                    ],
                    "parcoords": [
                      {
                        "line": {
                          "colorbar": {
                            "outlinewidth": 0,
                            "ticks": ""
                          }
                        },
                        "type": "parcoords"
                      }
                    ],
                    "pie": [
                      {
                        "automargin": true,
                        "type": "pie"
                      }
                    ],
                    "scatter": [
                      {
                        "fillpattern": {
                          "fillmode": "overlay",
                          "size": 10,
                          "solidity": 0.2
                        },
                        "type": "scatter"
                      }
                    ],
                    "scatter3d": [
                      {
                        "line": {
                          "colorbar": {
                            "outlinewidth": 0,
                            "ticks": ""
                          }
                        },
                        "marker": {
                          "colorbar": {
                            "outlinewidth": 0,
                            "ticks": ""
                          }
                        },
                        "type": "scatter3d"
                      }
                    ],
                    "scattercarpet": [
                      {
                        "marker": {
                          "colorbar": {
                            "outlinewidth": 0,
                            "ticks": ""
                          }
                        },
                        "type": "scattercarpet"
                      }
                    ],
                    "scattergeo": [
                      {
                        "marker": {
                          "colorbar": {
                            "outlinewidth": 0,
                            "ticks": ""
                          }
                        },
                        "type": "scattergeo"
                      }
                    ],
                    "scattergl": [
                      {
                        "marker": {
                          "colorbar": {
                            "outlinewidth": 0,
                            "ticks": ""
                          }
                        },
                        "type": "scattergl"
                      }
                    ],
                    "scattermapbox": [
                      {
                        "marker": {
                          "colorbar": {
                            "outlinewidth": 0,
                            "ticks": ""
                          }
                        },
                        "type": "scattermapbox"
                      }
                    ],
                    "scatterpolar": [
                      {
                        "marker": {
                          "colorbar": {
                            "outlinewidth": 0,
                            "ticks": ""
                          }
                        },
                        "type": "scatterpolar"
                      }
                    ],
                    "scatterpolargl": [
                      {
                        "marker": {
                          "colorbar": {
                            "outlinewidth": 0,
                            "ticks": ""
                          }
                        },
                        "type": "scatterpolargl"
                      }
                    ],
                    "scatterternary": [
                      {
                        "marker": {
                          "colorbar": {
                            "outlinewidth": 0,
                            "ticks": ""
                          }
                        },
                        "type": "scatterternary"
                      }
                    ],
                    "surface": [
                      {
                        "colorbar": {
                          "outlinewidth": 0,
                          "ticks": ""
                        },
                        "colorscale": [
                          [
                            0,
                            "#0d0887"
                          ],
                          [
                            0.1111111111111111,
                            "#46039f"
                          ],
                          [
                            0.2222222222222222,
                            "#7201a8"
                          ],
                          [
                            0.3333333333333333,
                            "#9c179e"
                          ],
                          [
                            0.4444444444444444,
                            "#bd3786"
                          ],
                          [
                            0.5555555555555556,
                            "#d8576b"
                          ],
                          [
                            0.6666666666666666,
                            "#ed7953"
                          ],
                          [
                            0.7777777777777778,
                            "#fb9f3a"
                          ],
                          [
                            0.8888888888888888,
                            "#fdca26"
                          ],
                          [
                            1,
                            "#f0f921"
                          ]
                        ],
                        "type": "surface"
                      }
                    ],
                    "table": [
                      {
                        "cells": {
                          "fill": {
                            "color": "#EBF0F8"
                          },
                          "line": {
                            "color": "white"
                          }
                        },
                        "header": {
                          "fill": {
                            "color": "#C8D4E3"
                          },
                          "line": {
                            "color": "white"
                          }
                        },
                        "type": "table"
                      }
                    ]
                  },
                  "layout": {
                    "annotationdefaults": {
                      "arrowcolor": "#2a3f5f",
                      "arrowhead": 0,
                      "arrowwidth": 1
                    },
                    "autotypenumbers": "strict",
                    "coloraxis": {
                      "colorbar": {
                        "outlinewidth": 0,
                        "ticks": ""
                      }
                    },
                    "colorscale": {
                      "diverging": [
                        [
                          0,
                          "#8e0152"
                        ],
                        [
                          0.1,
                          "#c51b7d"
                        ],
                        [
                          0.2,
                          "#de77ae"
                        ],
                        [
                          0.3,
                          "#f1b6da"
                        ],
                        [
                          0.4,
                          "#fde0ef"
                        ],
                        [
                          0.5,
                          "#f7f7f7"
                        ],
                        [
                          0.6,
                          "#e6f5d0"
                        ],
                        [
                          0.7,
                          "#b8e186"
                        ],
                        [
                          0.8,
                          "#7fbc41"
                        ],
                        [
                          0.9,
                          "#4d9221"
                        ],
                        [
                          1,
                          "#276419"
                        ]
                      ],
                      "sequential": [
                        [
                          0,
                          "#0d0887"
                        ],
                        [
                          0.1111111111111111,
                          "#46039f"
                        ],
                        [
                          0.2222222222222222,
                          "#7201a8"
                        ],
                        [
                          0.3333333333333333,
                          "#9c179e"
                        ],
                        [
                          0.4444444444444444,
                          "#bd3786"
                        ],
                        [
                          0.5555555555555556,
                          "#d8576b"
                        ],
                        [
                          0.6666666666666666,
                          "#ed7953"
                        ],
                        [
                          0.7777777777777778,
                          "#fb9f3a"
                        ],
                        [
                          0.8888888888888888,
                          "#fdca26"
                        ],
                        [
                          1,
                          "#f0f921"
                        ]
                      ],
                      "sequentialminus": [
                        [
                          0,
                          "#0d0887"
                        ],
                        [
                          0.1111111111111111,
                          "#46039f"
                        ],
                        [
                          0.2222222222222222,
                          "#7201a8"
                        ],
                        [
                          0.3333333333333333,
                          "#9c179e"
                        ],
                        [
                          0.4444444444444444,
                          "#bd3786"
                        ],
                        [
                          0.5555555555555556,
                          "#d8576b"
                        ],
                        [
                          0.6666666666666666,
                          "#ed7953"
                        ],
                        [
                          0.7777777777777778,
                          "#fb9f3a"
                        ],
                        [
                          0.8888888888888888,
                          "#fdca26"
                        ],
                        [
                          1,
                          "#f0f921"
                        ]
                      ]
                    },
                    "colorway": [
                      "#636efa",
                      "#EF553B",
                      "#00cc96",
                      "#ab63fa",
                      "#FFA15A",
                      "#19d3f3",
                      "#FF6692",
                      "#B6E880",
                      "#FF97FF",
                      "#FECB52"
                    ],
                    "font": {
                      "color": "#2a3f5f"
                    },
                    "geo": {
                      "bgcolor": "white",
                      "lakecolor": "white",
                      "landcolor": "#E5ECF6",
                      "showlakes": true,
                      "showland": true,
                      "subunitcolor": "white"
                    },
                    "hoverlabel": {
                      "align": "left"
                    },
                    "hovermode": "closest",
                    "mapbox": {
                      "style": "light"
                    },
                    "paper_bgcolor": "white",
                    "plot_bgcolor": "#E5ECF6",
                    "polar": {
                      "angularaxis": {
                        "gridcolor": "white",
                        "linecolor": "white",
                        "ticks": ""
                      },
                      "bgcolor": "#E5ECF6",
                      "radialaxis": {
                        "gridcolor": "white",
                        "linecolor": "white",
                        "ticks": ""
                      }
                    },
                    "scene": {
                      "xaxis": {
                        "backgroundcolor": "#E5ECF6",
                        "gridcolor": "white",
                        "gridwidth": 2,
                        "linecolor": "white",
                        "showbackground": true,
                        "ticks": "",
                        "zerolinecolor": "white"
                      },
                      "yaxis": {
                        "backgroundcolor": "#E5ECF6",
                        "gridcolor": "white",
                        "gridwidth": 2,
                        "linecolor": "white",
                        "showbackground": true,
                        "ticks": "",
                        "zerolinecolor": "white"
                      },
                      "zaxis": {
                        "backgroundcolor": "#E5ECF6",
                        "gridcolor": "white",
                        "gridwidth": 2,
                        "linecolor": "white",
                        "showbackground": true,
                        "ticks": "",
                        "zerolinecolor": "white"
                      }
                    },
                    "shapedefaults": {
                      "line": {
                        "color": "#2a3f5f"
                      }
                    },
                    "ternary": {
                      "aaxis": {
                        "gridcolor": "white",
                        "linecolor": "white",
                        "ticks": ""
                      },
                      "baxis": {
                        "gridcolor": "white",
                        "linecolor": "white",
                        "ticks": ""
                      },
                      "bgcolor": "#E5ECF6",
                      "caxis": {
                        "gridcolor": "white",
                        "linecolor": "white",
                        "ticks": ""
                      }
                    },
                    "title": {
                      "x": 0.05
                    },
                    "xaxis": {
                      "automargin": true,
                      "gridcolor": "white",
                      "linecolor": "white",
                      "ticks": "",
                      "title": {
                        "standoff": 15
                      },
                      "zerolinecolor": "white",
                      "zerolinewidth": 2
                    },
                    "yaxis": {
                      "automargin": true,
                      "gridcolor": "white",
                      "linecolor": "white",
                      "ticks": "",
                      "title": {
                        "standoff": 15
                      },
                      "zerolinecolor": "white",
                      "zerolinewidth": 2
                    }
                  }
                },
                "title": {
                  "font": {
                    "color": "black",
                    "family": "Overpass",
                    "size": 25
                  },
                  "text": "<b>Model Vs Model Optimazed<b>",
                  "x": 0.45,
                  "y": 0.9
                },
                "width": 1100,
                "xaxis": {
                  "title": {
                    "font": {
                      "color": "black",
                      "family": "Overpass",
                      "size": 25
                    },
                    "standoff": 25,
                    "text": "<b>VDS / V<b>"
                  }
                },
                "yaxis": {
                  "title": {
                    "font": {
                      "color": "black",
                      "family": "Overpass",
                      "size": 25
                    },
                    "standoff": 10,
                    "text": "<b>ID / uA<b>"
                  },
                  "type": "linear"
                }
              }
            }
          },
          "metadata": {},
          "output_type": "display_data"
        },
        {
          "name": "stdout",
          "output_type": "stream",
          "text": [
            "\n",
            "**************************************************************************************************************************************************\n",
            "\n",
            "|RELATIVE ERROR BETWEEN CURVES: 9738880909.5517\n",
            "\n",
            "**************************************************************************************************************************************************\n",
            "\n",
            "\n",
            "\n",
            "\n",
            "\n",
            "\n"
          ]
        }
      ],
      "source": [
        "# @title #### **Print grafics plots of model Optimizad and model data.** { run: \"auto\" }\n",
        "# @markdown ### ***Choice the plot that you want to view:***\n",
        "# @markdown ---\n",
        "\n",
        "# cria novos modelos com o coefficietes otimizados para comparar com os iniciais\n",
        "model_opt = read.create_models_datas(TFTModel, n_points, type_curve_plot, coeff_opt,\n",
        "                                     input_voltage, Vv, load_idleak, width_t, count_transfer,\n",
        "                                     tp_tst=tp_tst, scale_factor=scale_trfr, current_typic=curr_typic,\n",
        "                                     res=resistance, curr=current)\n",
        "\n",
        "# Faz a leitura dos dados experimentais e do modelo (de transferencia) a serem exibidos no gráfico\n",
        "in_model_data_opt, in_exp_data_opt = read.group_by_trasfer(count_transfer, Vv, Id, model_opt)\n",
        "\n",
        "\n",
        "# Faz a leitura dos dados experimentais e do modelo (de saída) a serem exibidos no gráfico\n",
        "out_model_data_opt, out_exp_data_opt = read.group_by_output(count_output,count_transfer, Vv, Id, model_opt)\n",
        "\n",
        "\n",
        "#inserindo as curvas do modelo e experimentais, para visualizar se há muita discrepancia na otimização\n",
        "in_model_data_comp, in_exp_data_comp =  read.group_by_trasfer(count_transfer, Vv, Id, model, model_opt, compare=True)\n",
        "\n",
        "\n",
        "#inserindo as curvas do modelo e experimentais, para visualizar se há muita discrepancia na otimização\n",
        "out_model_data_comp, out_exp_data_comp = read.group_by_output(count_output, count_transfer, Vv, Id, model, model_opt, compare=True)\n",
        "\n",
        "\n",
        "option = 'show both curves comp' # @param [\"Show Transfer curve opt\", \"Show output curve opt\", \"show both curves opt\", \"Show Transfer curve comp\", \"Show output curve comp\", \"show both curves comp\"]\n",
        "\n",
        "if option == 'Show Transfer curve opt':\n",
        "  plot.plot_vgs_vds(list_tension, list_tension_shift, 0, count_transfer,\n",
        "                    in_model_data_opt, shift_list, select_files, *in_exp_data_opt, sample_unit=curr_typic, plot_type=type_curve_plot)\n",
        "\n",
        "elif option == 'Show output curve opt':\n",
        "  plot.plot_vgs_vds(list_tension, list_tension_shift, 1, count_transfer,\n",
        "                    out_model_data_opt, shift_list, select_files, *out_exp_data_opt, sample_unit=curr_typic)\n",
        "\n",
        "elif option == 'show both curves opt':\n",
        "  plot.plot_vgs_vds(list_tension, list_tension_shift, 0, count_transfer,\n",
        "                    in_model_data_opt, shift_list, select_files, *in_exp_data_opt, sample_unit=curr_typic, plot_type=type_curve_plot)\n",
        "  print()\n",
        "  plot.plot_vgs_vds(list_tension, list_tension_shift, 1, count_transfer,\n",
        "                    out_model_data_opt, shift_list, select_files, *out_exp_data_opt, sample_unit=curr_typic)\n",
        "\n",
        "elif option == 'Show Transfer curve comp':\n",
        "  plot.plot_vgs_vds(list_tension, list_tension_shift, 0, count_transfer, in_model_data_comp, shift_list, select_files,\n",
        "                    *in_exp_data_comp, sample_unit=curr_typic, plot_type=type_curve_plot, compare=True)\n",
        "\n",
        "elif option == 'Show output curve comp':\n",
        "  plot.plot_vgs_vds(list_tension, list_tension_shift, 1, count_transfer, out_model_data_comp, shift_list, select_files,\n",
        "                    *out_exp_data_comp, sample_unit=curr_typic, compare=True)\n",
        "\n",
        "\n",
        "elif option == 'show both curves comp':\n",
        "  plot.plot_vgs_vds(list_tension, list_tension_shift, 0, count_transfer, in_model_data_comp, shift_list, select_files,\n",
        "                    *in_exp_data_comp, sample_unit=curr_typic, plot_type=type_curve_plot, compare=True)\n",
        "  print()\n",
        "  plot.plot_vgs_vds(list_tension, list_tension_shift, 1, count_transfer, out_model_data_comp, shift_list, select_files,\n",
        "                    *out_exp_data_comp, sample_unit=curr_typic, compare=True)\n",
        "\n",
        "else:\n",
        "  print(\"No option choice\\n\")\n",
        "\n",
        "print()\n",
        "read.compute_relative_distance(Id, model_opt)\n",
        "print('\\n\\n\\n\\n\\n')\n"
      ]
    }
  ],
  "metadata": {
    "colab": {
      "collapsed_sections": [
        "teoZkrLIvxaV",
        "HfZC11MavqP5",
        "Kw3wbLglv07J",
        "IHBDOV5ZwCml",
        "c0Jt9A63whok",
        "kSdWoeRx5pob",
        "yMkpHlhivMmv",
        "Lz9YHSiMvVFb",
        "WYpRFYGbu6oH",
        "cXKg5hS-drnb"
      ],
      "provenance": []
    },
    "kernelspec": {
      "display_name": "Python 3",
      "name": "python3"
    },
    "language_info": {
      "codemirror_mode": {
        "name": "ipython",
        "version": 3
      },
      "file_extension": ".py",
      "mimetype": "text/x-python",
      "name": "python",
      "nbconvert_exporter": "python",
      "pygments_lexer": "ipython3",
      "version": "3.12.3"
    }
  },
  "nbformat": 4,
  "nbformat_minor": 0
}
